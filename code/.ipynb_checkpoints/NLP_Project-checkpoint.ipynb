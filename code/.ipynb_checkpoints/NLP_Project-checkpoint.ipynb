{
 "cells": [
  {
   "cell_type": "code",
   "execution_count": 1,
   "id": "507b8b7c",
   "metadata": {},
   "outputs": [],
   "source": [
    "import pandas as pd\n",
    "import numpy as np\n",
    "import sklearn\n",
    "import seaborn as sns\n",
    "import matplotlib.pyplot as plt\n",
    "from sklearn.model_selection import train_test_split\n",
    "%matplotlib inline\n",
    "import warnings\n",
    "warnings.filterwarnings('ignore')"
   ]
  },
  {
   "cell_type": "code",
   "execution_count": 2,
   "id": "63857119",
   "metadata": {},
   "outputs": [
    {
     "data": {
      "text/html": [
       "<div>\n",
       "<style scoped>\n",
       "    .dataframe tbody tr th:only-of-type {\n",
       "        vertical-align: middle;\n",
       "    }\n",
       "\n",
       "    .dataframe tbody tr th {\n",
       "        vertical-align: top;\n",
       "    }\n",
       "\n",
       "    .dataframe thead th {\n",
       "        text-align: right;\n",
       "    }\n",
       "</style>\n",
       "<table border=\"1\" class=\"dataframe\">\n",
       "  <thead>\n",
       "    <tr style=\"text-align: right;\">\n",
       "      <th></th>\n",
       "      <th>links</th>\n",
       "      <th>court</th>\n",
       "      <th>court_id</th>\n",
       "      <th>court_date</th>\n",
       "      <th>appeal_court</th>\n",
       "      <th>appeal_id</th>\n",
       "      <th>appeal_date</th>\n",
       "      <th>region</th>\n",
       "      <th>city</th>\n",
       "      <th>judgment_text</th>\n",
       "      <th>appeal_text</th>\n",
       "    </tr>\n",
       "  </thead>\n",
       "  <tbody>\n",
       "    <tr>\n",
       "      <th>0</th>\n",
       "      <td>القضية رقم  ٤٦٤٦ لعام ١٤٤٢ هـ</td>\n",
       "      <td>المحكمة: المحكمة التجارية</td>\n",
       "      <td>رقم القضية - القرار: ٤٦٤٦</td>\n",
       "      <td>تاريخها: ٩/١/١٤٤٣</td>\n",
       "      <td>محكمة الاستئناف: المحكمة التجارية</td>\n",
       "      <td>رقم القرار: ٧٨٥</td>\n",
       "      <td>تاريخه: ٧/٣/١٤٤٣</td>\n",
       "      <td>المدينة: منطقة الرياض</td>\n",
       "      <td>المدينه: الرياض</td>\n",
       "      <td>الحمد لله والصلاة والسلام على رسول ﷲ أما بعد:\\...</td>\n",
       "      <td>الحمد لله والصلاة والسلام على رسول ﷲ أما بعد:\\...</td>\n",
       "    </tr>\n",
       "    <tr>\n",
       "      <th>1</th>\n",
       "      <td>القضية رقم  ٦٩٥٨ لعام ١٤٤٢ هـ</td>\n",
       "      <td>المحكمة: المحكمة التجارية</td>\n",
       "      <td>رقم القضية - القرار: ٦٩٥٨</td>\n",
       "      <td>تاريخها: ٢٥/١٢/١٤٤٢</td>\n",
       "      <td>محكمة الاستئناف: المحكمة التجارية</td>\n",
       "      <td>رقم القرار: ٥٤٦</td>\n",
       "      <td>تاريخه: ٦/٣/١٤٤٣</td>\n",
       "      <td>المدينة: منطقة الرياض</td>\n",
       "      <td>المدينه: الرياض</td>\n",
       "      <td>الحمد لله والصلاة والسلام على رسول ﷲ أما بعد:\\...</td>\n",
       "      <td>الحمد لله والصلاة والسلام على رسول ﷲ أما بعد:\\...</td>\n",
       "    </tr>\n",
       "    <tr>\n",
       "      <th>2</th>\n",
       "      <td>القضية رقم  ٦٦٠٧ لعام ١٤٤٢ هـ</td>\n",
       "      <td>المحكمة: المحكمة التجارية</td>\n",
       "      <td>رقم القضية - القرار: ٦٦٠٧</td>\n",
       "      <td>تاريخها: ٩/١/١٤٤٣</td>\n",
       "      <td>محكمة الاستئناف: المحكمة التجارية</td>\n",
       "      <td>رقم القرار: ٧٩٠</td>\n",
       "      <td>تاريخه: ٧/٣/١٤٤٣</td>\n",
       "      <td>المدينة: منطقة الرياض</td>\n",
       "      <td>المدينه: الرياض</td>\n",
       "      <td>الحمد لله والصلاة والسلام على رسول ﷲ أما بعد:\\...</td>\n",
       "      <td>الحمد لله والصلاة والسلام على رسول ﷲ أما بعد:\\...</td>\n",
       "    </tr>\n",
       "    <tr>\n",
       "      <th>3</th>\n",
       "      <td>القضية رقم  ٤٣٣١ لعام ١٤٤٢ هـ</td>\n",
       "      <td>المحكمة: المحكمة التجارية</td>\n",
       "      <td>رقم القضية - القرار: ٤٣٣١</td>\n",
       "      <td>تاريخها: ١٨/١١/١٤٤٢</td>\n",
       "      <td>محكمة الاستئناف: المحكمة التجارية</td>\n",
       "      <td>رقم القرار: ٣٧</td>\n",
       "      <td>تاريخه: ٧/٣/١٤٤٣</td>\n",
       "      <td>المدينة: منطقة الرياض</td>\n",
       "      <td>المدينه: الرياض</td>\n",
       "      <td>الحمد لله والصلاة والسلام على رسول ﷲ أما بعد:\\...</td>\n",
       "      <td>الحمد لله والصلاة والسلام على رسول ﷲ أما بعد:\\...</td>\n",
       "    </tr>\n",
       "    <tr>\n",
       "      <th>4</th>\n",
       "      <td>القضية رقم  ٩٣٩٩ لعام ١٤٤١ هـ</td>\n",
       "      <td>المحكمة: المحكمة التجارية</td>\n",
       "      <td>رقم القضية - القرار: ٩٣٩٩</td>\n",
       "      <td>تاريخها: ١٥/١٠/١٤٤٢</td>\n",
       "      <td>محكمة الاستئناف: المحكمة التجارية</td>\n",
       "      <td>رقم القرار: ٥٣٤٣</td>\n",
       "      <td>تاريخه: ٦/٣/١٤٤٣</td>\n",
       "      <td>المدينة: منطقة الرياض</td>\n",
       "      <td>المدينه: الرياض</td>\n",
       "      <td>الحمد لله والصلاة والسلام على رسول ﷲ أما بعد:\\...</td>\n",
       "      <td>الحمد لله والصلاة والسلام على رسول ﷲ أما بعد:\\...</td>\n",
       "    </tr>\n",
       "    <tr>\n",
       "      <th>...</th>\n",
       "      <td>...</td>\n",
       "      <td>...</td>\n",
       "      <td>...</td>\n",
       "      <td>...</td>\n",
       "      <td>...</td>\n",
       "      <td>...</td>\n",
       "      <td>...</td>\n",
       "      <td>...</td>\n",
       "      <td>...</td>\n",
       "      <td>...</td>\n",
       "      <td>...</td>\n",
       "    </tr>\n",
       "    <tr>\n",
       "      <th>208</th>\n",
       "      <td>القضية رقم  ٤٧٠٧ لعام ١٤٤٢ هـ</td>\n",
       "      <td>المحكمة: المحكمة التجارية</td>\n",
       "      <td>رقم القضية - القرار: ٤٧٠٧</td>\n",
       "      <td>تاريخها: ١٨/١٢/١٤٤٢</td>\n",
       "      <td>محكمة الاستئناف: المحكمة التجارية</td>\n",
       "      <td>رقم القرار: ٣٣٥</td>\n",
       "      <td>تاريخه: ٨/٢/١٤٤٣</td>\n",
       "      <td>المدينة: منطقة الرياض</td>\n",
       "      <td>المدينه: الرياض</td>\n",
       "      <td>الحمد لله والصلاة والسلام على رسول ﷲ أما بعد:\\...</td>\n",
       "      <td>الحمد لله والصلاة والسلام على رسول ﷲ أما بعد:\\...</td>\n",
       "    </tr>\n",
       "    <tr>\n",
       "      <th>209</th>\n",
       "      <td>قرار الدائرة الخامسة بالمحكمة العليا رقم ٤٣٨٥٠...</td>\n",
       "      <td>المحكمة: المحكمة العليا -  الهيئة الدائمة</td>\n",
       "      <td>رقم القضية - القرار: ٤٣٨٥٠</td>\n",
       "      <td>تاريخها: ١٢/٢/١٤٤٣</td>\n",
       "      <td>NaN</td>\n",
       "      <td>NaN</td>\n",
       "      <td>NaN</td>\n",
       "      <td>NaN</td>\n",
       "      <td>المدينه: الرياض</td>\n",
       "      <td>الحمد لله وحده والصلاة والسلام على نبينا محمد ...</td>\n",
       "      <td>NaN</td>\n",
       "    </tr>\n",
       "    <tr>\n",
       "      <th>210</th>\n",
       "      <td>القضية رقم  ١١١٠ لعام ١٤٤٢ هـ</td>\n",
       "      <td>المحكمة: المحكمة التجارية</td>\n",
       "      <td>رقم القضية - القرار: ١١١٠</td>\n",
       "      <td>تاريخها: ١٤/٩/١٤٤٢</td>\n",
       "      <td>محكمة الاستئناف: المحكمة التجارية</td>\n",
       "      <td>رقم القرار: ٥١٥٩</td>\n",
       "      <td>تاريخه: ٨/٢/١٤٤٣</td>\n",
       "      <td>المدينة: منطقة الرياض</td>\n",
       "      <td>المدينه: الرياض</td>\n",
       "      <td>الحمد لله والصلاة والسلام على رسول ﷲ أما بعد:\\...</td>\n",
       "      <td>الحمد لله والصلاة والسلام على رسول ﷲ أما بعد:\\...</td>\n",
       "    </tr>\n",
       "    <tr>\n",
       "      <th>211</th>\n",
       "      <td>القضية رقم ١٥٨٢ لعام ١٤٤١ ه</td>\n",
       "      <td>المحكمة: المحكمة التجارية</td>\n",
       "      <td>رقم القضية - القرار: ١٥٨٢</td>\n",
       "      <td>تاريخها: ٢/١٢/١٤٤٢</td>\n",
       "      <td>محكمة الاستئناف: محكمة الاستئناف</td>\n",
       "      <td>رقم القرار: ١٣٦</td>\n",
       "      <td>تاريخه: ٧/٢/١٤٤٣</td>\n",
       "      <td>المدينة: المنطقة الشرقية</td>\n",
       "      <td>المدينه: الدمام</td>\n",
       "      <td>الحمد لله والصلاة والسلام على رسول ﷲ أما بعد:\\...</td>\n",
       "      <td>الحمد لله والصلاة والسلام على رسول ﷲ أما بعد:\\...</td>\n",
       "    </tr>\n",
       "    <tr>\n",
       "      <th>212</th>\n",
       "      <td>قرار الدائرة الخامسة بالمحكمة العليا رقم ٤٣٨٦١...</td>\n",
       "      <td>المحكمة: المحكمة العليا -  الهيئة الدائمة</td>\n",
       "      <td>رقم القضية - القرار: ٤٣٨٦١</td>\n",
       "      <td>تاريخها: ١٢/٢/١٤٤٣</td>\n",
       "      <td>NaN</td>\n",
       "      <td>NaN</td>\n",
       "      <td>NaN</td>\n",
       "      <td>NaN</td>\n",
       "      <td>المدينه: الرياض</td>\n",
       "      <td>الحمد لله وحده والصلاة والسلام على نبينا محمد ...</td>\n",
       "      <td>NaN</td>\n",
       "    </tr>\n",
       "  </tbody>\n",
       "</table>\n",
       "<p>213 rows × 11 columns</p>\n",
       "</div>"
      ],
      "text/plain": [
       "                                                 links  \\\n",
       "0                        القضية رقم  ٤٦٤٦ لعام ١٤٤٢ هـ   \n",
       "1                        القضية رقم  ٦٩٥٨ لعام ١٤٤٢ هـ   \n",
       "2                        القضية رقم  ٦٦٠٧ لعام ١٤٤٢ هـ   \n",
       "3                        القضية رقم  ٤٣٣١ لعام ١٤٤٢ هـ   \n",
       "4                        القضية رقم  ٩٣٩٩ لعام ١٤٤١ هـ   \n",
       "..                                                 ...   \n",
       "208                      القضية رقم  ٤٧٠٧ لعام ١٤٤٢ هـ   \n",
       "209  قرار الدائرة الخامسة بالمحكمة العليا رقم ٤٣٨٥٠...   \n",
       "210                      القضية رقم  ١١١٠ لعام ١٤٤٢ هـ   \n",
       "211                        القضية رقم ١٥٨٢ لعام ١٤٤١ ه   \n",
       "212  قرار الدائرة الخامسة بالمحكمة العليا رقم ٤٣٨٦١...   \n",
       "\n",
       "                                         court                    court_id  \\\n",
       "0                    المحكمة: المحكمة التجارية   رقم القضية - القرار: ٤٦٤٦   \n",
       "1                    المحكمة: المحكمة التجارية   رقم القضية - القرار: ٦٩٥٨   \n",
       "2                    المحكمة: المحكمة التجارية   رقم القضية - القرار: ٦٦٠٧   \n",
       "3                    المحكمة: المحكمة التجارية   رقم القضية - القرار: ٤٣٣١   \n",
       "4                    المحكمة: المحكمة التجارية   رقم القضية - القرار: ٩٣٩٩   \n",
       "..                                         ...                         ...   \n",
       "208                  المحكمة: المحكمة التجارية   رقم القضية - القرار: ٤٧٠٧   \n",
       "209  المحكمة: المحكمة العليا -  الهيئة الدائمة  رقم القضية - القرار: ٤٣٨٥٠   \n",
       "210                  المحكمة: المحكمة التجارية   رقم القضية - القرار: ١١١٠   \n",
       "211                  المحكمة: المحكمة التجارية   رقم القضية - القرار: ١٥٨٢   \n",
       "212  المحكمة: المحكمة العليا -  الهيئة الدائمة  رقم القضية - القرار: ٤٣٨٦١   \n",
       "\n",
       "              court_date                       appeal_court         appeal_id  \\\n",
       "0      تاريخها: ٩/١/١٤٤٣  محكمة الاستئناف: المحكمة التجارية   رقم القرار: ٧٨٥   \n",
       "1    تاريخها: ٢٥/١٢/١٤٤٢  محكمة الاستئناف: المحكمة التجارية   رقم القرار: ٥٤٦   \n",
       "2      تاريخها: ٩/١/١٤٤٣  محكمة الاستئناف: المحكمة التجارية   رقم القرار: ٧٩٠   \n",
       "3    تاريخها: ١٨/١١/١٤٤٢  محكمة الاستئناف: المحكمة التجارية    رقم القرار: ٣٧   \n",
       "4    تاريخها: ١٥/١٠/١٤٤٢  محكمة الاستئناف: المحكمة التجارية  رقم القرار: ٥٣٤٣   \n",
       "..                   ...                                ...               ...   \n",
       "208  تاريخها: ١٨/١٢/١٤٤٢  محكمة الاستئناف: المحكمة التجارية   رقم القرار: ٣٣٥   \n",
       "209   تاريخها: ١٢/٢/١٤٤٣                                NaN               NaN   \n",
       "210   تاريخها: ١٤/٩/١٤٤٢  محكمة الاستئناف: المحكمة التجارية  رقم القرار: ٥١٥٩   \n",
       "211   تاريخها: ٢/١٢/١٤٤٢   محكمة الاستئناف: محكمة الاستئناف   رقم القرار: ١٣٦   \n",
       "212   تاريخها: ١٢/٢/١٤٤٣                                NaN               NaN   \n",
       "\n",
       "          appeal_date                    region             city  \\\n",
       "0    تاريخه: ٧/٣/١٤٤٣     المدينة: منطقة الرياض  المدينه: الرياض   \n",
       "1    تاريخه: ٦/٣/١٤٤٣     المدينة: منطقة الرياض  المدينه: الرياض   \n",
       "2    تاريخه: ٧/٣/١٤٤٣     المدينة: منطقة الرياض  المدينه: الرياض   \n",
       "3    تاريخه: ٧/٣/١٤٤٣     المدينة: منطقة الرياض  المدينه: الرياض   \n",
       "4    تاريخه: ٦/٣/١٤٤٣     المدينة: منطقة الرياض  المدينه: الرياض   \n",
       "..                ...                       ...              ...   \n",
       "208  تاريخه: ٨/٢/١٤٤٣     المدينة: منطقة الرياض  المدينه: الرياض   \n",
       "209               NaN                       NaN  المدينه: الرياض   \n",
       "210  تاريخه: ٨/٢/١٤٤٣     المدينة: منطقة الرياض  المدينه: الرياض   \n",
       "211  تاريخه: ٧/٢/١٤٤٣  المدينة: المنطقة الشرقية  المدينه: الدمام   \n",
       "212               NaN                       NaN  المدينه: الرياض   \n",
       "\n",
       "                                         judgment_text  \\\n",
       "0    الحمد لله والصلاة والسلام على رسول ﷲ أما بعد:\\...   \n",
       "1    الحمد لله والصلاة والسلام على رسول ﷲ أما بعد:\\...   \n",
       "2    الحمد لله والصلاة والسلام على رسول ﷲ أما بعد:\\...   \n",
       "3    الحمد لله والصلاة والسلام على رسول ﷲ أما بعد:\\...   \n",
       "4    الحمد لله والصلاة والسلام على رسول ﷲ أما بعد:\\...   \n",
       "..                                                 ...   \n",
       "208  الحمد لله والصلاة والسلام على رسول ﷲ أما بعد:\\...   \n",
       "209  الحمد لله وحده والصلاة والسلام على نبينا محمد ...   \n",
       "210  الحمد لله والصلاة والسلام على رسول ﷲ أما بعد:\\...   \n",
       "211  الحمد لله والصلاة والسلام على رسول ﷲ أما بعد:\\...   \n",
       "212  الحمد لله وحده والصلاة والسلام على نبينا محمد ...   \n",
       "\n",
       "                                           appeal_text  \n",
       "0    الحمد لله والصلاة والسلام على رسول ﷲ أما بعد:\\...  \n",
       "1    الحمد لله والصلاة والسلام على رسول ﷲ أما بعد:\\...  \n",
       "2    الحمد لله والصلاة والسلام على رسول ﷲ أما بعد:\\...  \n",
       "3    الحمد لله والصلاة والسلام على رسول ﷲ أما بعد:\\...  \n",
       "4    الحمد لله والصلاة والسلام على رسول ﷲ أما بعد:\\...  \n",
       "..                                                 ...  \n",
       "208  الحمد لله والصلاة والسلام على رسول ﷲ أما بعد:\\...  \n",
       "209                                                NaN  \n",
       "210  الحمد لله والصلاة والسلام على رسول ﷲ أما بعد:\\...  \n",
       "211  الحمد لله والصلاة والسلام على رسول ﷲ أما بعد:\\...  \n",
       "212                                                NaN  \n",
       "\n",
       "[213 rows x 11 columns]"
      ]
     },
     "execution_count": 2,
     "metadata": {},
     "output_type": "execute_result"
    }
   ],
   "source": [
    "df=pd.read_csv('new.csv')\n",
    "df\n"
   ]
  },
  {
   "cell_type": "code",
   "execution_count": 3,
   "id": "0ee1fcab",
   "metadata": {},
   "outputs": [
    {
     "name": "stdout",
     "output_type": "stream",
     "text": [
      "<class 'pandas.core.frame.DataFrame'>\n",
      "RangeIndex: 213 entries, 0 to 212\n",
      "Data columns (total 11 columns):\n",
      " #   Column         Non-Null Count  Dtype \n",
      "---  ------         --------------  ----- \n",
      " 0   links          213 non-null    object\n",
      " 1   court          213 non-null    object\n",
      " 2   court_id       213 non-null    object\n",
      " 3   court_date     213 non-null    object\n",
      " 4   appeal_court   169 non-null    object\n",
      " 5   appeal_id      169 non-null    object\n",
      " 6   appeal_date    169 non-null    object\n",
      " 7   region         169 non-null    object\n",
      " 8   city           213 non-null    object\n",
      " 9   judgment_text  213 non-null    object\n",
      " 10  appeal_text    169 non-null    object\n",
      "dtypes: object(11)\n",
      "memory usage: 18.4+ KB\n"
     ]
    }
   ],
   "source": [
    "df.info()"
   ]
  },
  {
   "cell_type": "code",
   "execution_count": 4,
   "id": "5baf6a0d",
   "metadata": {},
   "outputs": [
    {
     "data": {
      "text/plain": [
       "0"
      ]
     },
     "execution_count": 4,
     "metadata": {},
     "output_type": "execute_result"
    }
   ],
   "source": [
    "df.duplicated().sum()"
   ]
  },
  {
   "cell_type": "code",
   "execution_count": 5,
   "id": "8d2c80d1",
   "metadata": {},
   "outputs": [],
   "source": [
    "df_Train, df_test = train_test_split(df, test_size=0.2, random_state= 30)\n",
    "\n",
    "df_train, df_val = train_test_split(df_Train, test_size=0.2, random_state= 30)"
   ]
  },
  {
   "cell_type": "code",
   "execution_count": 6,
   "id": "3acb7e76",
   "metadata": {},
   "outputs": [
    {
     "name": "stdout",
     "output_type": "stream",
     "text": [
      "Shape of train: (136, 11)\n",
      "Shape of validation: (34, 11)\n",
      "Shape of test: (43, 11)\n"
     ]
    }
   ],
   "source": [
    "print(f'Shape of train:', df_train.shape)\n",
    "print(f'Shape of validation:', df_val.shape)\n",
    "print(f'Shape of test:', df_test.shape)"
   ]
  },
  {
   "cell_type": "code",
   "execution_count": 7,
   "id": "00355b0c",
   "metadata": {},
   "outputs": [
    {
     "data": {
      "text/plain": [
       "links             0\n",
       "court             0\n",
       "court_id          0\n",
       "court_date        0\n",
       "appeal_court     28\n",
       "appeal_id        28\n",
       "appeal_date      28\n",
       "region           28\n",
       "city              0\n",
       "judgment_text     0\n",
       "appeal_text      28\n",
       "dtype: int64"
      ]
     },
     "execution_count": 7,
     "metadata": {},
     "output_type": "execute_result"
    }
   ],
   "source": [
    "df_train.isnull().sum()"
   ]
  },
  {
   "cell_type": "code",
   "execution_count": 8,
   "id": "ca171106",
   "metadata": {},
   "outputs": [
    {
     "data": {
      "text/plain": [
       "links            0\n",
       "court            0\n",
       "court_id         0\n",
       "court_date       0\n",
       "appeal_court     5\n",
       "appeal_id        5\n",
       "appeal_date      5\n",
       "region           5\n",
       "city             0\n",
       "judgment_text    0\n",
       "appeal_text      5\n",
       "dtype: int64"
      ]
     },
     "execution_count": 8,
     "metadata": {},
     "output_type": "execute_result"
    }
   ],
   "source": [
    "df_val.isnull().sum()"
   ]
  },
  {
   "cell_type": "code",
   "execution_count": 9,
   "id": "ba79af38",
   "metadata": {},
   "outputs": [
    {
     "ename": "AttributeError",
     "evalue": "'DataFrame' object has no attribute 'appellate_court'",
     "output_type": "error",
     "traceback": [
      "\u001b[0;31m---------------------------------------------------------------------------\u001b[0m",
      "\u001b[0;31mAttributeError\u001b[0m                            Traceback (most recent call last)",
      "\u001b[0;32m<ipython-input-9-4c81d3a09648>\u001b[0m in \u001b[0;36m<module>\u001b[0;34m\u001b[0m\n\u001b[0;32m----> 1\u001b[0;31m \u001b[0mdf_train\u001b[0m\u001b[0;34m.\u001b[0m\u001b[0mappellate_court\u001b[0m\u001b[0;34m.\u001b[0m\u001b[0mvalue_counts\u001b[0m\u001b[0;34m(\u001b[0m\u001b[0;34m)\u001b[0m\u001b[0;34m,\u001b[0m\u001b[0;34m\u001b[0m\u001b[0;34m\u001b[0m\u001b[0m\n\u001b[0m",
      "\u001b[0;32m/opt/anaconda3/lib/python3.8/site-packages/pandas/core/generic.py\u001b[0m in \u001b[0;36m__getattr__\u001b[0;34m(self, name)\u001b[0m\n\u001b[1;32m   5463\u001b[0m             \u001b[0;32mif\u001b[0m \u001b[0mself\u001b[0m\u001b[0;34m.\u001b[0m\u001b[0m_info_axis\u001b[0m\u001b[0;34m.\u001b[0m\u001b[0m_can_hold_identifiers_and_holds_name\u001b[0m\u001b[0;34m(\u001b[0m\u001b[0mname\u001b[0m\u001b[0;34m)\u001b[0m\u001b[0;34m:\u001b[0m\u001b[0;34m\u001b[0m\u001b[0;34m\u001b[0m\u001b[0m\n\u001b[1;32m   5464\u001b[0m                 \u001b[0;32mreturn\u001b[0m \u001b[0mself\u001b[0m\u001b[0;34m[\u001b[0m\u001b[0mname\u001b[0m\u001b[0;34m]\u001b[0m\u001b[0;34m\u001b[0m\u001b[0;34m\u001b[0m\u001b[0m\n\u001b[0;32m-> 5465\u001b[0;31m             \u001b[0;32mreturn\u001b[0m \u001b[0mobject\u001b[0m\u001b[0;34m.\u001b[0m\u001b[0m__getattribute__\u001b[0m\u001b[0;34m(\u001b[0m\u001b[0mself\u001b[0m\u001b[0;34m,\u001b[0m \u001b[0mname\u001b[0m\u001b[0;34m)\u001b[0m\u001b[0;34m\u001b[0m\u001b[0;34m\u001b[0m\u001b[0m\n\u001b[0m\u001b[1;32m   5466\u001b[0m \u001b[0;34m\u001b[0m\u001b[0m\n\u001b[1;32m   5467\u001b[0m     \u001b[0;32mdef\u001b[0m \u001b[0m__setattr__\u001b[0m\u001b[0;34m(\u001b[0m\u001b[0mself\u001b[0m\u001b[0;34m,\u001b[0m \u001b[0mname\u001b[0m\u001b[0;34m:\u001b[0m \u001b[0mstr\u001b[0m\u001b[0;34m,\u001b[0m \u001b[0mvalue\u001b[0m\u001b[0;34m)\u001b[0m \u001b[0;34m->\u001b[0m \u001b[0;32mNone\u001b[0m\u001b[0;34m:\u001b[0m\u001b[0;34m\u001b[0m\u001b[0;34m\u001b[0m\u001b[0m\n",
      "\u001b[0;31mAttributeError\u001b[0m: 'DataFrame' object has no attribute 'appellate_court'"
     ]
    }
   ],
   "source": [
    "df_train.appellate_court.value_counts(),"
   ]
  },
  {
   "cell_type": "code",
   "execution_count": null,
   "id": "18d003d7",
   "metadata": {},
   "outputs": [],
   "source": [
    "df_val.appellate_court.value_counts(),"
   ]
  },
  {
   "cell_type": "code",
   "execution_count": null,
   "id": "ed7bf4fa",
   "metadata": {},
   "outputs": [],
   "source": [
    "df_train['appellate_court'].fillna(df_train['appellate_court'].mode()[0], inplace = True)"
   ]
  },
  {
   "cell_type": "code",
   "execution_count": null,
   "id": "bc6f5f2c",
   "metadata": {},
   "outputs": [],
   "source": [
    "df_val['appellate_court'].fillna(df_val['appellate_court'].mode()[0], inplace = True)"
   ]
  },
  {
   "cell_type": "code",
   "execution_count": null,
   "id": "578cd4ca",
   "metadata": {},
   "outputs": [],
   "source": [
    "df_train.appellate_id.value_counts()"
   ]
  },
  {
   "cell_type": "code",
   "execution_count": null,
   "id": "5387b9aa",
   "metadata": {},
   "outputs": [],
   "source": [
    "df_val.appellate_id.value_counts()"
   ]
  },
  {
   "cell_type": "code",
   "execution_count": null,
   "id": "2a47cbeb",
   "metadata": {},
   "outputs": [],
   "source": [
    "df_train.dropna(subset=['appellate_id'], inplace=True);"
   ]
  },
  {
   "cell_type": "code",
   "execution_count": null,
   "id": "c9249851",
   "metadata": {},
   "outputs": [],
   "source": [
    "df_val.dropna(subset=['appellate_id'], inplace=True);"
   ]
  },
  {
   "cell_type": "code",
   "execution_count": null,
   "id": "1976537c",
   "metadata": {},
   "outputs": [],
   "source": [
    "df_train['appellate_id'] = df_train['appellate_id'].str.replace('رقم القرار','')"
   ]
  },
  {
   "cell_type": "code",
   "execution_count": null,
   "id": "5634c8f8",
   "metadata": {},
   "outputs": [],
   "source": [
    "df_val['appellate_id'] = df_val['appellate_id'].str.replace('رقم القرار','')"
   ]
  },
  {
   "cell_type": "code",
   "execution_count": null,
   "id": "a37165c7",
   "metadata": {},
   "outputs": [],
   "source": [
    "df_train['court'] = df_train['court'].str.replace('المحكمة:','')"
   ]
  },
  {
   "cell_type": "code",
   "execution_count": null,
   "id": "7806d041",
   "metadata": {},
   "outputs": [],
   "source": [
    "df_val['court'] = df_val['court'].str.replace('المحكمة:','')"
   ]
  },
  {
   "cell_type": "code",
   "execution_count": null,
   "id": "7479a7b3",
   "metadata": {},
   "outputs": [],
   "source": [
    "df_train['case_number'] = df_train['case_number'].str.replace('رقم القضية - القرار:','')"
   ]
  },
  {
   "cell_type": "code",
   "execution_count": null,
   "id": "aaf96bb8",
   "metadata": {},
   "outputs": [],
   "source": [
    "df_val['case_number'] = df_val['case_number'].str.replace('رقم القضية - القرار:','')"
   ]
  },
  {
   "cell_type": "code",
   "execution_count": null,
   "id": "e624991a",
   "metadata": {},
   "outputs": [],
   "source": [
    "df_train['case_date'] = df_train['case_date'].str.replace('تاريخها: ','')"
   ]
  },
  {
   "cell_type": "code",
   "execution_count": null,
   "id": "12864a9f",
   "metadata": {},
   "outputs": [],
   "source": [
    "df_val['case_date'] = df_val['case_date'].str.replace('تاريخها: ','')"
   ]
  },
  {
   "cell_type": "code",
   "execution_count": null,
   "id": "78e301dd",
   "metadata": {},
   "outputs": [],
   "source": [
    "df_train['appellate_court'] = df_train['appellate_court'].str.replace('محكمة الاستئناف: ','')"
   ]
  },
  {
   "cell_type": "code",
   "execution_count": null,
   "id": "142e4f66",
   "metadata": {},
   "outputs": [],
   "source": [
    "df_val['appellate_court'] = df_val['appellate_court'].str.replace('محكمة الاستئناف: ','')"
   ]
  },
  {
   "cell_type": "code",
   "execution_count": null,
   "id": "50dc177a",
   "metadata": {},
   "outputs": [],
   "source": [
    "df_train['region'] = df_train['region'].str.replace('المدينة: ','')"
   ]
  },
  {
   "cell_type": "code",
   "execution_count": null,
   "id": "6f93074e",
   "metadata": {},
   "outputs": [],
   "source": [
    "df_val['region'] = df_val['region'].str.replace('المدينة: ','')"
   ]
  },
  {
   "cell_type": "code",
   "execution_count": null,
   "id": "fa03cbfa",
   "metadata": {},
   "outputs": [],
   "source": [
    "df_train['city'] = df_train['city'].str.replace('المدينه: ','')"
   ]
  },
  {
   "cell_type": "code",
   "execution_count": null,
   "id": "95596234",
   "metadata": {},
   "outputs": [],
   "source": [
    "df_val['city'] = df_val['city'].str.replace('المدينه: ','')"
   ]
  },
  {
   "cell_type": "code",
   "execution_count": null,
   "id": "6a49857d",
   "metadata": {},
   "outputs": [],
   "source": [
    "df_train.city.value_counts()"
   ]
  },
  {
   "cell_type": "code",
   "execution_count": null,
   "id": "c6a8e6ce",
   "metadata": {},
   "outputs": [],
   "source": []
  },
  {
   "cell_type": "code",
   "execution_count": null,
   "id": "a8e452fb",
   "metadata": {},
   "outputs": [],
   "source": [
    "df_train"
   ]
  },
  {
   "cell_type": "code",
   "execution_count": null,
   "id": "9d3cc782",
   "metadata": {},
   "outputs": [],
   "source": []
  },
  {
   "cell_type": "code",
   "execution_count": null,
   "id": "ebd2b96a",
   "metadata": {},
   "outputs": [],
   "source": []
  },
  {
   "cell_type": "code",
   "execution_count": null,
   "id": "4c669ed4",
   "metadata": {},
   "outputs": [],
   "source": [
    "# Pre_Processing"
   ]
  },
  {
   "cell_type": "code",
   "execution_count": null,
   "id": "f00cee72",
   "metadata": {},
   "outputs": [],
   "source": []
  }
 ],
 "metadata": {
  "kernelspec": {
   "display_name": "Python 3",
   "language": "python",
   "name": "python3"
  },
  "language_info": {
   "codemirror_mode": {
    "name": "ipython",
    "version": 3
   },
   "file_extension": ".py",
   "mimetype": "text/x-python",
   "name": "python",
   "nbconvert_exporter": "python",
   "pygments_lexer": "ipython3",
   "version": "3.8.8"
  }
 },
 "nbformat": 4,
 "nbformat_minor": 5
}
