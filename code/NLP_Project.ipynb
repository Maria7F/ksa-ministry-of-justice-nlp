{
 "cells": [
  {
   "cell_type": "code",
   "execution_count": 45,
   "id": "507b8b7c",
   "metadata": {},
   "outputs": [],
   "source": [
    "import pandas as pd\n",
    "import numpy as np\n",
    "\n",
    "import sklearn\n",
    "import seaborn as sns\n",
    "import matplotlib.pyplot as plt\n",
    "from sklearn.model_selection import train_test_split\n",
    "import string\n",
    "\n",
    "import arabicstopwords.arabicstopwords as stp\n",
    "\n",
    "import re\n",
    "\n",
    "import nltk\n",
    "from nltk.corpus import stopwords\n",
    "\n",
    "from nltk.tokenize import word_tokenize\n",
    "from nltk.stem.isri import ISRIStemmer\n",
    "from sklearn.feature_extraction.text import TfidfVectorizer\n",
    "\n",
    "%matplotlib inline\n",
    "import warnings\n",
    "warnings.filterwarnings('ignore')"
   ]
  },
  {
   "cell_type": "code",
   "execution_count": 2,
   "id": "63857119",
   "metadata": {},
   "outputs": [
    {
     "data": {
      "text/html": [
       "<div>\n",
       "<style scoped>\n",
       "    .dataframe tbody tr th:only-of-type {\n",
       "        vertical-align: middle;\n",
       "    }\n",
       "\n",
       "    .dataframe tbody tr th {\n",
       "        vertical-align: top;\n",
       "    }\n",
       "\n",
       "    .dataframe thead th {\n",
       "        text-align: right;\n",
       "    }\n",
       "</style>\n",
       "<table border=\"1\" class=\"dataframe\">\n",
       "  <thead>\n",
       "    <tr style=\"text-align: right;\">\n",
       "      <th></th>\n",
       "      <th>links</th>\n",
       "      <th>court</th>\n",
       "      <th>court_id</th>\n",
       "      <th>court_date</th>\n",
       "      <th>appeal_court</th>\n",
       "      <th>appeal_id</th>\n",
       "      <th>appeal_date</th>\n",
       "      <th>region</th>\n",
       "      <th>city</th>\n",
       "      <th>judgment_text</th>\n",
       "      <th>appeal_text</th>\n",
       "    </tr>\n",
       "  </thead>\n",
       "  <tbody>\n",
       "    <tr>\n",
       "      <th>0</th>\n",
       "      <td>القضية رقم  ٤٦٤٦ لعام ١٤٤٢ هـ</td>\n",
       "      <td>المحكمة: المحكمة التجارية</td>\n",
       "      <td>رقم القضية - القرار: ٤٦٤٦</td>\n",
       "      <td>تاريخها: ٩/١/١٤٤٣</td>\n",
       "      <td>محكمة الاستئناف: المحكمة التجارية</td>\n",
       "      <td>رقم القرار: ٧٨٥</td>\n",
       "      <td>تاريخه: ٧/٣/١٤٤٣</td>\n",
       "      <td>المدينة: منطقة الرياض</td>\n",
       "      <td>المدينه: الرياض</td>\n",
       "      <td>الحمد لله والصلاة والسلام على رسول ﷲ أما بعد:\\...</td>\n",
       "      <td>الحمد لله والصلاة والسلام على رسول ﷲ أما بعد:\\...</td>\n",
       "    </tr>\n",
       "    <tr>\n",
       "      <th>1</th>\n",
       "      <td>القضية رقم  ٦٩٥٨ لعام ١٤٤٢ هـ</td>\n",
       "      <td>المحكمة: المحكمة التجارية</td>\n",
       "      <td>رقم القضية - القرار: ٦٩٥٨</td>\n",
       "      <td>تاريخها: ٢٥/١٢/١٤٤٢</td>\n",
       "      <td>محكمة الاستئناف: المحكمة التجارية</td>\n",
       "      <td>رقم القرار: ٥٤٦</td>\n",
       "      <td>تاريخه: ٦/٣/١٤٤٣</td>\n",
       "      <td>المدينة: منطقة الرياض</td>\n",
       "      <td>المدينه: الرياض</td>\n",
       "      <td>الحمد لله والصلاة والسلام على رسول ﷲ أما بعد:\\...</td>\n",
       "      <td>الحمد لله والصلاة والسلام على رسول ﷲ أما بعد:\\...</td>\n",
       "    </tr>\n",
       "    <tr>\n",
       "      <th>2</th>\n",
       "      <td>القضية رقم  ٦٦٠٧ لعام ١٤٤٢ هـ</td>\n",
       "      <td>المحكمة: المحكمة التجارية</td>\n",
       "      <td>رقم القضية - القرار: ٦٦٠٧</td>\n",
       "      <td>تاريخها: ٩/١/١٤٤٣</td>\n",
       "      <td>محكمة الاستئناف: المحكمة التجارية</td>\n",
       "      <td>رقم القرار: ٧٩٠</td>\n",
       "      <td>تاريخه: ٧/٣/١٤٤٣</td>\n",
       "      <td>المدينة: منطقة الرياض</td>\n",
       "      <td>المدينه: الرياض</td>\n",
       "      <td>الحمد لله والصلاة والسلام على رسول ﷲ أما بعد:\\...</td>\n",
       "      <td>الحمد لله والصلاة والسلام على رسول ﷲ أما بعد:\\...</td>\n",
       "    </tr>\n",
       "    <tr>\n",
       "      <th>3</th>\n",
       "      <td>القضية رقم  ٤٣٣١ لعام ١٤٤٢ هـ</td>\n",
       "      <td>المحكمة: المحكمة التجارية</td>\n",
       "      <td>رقم القضية - القرار: ٤٣٣١</td>\n",
       "      <td>تاريخها: ١٨/١١/١٤٤٢</td>\n",
       "      <td>محكمة الاستئناف: المحكمة التجارية</td>\n",
       "      <td>رقم القرار: ٣٧</td>\n",
       "      <td>تاريخه: ٧/٣/١٤٤٣</td>\n",
       "      <td>المدينة: منطقة الرياض</td>\n",
       "      <td>المدينه: الرياض</td>\n",
       "      <td>الحمد لله والصلاة والسلام على رسول ﷲ أما بعد:\\...</td>\n",
       "      <td>الحمد لله والصلاة والسلام على رسول ﷲ أما بعد:\\...</td>\n",
       "    </tr>\n",
       "    <tr>\n",
       "      <th>4</th>\n",
       "      <td>القضية رقم  ٩٣٩٩ لعام ١٤٤١ هـ</td>\n",
       "      <td>المحكمة: المحكمة التجارية</td>\n",
       "      <td>رقم القضية - القرار: ٩٣٩٩</td>\n",
       "      <td>تاريخها: ١٥/١٠/١٤٤٢</td>\n",
       "      <td>محكمة الاستئناف: المحكمة التجارية</td>\n",
       "      <td>رقم القرار: ٥٣٤٣</td>\n",
       "      <td>تاريخه: ٦/٣/١٤٤٣</td>\n",
       "      <td>المدينة: منطقة الرياض</td>\n",
       "      <td>المدينه: الرياض</td>\n",
       "      <td>الحمد لله والصلاة والسلام على رسول ﷲ أما بعد:\\...</td>\n",
       "      <td>الحمد لله والصلاة والسلام على رسول ﷲ أما بعد:\\...</td>\n",
       "    </tr>\n",
       "    <tr>\n",
       "      <th>...</th>\n",
       "      <td>...</td>\n",
       "      <td>...</td>\n",
       "      <td>...</td>\n",
       "      <td>...</td>\n",
       "      <td>...</td>\n",
       "      <td>...</td>\n",
       "      <td>...</td>\n",
       "      <td>...</td>\n",
       "      <td>...</td>\n",
       "      <td>...</td>\n",
       "      <td>...</td>\n",
       "    </tr>\n",
       "    <tr>\n",
       "      <th>208</th>\n",
       "      <td>القضية رقم  ٤٧٠٧ لعام ١٤٤٢ هـ</td>\n",
       "      <td>المحكمة: المحكمة التجارية</td>\n",
       "      <td>رقم القضية - القرار: ٤٧٠٧</td>\n",
       "      <td>تاريخها: ١٨/١٢/١٤٤٢</td>\n",
       "      <td>محكمة الاستئناف: المحكمة التجارية</td>\n",
       "      <td>رقم القرار: ٣٣٥</td>\n",
       "      <td>تاريخه: ٨/٢/١٤٤٣</td>\n",
       "      <td>المدينة: منطقة الرياض</td>\n",
       "      <td>المدينه: الرياض</td>\n",
       "      <td>الحمد لله والصلاة والسلام على رسول ﷲ أما بعد:\\...</td>\n",
       "      <td>الحمد لله والصلاة والسلام على رسول ﷲ أما بعد:\\...</td>\n",
       "    </tr>\n",
       "    <tr>\n",
       "      <th>209</th>\n",
       "      <td>قرار الدائرة الخامسة بالمحكمة العليا رقم ٤٣٨٥٠...</td>\n",
       "      <td>المحكمة: المحكمة العليا -  الهيئة الدائمة</td>\n",
       "      <td>رقم القضية - القرار: ٤٣٨٥٠</td>\n",
       "      <td>تاريخها: ١٢/٢/١٤٤٣</td>\n",
       "      <td>NaN</td>\n",
       "      <td>NaN</td>\n",
       "      <td>NaN</td>\n",
       "      <td>NaN</td>\n",
       "      <td>المدينه: الرياض</td>\n",
       "      <td>الحمد لله وحده والصلاة والسلام على نبينا محمد ...</td>\n",
       "      <td>NaN</td>\n",
       "    </tr>\n",
       "    <tr>\n",
       "      <th>210</th>\n",
       "      <td>القضية رقم  ١١١٠ لعام ١٤٤٢ هـ</td>\n",
       "      <td>المحكمة: المحكمة التجارية</td>\n",
       "      <td>رقم القضية - القرار: ١١١٠</td>\n",
       "      <td>تاريخها: ١٤/٩/١٤٤٢</td>\n",
       "      <td>محكمة الاستئناف: المحكمة التجارية</td>\n",
       "      <td>رقم القرار: ٥١٥٩</td>\n",
       "      <td>تاريخه: ٨/٢/١٤٤٣</td>\n",
       "      <td>المدينة: منطقة الرياض</td>\n",
       "      <td>المدينه: الرياض</td>\n",
       "      <td>الحمد لله والصلاة والسلام على رسول ﷲ أما بعد:\\...</td>\n",
       "      <td>الحمد لله والصلاة والسلام على رسول ﷲ أما بعد:\\...</td>\n",
       "    </tr>\n",
       "    <tr>\n",
       "      <th>211</th>\n",
       "      <td>القضية رقم ١٥٨٢ لعام ١٤٤١ ه</td>\n",
       "      <td>المحكمة: المحكمة التجارية</td>\n",
       "      <td>رقم القضية - القرار: ١٥٨٢</td>\n",
       "      <td>تاريخها: ٢/١٢/١٤٤٢</td>\n",
       "      <td>محكمة الاستئناف: محكمة الاستئناف</td>\n",
       "      <td>رقم القرار: ١٣٦</td>\n",
       "      <td>تاريخه: ٧/٢/١٤٤٣</td>\n",
       "      <td>المدينة: المنطقة الشرقية</td>\n",
       "      <td>المدينه: الدمام</td>\n",
       "      <td>الحمد لله والصلاة والسلام على رسول ﷲ أما بعد:\\...</td>\n",
       "      <td>الحمد لله والصلاة والسلام على رسول ﷲ أما بعد:\\...</td>\n",
       "    </tr>\n",
       "    <tr>\n",
       "      <th>212</th>\n",
       "      <td>قرار الدائرة الخامسة بالمحكمة العليا رقم ٤٣٨٦١...</td>\n",
       "      <td>المحكمة: المحكمة العليا -  الهيئة الدائمة</td>\n",
       "      <td>رقم القضية - القرار: ٤٣٨٦١</td>\n",
       "      <td>تاريخها: ١٢/٢/١٤٤٣</td>\n",
       "      <td>NaN</td>\n",
       "      <td>NaN</td>\n",
       "      <td>NaN</td>\n",
       "      <td>NaN</td>\n",
       "      <td>المدينه: الرياض</td>\n",
       "      <td>الحمد لله وحده والصلاة والسلام على نبينا محمد ...</td>\n",
       "      <td>NaN</td>\n",
       "    </tr>\n",
       "  </tbody>\n",
       "</table>\n",
       "<p>213 rows × 11 columns</p>\n",
       "</div>"
      ],
      "text/plain": [
       "                                                 links  \\\n",
       "0                        القضية رقم  ٤٦٤٦ لعام ١٤٤٢ هـ   \n",
       "1                        القضية رقم  ٦٩٥٨ لعام ١٤٤٢ هـ   \n",
       "2                        القضية رقم  ٦٦٠٧ لعام ١٤٤٢ هـ   \n",
       "3                        القضية رقم  ٤٣٣١ لعام ١٤٤٢ هـ   \n",
       "4                        القضية رقم  ٩٣٩٩ لعام ١٤٤١ هـ   \n",
       "..                                                 ...   \n",
       "208                      القضية رقم  ٤٧٠٧ لعام ١٤٤٢ هـ   \n",
       "209  قرار الدائرة الخامسة بالمحكمة العليا رقم ٤٣٨٥٠...   \n",
       "210                      القضية رقم  ١١١٠ لعام ١٤٤٢ هـ   \n",
       "211                        القضية رقم ١٥٨٢ لعام ١٤٤١ ه   \n",
       "212  قرار الدائرة الخامسة بالمحكمة العليا رقم ٤٣٨٦١...   \n",
       "\n",
       "                                         court                    court_id  \\\n",
       "0                    المحكمة: المحكمة التجارية   رقم القضية - القرار: ٤٦٤٦   \n",
       "1                    المحكمة: المحكمة التجارية   رقم القضية - القرار: ٦٩٥٨   \n",
       "2                    المحكمة: المحكمة التجارية   رقم القضية - القرار: ٦٦٠٧   \n",
       "3                    المحكمة: المحكمة التجارية   رقم القضية - القرار: ٤٣٣١   \n",
       "4                    المحكمة: المحكمة التجارية   رقم القضية - القرار: ٩٣٩٩   \n",
       "..                                         ...                         ...   \n",
       "208                  المحكمة: المحكمة التجارية   رقم القضية - القرار: ٤٧٠٧   \n",
       "209  المحكمة: المحكمة العليا -  الهيئة الدائمة  رقم القضية - القرار: ٤٣٨٥٠   \n",
       "210                  المحكمة: المحكمة التجارية   رقم القضية - القرار: ١١١٠   \n",
       "211                  المحكمة: المحكمة التجارية   رقم القضية - القرار: ١٥٨٢   \n",
       "212  المحكمة: المحكمة العليا -  الهيئة الدائمة  رقم القضية - القرار: ٤٣٨٦١   \n",
       "\n",
       "              court_date                       appeal_court         appeal_id  \\\n",
       "0      تاريخها: ٩/١/١٤٤٣  محكمة الاستئناف: المحكمة التجارية   رقم القرار: ٧٨٥   \n",
       "1    تاريخها: ٢٥/١٢/١٤٤٢  محكمة الاستئناف: المحكمة التجارية   رقم القرار: ٥٤٦   \n",
       "2      تاريخها: ٩/١/١٤٤٣  محكمة الاستئناف: المحكمة التجارية   رقم القرار: ٧٩٠   \n",
       "3    تاريخها: ١٨/١١/١٤٤٢  محكمة الاستئناف: المحكمة التجارية    رقم القرار: ٣٧   \n",
       "4    تاريخها: ١٥/١٠/١٤٤٢  محكمة الاستئناف: المحكمة التجارية  رقم القرار: ٥٣٤٣   \n",
       "..                   ...                                ...               ...   \n",
       "208  تاريخها: ١٨/١٢/١٤٤٢  محكمة الاستئناف: المحكمة التجارية   رقم القرار: ٣٣٥   \n",
       "209   تاريخها: ١٢/٢/١٤٤٣                                NaN               NaN   \n",
       "210   تاريخها: ١٤/٩/١٤٤٢  محكمة الاستئناف: المحكمة التجارية  رقم القرار: ٥١٥٩   \n",
       "211   تاريخها: ٢/١٢/١٤٤٢   محكمة الاستئناف: محكمة الاستئناف   رقم القرار: ١٣٦   \n",
       "212   تاريخها: ١٢/٢/١٤٤٣                                NaN               NaN   \n",
       "\n",
       "          appeal_date                    region             city  \\\n",
       "0    تاريخه: ٧/٣/١٤٤٣     المدينة: منطقة الرياض  المدينه: الرياض   \n",
       "1    تاريخه: ٦/٣/١٤٤٣     المدينة: منطقة الرياض  المدينه: الرياض   \n",
       "2    تاريخه: ٧/٣/١٤٤٣     المدينة: منطقة الرياض  المدينه: الرياض   \n",
       "3    تاريخه: ٧/٣/١٤٤٣     المدينة: منطقة الرياض  المدينه: الرياض   \n",
       "4    تاريخه: ٦/٣/١٤٤٣     المدينة: منطقة الرياض  المدينه: الرياض   \n",
       "..                ...                       ...              ...   \n",
       "208  تاريخه: ٨/٢/١٤٤٣     المدينة: منطقة الرياض  المدينه: الرياض   \n",
       "209               NaN                       NaN  المدينه: الرياض   \n",
       "210  تاريخه: ٨/٢/١٤٤٣     المدينة: منطقة الرياض  المدينه: الرياض   \n",
       "211  تاريخه: ٧/٢/١٤٤٣  المدينة: المنطقة الشرقية  المدينه: الدمام   \n",
       "212               NaN                       NaN  المدينه: الرياض   \n",
       "\n",
       "                                         judgment_text  \\\n",
       "0    الحمد لله والصلاة والسلام على رسول ﷲ أما بعد:\\...   \n",
       "1    الحمد لله والصلاة والسلام على رسول ﷲ أما بعد:\\...   \n",
       "2    الحمد لله والصلاة والسلام على رسول ﷲ أما بعد:\\...   \n",
       "3    الحمد لله والصلاة والسلام على رسول ﷲ أما بعد:\\...   \n",
       "4    الحمد لله والصلاة والسلام على رسول ﷲ أما بعد:\\...   \n",
       "..                                                 ...   \n",
       "208  الحمد لله والصلاة والسلام على رسول ﷲ أما بعد:\\...   \n",
       "209  الحمد لله وحده والصلاة والسلام على نبينا محمد ...   \n",
       "210  الحمد لله والصلاة والسلام على رسول ﷲ أما بعد:\\...   \n",
       "211  الحمد لله والصلاة والسلام على رسول ﷲ أما بعد:\\...   \n",
       "212  الحمد لله وحده والصلاة والسلام على نبينا محمد ...   \n",
       "\n",
       "                                           appeal_text  \n",
       "0    الحمد لله والصلاة والسلام على رسول ﷲ أما بعد:\\...  \n",
       "1    الحمد لله والصلاة والسلام على رسول ﷲ أما بعد:\\...  \n",
       "2    الحمد لله والصلاة والسلام على رسول ﷲ أما بعد:\\...  \n",
       "3    الحمد لله والصلاة والسلام على رسول ﷲ أما بعد:\\...  \n",
       "4    الحمد لله والصلاة والسلام على رسول ﷲ أما بعد:\\...  \n",
       "..                                                 ...  \n",
       "208  الحمد لله والصلاة والسلام على رسول ﷲ أما بعد:\\...  \n",
       "209                                                NaN  \n",
       "210  الحمد لله والصلاة والسلام على رسول ﷲ أما بعد:\\...  \n",
       "211  الحمد لله والصلاة والسلام على رسول ﷲ أما بعد:\\...  \n",
       "212                                                NaN  \n",
       "\n",
       "[213 rows x 11 columns]"
      ]
     },
     "execution_count": 2,
     "metadata": {},
     "output_type": "execute_result"
    }
   ],
   "source": [
    "df=pd.read_csv('new.csv')\n",
    "df\n"
   ]
  },
  {
   "cell_type": "code",
   "execution_count": 3,
   "id": "0ee1fcab",
   "metadata": {},
   "outputs": [
    {
     "name": "stdout",
     "output_type": "stream",
     "text": [
      "<class 'pandas.core.frame.DataFrame'>\n",
      "RangeIndex: 213 entries, 0 to 212\n",
      "Data columns (total 11 columns):\n",
      " #   Column         Non-Null Count  Dtype \n",
      "---  ------         --------------  ----- \n",
      " 0   links          213 non-null    object\n",
      " 1   court          213 non-null    object\n",
      " 2   court_id       213 non-null    object\n",
      " 3   court_date     213 non-null    object\n",
      " 4   appeal_court   169 non-null    object\n",
      " 5   appeal_id      169 non-null    object\n",
      " 6   appeal_date    169 non-null    object\n",
      " 7   region         169 non-null    object\n",
      " 8   city           213 non-null    object\n",
      " 9   judgment_text  213 non-null    object\n",
      " 10  appeal_text    169 non-null    object\n",
      "dtypes: object(11)\n",
      "memory usage: 18.4+ KB\n"
     ]
    }
   ],
   "source": [
    "df.info()"
   ]
  },
  {
   "cell_type": "code",
   "execution_count": 4,
   "id": "5baf6a0d",
   "metadata": {},
   "outputs": [
    {
     "data": {
      "text/plain": [
       "0"
      ]
     },
     "execution_count": 4,
     "metadata": {},
     "output_type": "execute_result"
    }
   ],
   "source": [
    "df.duplicated().sum()"
   ]
  },
  {
   "cell_type": "code",
   "execution_count": 5,
   "id": "8d2c80d1",
   "metadata": {},
   "outputs": [],
   "source": [
    "df_Train, df_test = train_test_split(df, test_size=0.2, random_state= 30)\n",
    "\n",
    "df_train, df_val = train_test_split(df_Train, test_size=0.2, random_state= 30)"
   ]
  },
  {
   "cell_type": "code",
   "execution_count": 6,
   "id": "3acb7e76",
   "metadata": {},
   "outputs": [
    {
     "name": "stdout",
     "output_type": "stream",
     "text": [
      "Shape of train: (136, 11)\n",
      "Shape of validation: (34, 11)\n",
      "Shape of test: (43, 11)\n"
     ]
    }
   ],
   "source": [
    "print(f'Shape of train:', df_train.shape)\n",
    "print(f'Shape of validation:', df_val.shape)\n",
    "print(f'Shape of test:', df_test.shape)"
   ]
  },
  {
   "cell_type": "code",
   "execution_count": 7,
   "id": "00355b0c",
   "metadata": {},
   "outputs": [
    {
     "data": {
      "text/plain": [
       "links             0\n",
       "court             0\n",
       "court_id          0\n",
       "court_date        0\n",
       "appeal_court     28\n",
       "appeal_id        28\n",
       "appeal_date      28\n",
       "region           28\n",
       "city              0\n",
       "judgment_text     0\n",
       "appeal_text      28\n",
       "dtype: int64"
      ]
     },
     "execution_count": 7,
     "metadata": {},
     "output_type": "execute_result"
    }
   ],
   "source": [
    "df_train.isnull().sum()"
   ]
  },
  {
   "cell_type": "code",
   "execution_count": 8,
   "id": "ca171106",
   "metadata": {},
   "outputs": [
    {
     "data": {
      "text/plain": [
       "links            0\n",
       "court            0\n",
       "court_id         0\n",
       "court_date       0\n",
       "appeal_court     5\n",
       "appeal_id        5\n",
       "appeal_date      5\n",
       "region           5\n",
       "city             0\n",
       "judgment_text    0\n",
       "appeal_text      5\n",
       "dtype: int64"
      ]
     },
     "execution_count": 8,
     "metadata": {},
     "output_type": "execute_result"
    }
   ],
   "source": [
    "df_val.isnull().sum()"
   ]
  },
  {
   "cell_type": "code",
   "execution_count": 9,
   "id": "ba79af38",
   "metadata": {},
   "outputs": [
    {
     "data": {
      "text/plain": [
       "(محكمة الاستئناف: المحكمة التجارية    101\n",
       " محكمة الاستئناف: محكمة الاستئناف       7\n",
       " Name: appeal_court, dtype: int64,)"
      ]
     },
     "execution_count": 9,
     "metadata": {},
     "output_type": "execute_result"
    }
   ],
   "source": [
    "df_train.appeal_court.value_counts(),"
   ]
  },
  {
   "cell_type": "code",
   "execution_count": 10,
   "id": "18d003d7",
   "metadata": {},
   "outputs": [
    {
     "data": {
      "text/plain": [
       "(محكمة الاستئناف: المحكمة التجارية    28\n",
       " محكمة الاستئناف: محكمة الاستئناف      1\n",
       " Name: appeal_court, dtype: int64,)"
      ]
     },
     "execution_count": 10,
     "metadata": {},
     "output_type": "execute_result"
    }
   ],
   "source": [
    "df_val.appeal_court.value_counts(),"
   ]
  },
  {
   "cell_type": "code",
   "execution_count": 11,
   "id": "ed7bf4fa",
   "metadata": {},
   "outputs": [],
   "source": [
    "df_train['appeal_court'].fillna(df_train['appeal_court'].mode()[0], inplace = True)"
   ]
  },
  {
   "cell_type": "code",
   "execution_count": 12,
   "id": "bc6f5f2c",
   "metadata": {},
   "outputs": [],
   "source": [
    "df_val['appeal_court'].fillna(df_val['appeal_court'].mode()[0], inplace = True)"
   ]
  },
  {
   "cell_type": "code",
   "execution_count": 13,
   "id": "578cd4ca",
   "metadata": {},
   "outputs": [
    {
     "data": {
      "text/plain": [
       "رقم القرار: ١٢٢     2\n",
       "رقم القرار: ٥٩١     1\n",
       "رقم القرار: ٦٢٣     1\n",
       "رقم القرار: ١٥٢     1\n",
       "رقم القرار: ٢٤٣٠    1\n",
       "                   ..\n",
       "رقم القرار: ٥١٥٩    1\n",
       "رقم القرار: ٣٤٧     1\n",
       "رقم القرار: ٥٣٠٠    1\n",
       "رقم القرار: ٢٣١٨    1\n",
       "رقم القرار: ٥٢٠٥    1\n",
       "Name: appeal_id, Length: 107, dtype: int64"
      ]
     },
     "execution_count": 13,
     "metadata": {},
     "output_type": "execute_result"
    }
   ],
   "source": [
    "df_train.appeal_id.value_counts()"
   ]
  },
  {
   "cell_type": "code",
   "execution_count": 14,
   "id": "5387b9aa",
   "metadata": {},
   "outputs": [
    {
     "data": {
      "text/plain": [
       "رقم القرار: ٨٤      1\n",
       "رقم القرار: ٣٣٧٨    1\n",
       "رقم القرار: ٥١٧     1\n",
       "رقم القرار: ٥٣٤٣    1\n",
       "رقم القرار: ١٢٦     1\n",
       "رقم القرار: ٤٢٦     1\n",
       "رقم القرار: ٣٢٨١    1\n",
       "رقم القرار: ٣١٠٢    1\n",
       "رقم القرار: ٥٥٨١    1\n",
       "رقم القرار: ٣٠٣٨    1\n",
       "رقم القرار: ٣٦      1\n",
       "رقم القرار: ٧٩٥     1\n",
       "رقم القرار: ٤٧١٦    1\n",
       "رقم القرار: ٥٤٦٧    1\n",
       "رقم القرار: ٥٣٨١    1\n",
       "رقم القرار: ٢٥١٤    1\n",
       "رقم القرار: ٤٤٢١    1\n",
       "رقم القرار: ٣٣٥     1\n",
       "رقم القرار: ٧٠٩     1\n",
       "رقم القرار: ٥٥٧٠    1\n",
       "رقم القرار: ١٩٩٨    1\n",
       "رقم القرار: ٥٤٩١    1\n",
       "رقم القرار: ١٩٩٧    1\n",
       "رقم القرار: ٣٩      1\n",
       "رقم القرار: ٥٤٠٣    1\n",
       "رقم القرار: ٥٥٢٥    1\n",
       "رقم القرار: ٥٠٥٠    1\n",
       "رقم القرار: ٥١٣٣    1\n",
       "رقم القرار: ٢٧٠٠    1\n",
       "Name: appeal_id, dtype: int64"
      ]
     },
     "execution_count": 14,
     "metadata": {},
     "output_type": "execute_result"
    }
   ],
   "source": [
    "df_val.appeal_id.value_counts()"
   ]
  },
  {
   "cell_type": "code",
   "execution_count": 15,
   "id": "2a47cbeb",
   "metadata": {},
   "outputs": [],
   "source": [
    "df_train.dropna(subset=['appeal_id'], inplace=True);"
   ]
  },
  {
   "cell_type": "code",
   "execution_count": 16,
   "id": "c9249851",
   "metadata": {},
   "outputs": [],
   "source": [
    "df_val.dropna(subset=['appeal_id'], inplace=True);"
   ]
  },
  {
   "cell_type": "code",
   "execution_count": 17,
   "id": "cdb83ebc",
   "metadata": {},
   "outputs": [],
   "source": [
    "df_train['appeal_date'] = df_train['appeal_date'].str.replace('تاريخه:','')"
   ]
  },
  {
   "cell_type": "code",
   "execution_count": 18,
   "id": "021e60a5",
   "metadata": {},
   "outputs": [],
   "source": [
    "df_val['appeal_date'] = df_val['appeal_date'].str.replace('تاريخه:','')"
   ]
  },
  {
   "cell_type": "code",
   "execution_count": 19,
   "id": "1976537c",
   "metadata": {},
   "outputs": [],
   "source": [
    "df_train['appeal_id'] = df_train['appeal_id'].str.replace('رقم القرار:','')"
   ]
  },
  {
   "cell_type": "code",
   "execution_count": 20,
   "id": "5634c8f8",
   "metadata": {},
   "outputs": [],
   "source": [
    "df_val['appeal_id'] = df_val['appeal_id'].str.replace('رقم القرار:','')"
   ]
  },
  {
   "cell_type": "code",
   "execution_count": 21,
   "id": "46a80b65",
   "metadata": {},
   "outputs": [],
   "source": [
    "df_val['appeal_date'] = df_val['appeal_id'].str.replace('رقم القرار:','')"
   ]
  },
  {
   "cell_type": "code",
   "execution_count": 22,
   "id": "a37165c7",
   "metadata": {},
   "outputs": [],
   "source": [
    "df_train['court'] = df_train['court'].str.replace('المحكمة:','')"
   ]
  },
  {
   "cell_type": "code",
   "execution_count": 23,
   "id": "7479a7b3",
   "metadata": {},
   "outputs": [],
   "source": [
    "df_train['court_id'] = df_train['court_id'].str.replace('رقم القضية - القرار:','')"
   ]
  },
  {
   "cell_type": "code",
   "execution_count": 24,
   "id": "aaf96bb8",
   "metadata": {},
   "outputs": [],
   "source": [
    "df_val['court_id'] = df_val['court_id'].str.replace('رقم القضية - القرار:','')"
   ]
  },
  {
   "cell_type": "code",
   "execution_count": 25,
   "id": "e624991a",
   "metadata": {},
   "outputs": [],
   "source": [
    "df_train['court_date'] = df_train['court_date'].str.replace('تاريخها: ','')"
   ]
  },
  {
   "cell_type": "code",
   "execution_count": 26,
   "id": "12864a9f",
   "metadata": {},
   "outputs": [],
   "source": [
    "df_val['court_date'] = df_val['court_date'].str.replace('تاريخها: ','')"
   ]
  },
  {
   "cell_type": "code",
   "execution_count": 27,
   "id": "78e301dd",
   "metadata": {},
   "outputs": [],
   "source": [
    "df_train['appeal_court'] = df_train['appeal_court'].str.replace('محكمة الاستئناف: ','')"
   ]
  },
  {
   "cell_type": "code",
   "execution_count": 28,
   "id": "142e4f66",
   "metadata": {},
   "outputs": [],
   "source": [
    "df_val['appeal_court'] = df_val['appeal_court'].str.replace('محكمة الاستئناف: ','')"
   ]
  },
  {
   "cell_type": "code",
   "execution_count": 29,
   "id": "50dc177a",
   "metadata": {},
   "outputs": [],
   "source": [
    "df_train['region'] = df_train['region'].str.replace('المدينة: ','')"
   ]
  },
  {
   "cell_type": "code",
   "execution_count": 30,
   "id": "6f93074e",
   "metadata": {},
   "outputs": [],
   "source": [
    "df_val['region'] = df_val['region'].str.replace('المدينة: ','')"
   ]
  },
  {
   "cell_type": "code",
   "execution_count": 31,
   "id": "fa03cbfa",
   "metadata": {},
   "outputs": [],
   "source": [
    "df_train['city'] = df_train['city'].str.replace('المدينه: ','')"
   ]
  },
  {
   "cell_type": "code",
   "execution_count": 32,
   "id": "95596234",
   "metadata": {},
   "outputs": [],
   "source": [
    "df_val['city'] = df_val['city'].str.replace('المدينه: ','')"
   ]
  },
  {
   "cell_type": "code",
   "execution_count": 33,
   "id": "6a49857d",
   "metadata": {},
   "outputs": [
    {
     "data": {
      "text/plain": [
       "الرياض             88\n",
       "المدينة المنورة     9\n",
       "الدمام              7\n",
       "بريدة               4\n",
       "Name: city, dtype: int64"
      ]
     },
     "execution_count": 33,
     "metadata": {},
     "output_type": "execute_result"
    }
   ],
   "source": [
    "df_train.city.value_counts()"
   ]
  },
  {
   "cell_type": "code",
   "execution_count": 34,
   "id": "9d3cc782",
   "metadata": {},
   "outputs": [],
   "source": [
    "arabic_punctuations = '''`÷×؛<>_()*&^%][ـ،/:\"؟.,'{}~¦+|!”…“–ـ'''\n",
    "english_punctuations = string.punctuation\n",
    "punctuations_list = arabic_punctuations + english_punctuations\n",
    "df_train.judgment_text = df_train.judgment_text.apply(lambda x: x.translate(str.maketrans('', '', punctuations_list)))\n",
    "df_train.appeal_text = df_train.appeal_text.apply(lambda x: x.translate(str.maketrans('', '', punctuations_list)))"
   ]
  },
  {
   "cell_type": "code",
   "execution_count": 35,
   "id": "e1dd94d0",
   "metadata": {},
   "outputs": [],
   "source": [
    "df_val.judgment_text = df_val.judgment_text.apply(lambda x: x.translate(str.maketrans('', '', punctuations_list)))\n",
    "df_val.appeal_text = df_val.appeal_text.apply(lambda x: x.translate(str.maketrans('', '', punctuations_list)))"
   ]
  },
  {
   "cell_type": "code",
   "execution_count": 36,
   "id": "a8e452fb",
   "metadata": {},
   "outputs": [
    {
     "data": {
      "text/html": [
       "<div>\n",
       "<style scoped>\n",
       "    .dataframe tbody tr th:only-of-type {\n",
       "        vertical-align: middle;\n",
       "    }\n",
       "\n",
       "    .dataframe tbody tr th {\n",
       "        vertical-align: top;\n",
       "    }\n",
       "\n",
       "    .dataframe thead th {\n",
       "        text-align: right;\n",
       "    }\n",
       "</style>\n",
       "<table border=\"1\" class=\"dataframe\">\n",
       "  <thead>\n",
       "    <tr style=\"text-align: right;\">\n",
       "      <th></th>\n",
       "      <th>links</th>\n",
       "      <th>court</th>\n",
       "      <th>court_id</th>\n",
       "      <th>court_date</th>\n",
       "      <th>appeal_court</th>\n",
       "      <th>appeal_id</th>\n",
       "      <th>appeal_date</th>\n",
       "      <th>region</th>\n",
       "      <th>city</th>\n",
       "      <th>judgment_text</th>\n",
       "      <th>appeal_text</th>\n",
       "    </tr>\n",
       "  </thead>\n",
       "  <tbody>\n",
       "    <tr>\n",
       "      <th>6</th>\n",
       "      <td>القضية رقم  ١٠٢٤٢ لعام ١٤٤١ هـ</td>\n",
       "      <td>المحكمة التجارية</td>\n",
       "      <td>١٠٢٤٢</td>\n",
       "      <td>٢٢/٣/١٤٤٢</td>\n",
       "      <td>المحكمة التجارية</td>\n",
       "      <td>٢١٢٨</td>\n",
       "      <td>٧/٣/١٤٤٣</td>\n",
       "      <td>منطقة الرياض</td>\n",
       "      <td>الرياض</td>\n",
       "      <td>الحمد لله والصلاة والسلام على رسول ﷲ أما بعد\\n...</td>\n",
       "      <td>الحمد لله والصلاة والسلام على رسول ﷲ أما بعد\\n...</td>\n",
       "    </tr>\n",
       "    <tr>\n",
       "      <th>11</th>\n",
       "      <td>القضية رقم  ٣٨٩٥ لعام ١٤٤٢ هـ</td>\n",
       "      <td>المحكمة التجارية</td>\n",
       "      <td>٣٨٩٥</td>\n",
       "      <td>٢٣/٩/١٤٤٢</td>\n",
       "      <td>المحكمة التجارية</td>\n",
       "      <td>٢٤٥</td>\n",
       "      <td>٥/٣/١٤٤٣</td>\n",
       "      <td>منطقة الرياض</td>\n",
       "      <td>الرياض</td>\n",
       "      <td>الحمد لله والصلاة والسلام على رسول ﷲ أما بعد\\n...</td>\n",
       "      <td>الحمد لله والصلاة والسلام على رسول ﷲ أما بعد\\n...</td>\n",
       "    </tr>\n",
       "    <tr>\n",
       "      <th>1</th>\n",
       "      <td>القضية رقم  ٦٩٥٨ لعام ١٤٤٢ هـ</td>\n",
       "      <td>المحكمة التجارية</td>\n",
       "      <td>٦٩٥٨</td>\n",
       "      <td>٢٥/١٢/١٤٤٢</td>\n",
       "      <td>المحكمة التجارية</td>\n",
       "      <td>٥٤٦</td>\n",
       "      <td>٦/٣/١٤٤٣</td>\n",
       "      <td>منطقة الرياض</td>\n",
       "      <td>الرياض</td>\n",
       "      <td>الحمد لله والصلاة والسلام على رسول ﷲ أما بعد\\n...</td>\n",
       "      <td>الحمد لله والصلاة والسلام على رسول ﷲ أما بعد\\n...</td>\n",
       "    </tr>\n",
       "    <tr>\n",
       "      <th>93</th>\n",
       "      <td>القضية رقم ١٠٠٧٥ لعام ١٤٤١ هـ</td>\n",
       "      <td>المحكمة التجارية</td>\n",
       "      <td>١٠٠٧٥</td>\n",
       "      <td>١٦/٣/١٤٤٢</td>\n",
       "      <td>المحكمة التجارية</td>\n",
       "      <td>٢٥٠٠</td>\n",
       "      <td>٧/٢/١٤٤٣</td>\n",
       "      <td>منطقة الرياض</td>\n",
       "      <td>الرياض</td>\n",
       "      <td>الحمد لله والصلاة والسلام على رسول ﷲ أما بعد\\n...</td>\n",
       "      <td>الحمد لله والصلاة والسلام على رسول ﷲ أما بعد\\n...</td>\n",
       "    </tr>\n",
       "    <tr>\n",
       "      <th>56</th>\n",
       "      <td>القضية رقم  ٧٤٤٠ لعام ١٤٣٧ هـ</td>\n",
       "      <td>المحكمة التجارية</td>\n",
       "      <td>٧٤٤٠</td>\n",
       "      <td>٢٤/٢/١٤٤٢</td>\n",
       "      <td>المحكمة التجارية</td>\n",
       "      <td>٢٢٢٩</td>\n",
       "      <td>٦/٣/١٤٤٣</td>\n",
       "      <td>منطقة الرياض</td>\n",
       "      <td>الرياض</td>\n",
       "      <td>الحمد لله والصلاة والسلام على رسول ﷲ أما بعد\\n...</td>\n",
       "      <td>الحمد لله والصلاة والسلام على رسول ﷲ أما بعد\\n...</td>\n",
       "    </tr>\n",
       "    <tr>\n",
       "      <th>...</th>\n",
       "      <td>...</td>\n",
       "      <td>...</td>\n",
       "      <td>...</td>\n",
       "      <td>...</td>\n",
       "      <td>...</td>\n",
       "      <td>...</td>\n",
       "      <td>...</td>\n",
       "      <td>...</td>\n",
       "      <td>...</td>\n",
       "      <td>...</td>\n",
       "      <td>...</td>\n",
       "    </tr>\n",
       "    <tr>\n",
       "      <th>163</th>\n",
       "      <td>القضية رقم  ١٣٠٨ لعام ١٤٤٢ هـ</td>\n",
       "      <td>المحكمة التجارية</td>\n",
       "      <td>١٣٠٨</td>\n",
       "      <td>١٢/١١/١٤٤٢</td>\n",
       "      <td>محكمة الاستئناف</td>\n",
       "      <td>١٢٢</td>\n",
       "      <td>٧/٢/١٤٤٣</td>\n",
       "      <td>المنطقة الشرقية</td>\n",
       "      <td>الدمام</td>\n",
       "      <td>الحمد لله والصلاة والسلام على رسول ﷲ أما بعد\\n...</td>\n",
       "      <td>الحمد لله والصلاة والسلام على رسول ﷲ أما بعد\\n...</td>\n",
       "    </tr>\n",
       "    <tr>\n",
       "      <th>64</th>\n",
       "      <td>القضية رقم ٢٢٤٤ لعام ١٤٤٢ هـ</td>\n",
       "      <td>المحكمة التجارية</td>\n",
       "      <td>٢٢٤٤</td>\n",
       "      <td>١٢/٦/١٤٤٢</td>\n",
       "      <td>المحكمة التجارية</td>\n",
       "      <td>٣٦٩٤</td>\n",
       "      <td>٩/٢/١٤٤٣</td>\n",
       "      <td>منطقة الرياض</td>\n",
       "      <td>الرياض</td>\n",
       "      <td>الحمد لله والصلاة والسلام على رسول ﷲ أما بعد\\n...</td>\n",
       "      <td>الحمد لله والصلاة والسلام على رسول ﷲ أما بعد\\n...</td>\n",
       "    </tr>\n",
       "    <tr>\n",
       "      <th>122</th>\n",
       "      <td>القضية رقم  ٨٥٣٢ لعام ١٤٣٩ هـ</td>\n",
       "      <td>المحكمة التجارية</td>\n",
       "      <td>٨٥٣٢</td>\n",
       "      <td>٣٠/٨/١٤٤٢</td>\n",
       "      <td>المحكمة التجارية</td>\n",
       "      <td>٤٧٦٧</td>\n",
       "      <td>٨/٢/١٤٤٣</td>\n",
       "      <td>منطقة الرياض</td>\n",
       "      <td>الرياض</td>\n",
       "      <td>الحمد لله والصلاة والسلام على رسول ﷲ أما بعد\\n...</td>\n",
       "      <td>الحمد لله والصلاة والسلام على رسول ﷲ أما بعد\\n...</td>\n",
       "    </tr>\n",
       "    <tr>\n",
       "      <th>140</th>\n",
       "      <td>القضية رقم ١٤٧٨ لعام ١٤٤٢ هـ</td>\n",
       "      <td>المحكمة التجارية</td>\n",
       "      <td>١٤٧٨</td>\n",
       "      <td>١٠/٤/١٤٤٢</td>\n",
       "      <td>المحكمة التجارية</td>\n",
       "      <td>٢٠٠٧</td>\n",
       "      <td>٨/٢/١٤٤٣</td>\n",
       "      <td>منطقة الرياض</td>\n",
       "      <td>الرياض</td>\n",
       "      <td>الحمد لله والصلاة والسلام على رسول ﷲ أما بعد\\n...</td>\n",
       "      <td>الحمد لله والصلاة والسلام على رسول ﷲ أما بعد\\n...</td>\n",
       "    </tr>\n",
       "    <tr>\n",
       "      <th>205</th>\n",
       "      <td>القضية رقم ٤٩٧ لعام ١٤٤٠ هـ</td>\n",
       "      <td>المحكمة التجارية</td>\n",
       "      <td>٤٩٧</td>\n",
       "      <td>٧/١١/١٤٤١</td>\n",
       "      <td>المحكمة التجارية</td>\n",
       "      <td>٢٢</td>\n",
       "      <td>٨/٢/١٤٤٣</td>\n",
       "      <td>منطقة المدينة المنورة</td>\n",
       "      <td>المدينة المنورة</td>\n",
       "      <td>الحمد لله والصلاة والسلام على رسول ﷲ أما بعد\\n...</td>\n",
       "      <td>الحمد لله والصلاة والسلام على رسول ﷲ أما بعد\\n...</td>\n",
       "    </tr>\n",
       "  </tbody>\n",
       "</table>\n",
       "<p>108 rows × 11 columns</p>\n",
       "</div>"
      ],
      "text/plain": [
       "                              links              court court_id  court_date  \\\n",
       "6    القضية رقم  ١٠٢٤٢ لعام ١٤٤١ هـ   المحكمة التجارية    ١٠٢٤٢   ٢٢/٣/١٤٤٢   \n",
       "11    القضية رقم  ٣٨٩٥ لعام ١٤٤٢ هـ   المحكمة التجارية     ٣٨٩٥   ٢٣/٩/١٤٤٢   \n",
       "1     القضية رقم  ٦٩٥٨ لعام ١٤٤٢ هـ   المحكمة التجارية     ٦٩٥٨  ٢٥/١٢/١٤٤٢   \n",
       "93    القضية رقم ١٠٠٧٥ لعام ١٤٤١ هـ   المحكمة التجارية    ١٠٠٧٥   ١٦/٣/١٤٤٢   \n",
       "56    القضية رقم  ٧٤٤٠ لعام ١٤٣٧ هـ   المحكمة التجارية     ٧٤٤٠   ٢٤/٢/١٤٤٢   \n",
       "..                              ...                ...      ...         ...   \n",
       "163   القضية رقم  ١٣٠٨ لعام ١٤٤٢ هـ   المحكمة التجارية     ١٣٠٨  ١٢/١١/١٤٤٢   \n",
       "64     القضية رقم ٢٢٤٤ لعام ١٤٤٢ هـ   المحكمة التجارية     ٢٢٤٤   ١٢/٦/١٤٤٢   \n",
       "122   القضية رقم  ٨٥٣٢ لعام ١٤٣٩ هـ   المحكمة التجارية     ٨٥٣٢   ٣٠/٨/١٤٤٢   \n",
       "140    القضية رقم ١٤٧٨ لعام ١٤٤٢ هـ   المحكمة التجارية     ١٤٧٨   ١٠/٤/١٤٤٢   \n",
       "205     القضية رقم ٤٩٧ لعام ١٤٤٠ هـ   المحكمة التجارية      ٤٩٧   ٧/١١/١٤٤١   \n",
       "\n",
       "         appeal_court appeal_id appeal_date                 region  \\\n",
       "6    المحكمة التجارية      ٢١٢٨    ٧/٣/١٤٤٣           منطقة الرياض   \n",
       "11   المحكمة التجارية       ٢٤٥    ٥/٣/١٤٤٣           منطقة الرياض   \n",
       "1    المحكمة التجارية       ٥٤٦    ٦/٣/١٤٤٣           منطقة الرياض   \n",
       "93   المحكمة التجارية      ٢٥٠٠    ٧/٢/١٤٤٣           منطقة الرياض   \n",
       "56   المحكمة التجارية      ٢٢٢٩    ٦/٣/١٤٤٣           منطقة الرياض   \n",
       "..                ...       ...         ...                    ...   \n",
       "163   محكمة الاستئناف       ١٢٢    ٧/٢/١٤٤٣        المنطقة الشرقية   \n",
       "64   المحكمة التجارية      ٣٦٩٤    ٩/٢/١٤٤٣           منطقة الرياض   \n",
       "122  المحكمة التجارية      ٤٧٦٧    ٨/٢/١٤٤٣           منطقة الرياض   \n",
       "140  المحكمة التجارية      ٢٠٠٧    ٨/٢/١٤٤٣           منطقة الرياض   \n",
       "205  المحكمة التجارية        ٢٢    ٨/٢/١٤٤٣  منطقة المدينة المنورة   \n",
       "\n",
       "                city                                      judgment_text  \\\n",
       "6             الرياض  الحمد لله والصلاة والسلام على رسول ﷲ أما بعد\\n...   \n",
       "11            الرياض  الحمد لله والصلاة والسلام على رسول ﷲ أما بعد\\n...   \n",
       "1             الرياض  الحمد لله والصلاة والسلام على رسول ﷲ أما بعد\\n...   \n",
       "93            الرياض  الحمد لله والصلاة والسلام على رسول ﷲ أما بعد\\n...   \n",
       "56            الرياض  الحمد لله والصلاة والسلام على رسول ﷲ أما بعد\\n...   \n",
       "..               ...                                                ...   \n",
       "163           الدمام  الحمد لله والصلاة والسلام على رسول ﷲ أما بعد\\n...   \n",
       "64            الرياض  الحمد لله والصلاة والسلام على رسول ﷲ أما بعد\\n...   \n",
       "122           الرياض  الحمد لله والصلاة والسلام على رسول ﷲ أما بعد\\n...   \n",
       "140           الرياض  الحمد لله والصلاة والسلام على رسول ﷲ أما بعد\\n...   \n",
       "205  المدينة المنورة  الحمد لله والصلاة والسلام على رسول ﷲ أما بعد\\n...   \n",
       "\n",
       "                                           appeal_text  \n",
       "6    الحمد لله والصلاة والسلام على رسول ﷲ أما بعد\\n...  \n",
       "11   الحمد لله والصلاة والسلام على رسول ﷲ أما بعد\\n...  \n",
       "1    الحمد لله والصلاة والسلام على رسول ﷲ أما بعد\\n...  \n",
       "93   الحمد لله والصلاة والسلام على رسول ﷲ أما بعد\\n...  \n",
       "56   الحمد لله والصلاة والسلام على رسول ﷲ أما بعد\\n...  \n",
       "..                                                 ...  \n",
       "163  الحمد لله والصلاة والسلام على رسول ﷲ أما بعد\\n...  \n",
       "64   الحمد لله والصلاة والسلام على رسول ﷲ أما بعد\\n...  \n",
       "122  الحمد لله والصلاة والسلام على رسول ﷲ أما بعد\\n...  \n",
       "140  الحمد لله والصلاة والسلام على رسول ﷲ أما بعد\\n...  \n",
       "205  الحمد لله والصلاة والسلام على رسول ﷲ أما بعد\\n...  \n",
       "\n",
       "[108 rows x 11 columns]"
      ]
     },
     "execution_count": 36,
     "metadata": {},
     "output_type": "execute_result"
    }
   ],
   "source": [
    "df_train"
   ]
  },
  {
   "cell_type": "markdown",
   "id": "79c585e4",
   "metadata": {},
   "source": [
    "# Preprocessing"
   ]
  },
  {
   "cell_type": "markdown",
   "id": "0125617f",
   "metadata": {},
   "source": [
    "### Remove stopwords"
   ]
  },
  {
   "cell_type": "code",
   "execution_count": 37,
   "id": "600c3889",
   "metadata": {},
   "outputs": [],
   "source": [
    "# df_train['judgment_text'] = df_train['judgment_text'].apply(lambda x: ' '.join([word for word in x.split() if word not in stp.stopwords_list()]))\n",
    "# df_train['appeal_text'] = df_train['appeal_text'].apply(lambda y: ' '.join([word for word in y.split() if word not in stp.stopwords_list()]))\n"
   ]
  },
  {
   "cell_type": "markdown",
   "id": "f7c83981",
   "metadata": {},
   "source": [
    "### Remove digits"
   ]
  },
  {
   "cell_type": "code",
   "execution_count": 38,
   "id": "f7114344",
   "metadata": {},
   "outputs": [],
   "source": [
    "df_train['judgment_text'] = df_train['judgment_text'].apply(lambda x: re.sub('\\w*\\d\\w*', '', x))\n",
    "df_train['appeal_text'] = df_train['appeal_text'].apply(lambda x: re.sub('\\w*\\d\\w*', '', x))"
   ]
  },
  {
   "cell_type": "code",
   "execution_count": 43,
   "id": "2b71296b",
   "metadata": {},
   "outputs": [],
   "source": [
    "df_train['judgment_text'] = df_train['judgment_text'].str.replace('\\n','')"
   ]
  },
  {
   "cell_type": "code",
   "execution_count": 54,
   "id": "0508f3e4",
   "metadata": {},
   "outputs": [],
   "source": [
    "df_train['judgment_text'] = df_train['judgment_text'].apply(lambda x: ISRIStemmer().suf32(x))\n"
   ]
  },
  {
   "cell_type": "code",
   "execution_count": 55,
   "id": "10241fe5",
   "metadata": {
    "scrolled": false
   },
   "outputs": [
    {
     "data": {
      "text/plain": [
       "'الحمد لله والصلاة والسلام على رسول ﷲ أما بعدفلدى الدائرة التجارية الثانية والعشرون وبناءً على القضية رقم   لعام  هالمقامة من عبدﷲ ابراهيم علي المحمود سجل تجاري  ضد تغريد بنت محمد  صفير هوية وطنية    القاضي عمر بن مبارك الدوسري رئيسا الوقائع تتلخص وقائع هذه الدعوى وبالقدر اللازم لإصدار هذا الحكم في أنه وردت إلى المحكمة التجارية لائحة دعوى مقدمة من المدعي وكالة ضد المدعى عليها والمثبتة بياناتها في ملف القضية حيث جاء في لائحة الدعوى اتفق موكلي مع الجهة المدعى عليها بتأريخ   لتنفيذ أعمال الموقع الخارجي لمشروع القوات البحرية الملكية السعودية في الجبيل وتمثل  من أعمال المشروع والمتمثلة في أعمال السفلتة وغرف التفتيش وعددها  غرفة ومدة العقد  خمسة عشر يوماً ولم تنجز الجهة المدعى عليها سوى  من الأعمال وعدد  غرف تفتيش من عدد  غرفة واستلموا كامل المبلغ وقدره  مئتان واثنان وعشرون الف ريال دون إتمام المشروع والمستحق الفعلي لهم هو  مئة وعشرة ألف ريالاً فقط لذا أطلب  أن يلزم الجهة المدعى عليها مؤسسة قمة الصحراء للمقاولات العامة بدفع لموكلتي مبلغ وقدره  مئة واثنا عشر ألف ريالاً فقط وبعد أن قيدت الأوراق قضية بالرقم المشار إليه بعالية أحيلت إلى هذه الدائرة فباشرت نظرها على النحو الموضح بمحاضر الضبط ففي جلسة يوم  ه حضر وكيل المدعي بوكالة رقم  ثم ذكر المدعي أن دعواه مقامة من شركة بيت الجزيرة وباطلاع الدائرة على صحيفة الدعوى المقدمة تبين صحة ذلك وعليه قررت الدائرة تصحيح اسم المدعي ليكون موافق لما تم في صحيفة الدعوى وبسماع المدعى عليها للائحة الدعوى طلبت أجلاً وأن يكون لكل طرف مهلة سبعة أيام لحين موعد الجلسة القادمة وفي تاريخ  قدم وكيل المدعى عليه مذكرة جاء فيها ادعى المدعي في دعواه بأننا لم ننجز سوى  من الأعمال مستنداً بذلك على التقرير الهندسي المؤرخ في    وهذا غير صحيح حيث إن الصحيح هو ما تقدم به المدعي في مرفقات صحيفة دعواها مستخلص أعمال نهائي والمؤرخة في    أي بعد تاريخ التقرير الهندسي من القوات البحرية بأكثر من خمسة أشهر والموقع من المدير التنفيذي ومهندس المشروع كما أن المدعية استلمت بناء على مستخلص اعمال النهائي مبلغ  بموجب سند قبض صادر منها وبختمها ومؤرخ في    وصدور اتفاقية مخالصة بذات التاريخ وعلى ما تقدم اطلب رد الدعوى ثم أرفق المدعى عليه  قبض  مخالصة  نهائي وفي تاريخ  قدم وكيل المدعي مذكرة رد جاء فيها ما نصه إجابة على رد المدعى عليها مؤسسة قمة الصحراء أنه بعد العودة إلى الاستشاري بشأن تاريخ التقرير وجِد خطأ في تاريخ التقرير السابق لاستشاري الموقع والمعين من قبل قاعدة الملك عبدالعزيز بالقوات البحرية بالمنطقة الشرقية    وأن الصحيح هو    الموافق   وهو المتوافق مع توقيع اعتماد ضابط المشروع وتم تعديل التقرير للتاريخ الصحيح ومرفق صورة منه مرفق  أما ردهم بأن المستخلص اعمال نهائي والمؤرخة في    أي بعد تاريخ التقرير الهندسي من القوات البحرية بأكثر من خمسة أشهر والموقع من المدير التنفيذي ومهندس المشروع فالإجابة عليه بأن تقرير الاستشاري جاء بعد المستخلص أعمال النهائي والذي يكشف عن غش وخداع الجهة المدعى عليها وعدم اكمالها ما تم التعاقد لتنفيذه ونحن نطعن في هذا المستخلص النهائي الغير صحيح لما تم تنفيذه على أرض الموقع كما أفيد فضيلة ناظر القضية بأنه تم التواصل مع المدعى عليها بتاريخ    قبل رفع تقرير الاستشاري ومرفق خطاب بذلك من قبلنا وتم استلامه من قبل المدعي عليها ولم يكن هناك استجابة أو حضور للاجتماع مع استشاري ومهندس الموقع التقرير  وللعلم بأن مهندس الموقع والمدير التنفيذي السابقين لا يعملون لدي الشركة منذ شهر  وأمّا ردهم ب أن المدعية استلمت بناء على مستخلص اعمال النهائي مبلغ  بموجب سند قبض صادر منها وبختمها ومؤرخ في    وصدور اتفاقية مخالصة بذات التاريخ فالإجابة عليه بأنه تم تسليم المبلغ نقدا للمدير التنفيذي السابق للشركة ولم يُورَد لحسابات الشركة ولا نعرف عن هذا المبلغ أي شيء لذا أطلب إلزام الجهة المدعى عليها بتسليم موكلتي مبلغاً وقدره  مئة واثنا عشر ألف وثمان مئة وثمانية عشر ريالاً فقط ثم أرفق وكيل المدعي  طلب اجتماع  استشاري المشروع وفي جلسة بتاريخ  افتتحت الجلسة وفيها حضر وكيل المدعي كما حضر وكيل المدعى عليه وقد ورد للدائرة رد المدعى عليها المتضمن أن الصحيح هو ما تقدم به المدعي في مرفقات صحيفة دعواها مستخلص أعمال نهائي والمؤرخة في    أي بعد تاريخ التقرير الهندسي من القوات البحرية بأكثر من خمسة أشهر والموقع من المدير التنفيذي ومهندس المشروع كما أن المدعية استلمت بناء على مستخلص اعمال النهائي مبلغ  ريال ورد المدعي عليها والمتضمن أنه بالعودة إلى استشاري المشروع بشأن تأريخ التقرير أفاد بوجود خطأ في التأريخ السابق وأن الصحيح هو    الموافق    ومتوافق مع توقيع اعتماد ضابط المشروع  أن تأريخ المستخلص النهائي سابق للتقرير الهندسي لاستشاري المشروع والذي يكشف عن غش وخداع المدعى عليها في تنفيذ واكمال ما تم التعاقد لتنفيذه  المدعى عليها استلمت مبلغ  ريال بناء على المستخلص النهائي فإنها استلمت المبلغ نقدا من المدير التنفيذي السابق للشركة ولم يتم توريد المبلغ لحسابات الشركة وقرر وكيل المدعي ووكيل المدعى عليها انهما يكتفيان بما قدما وعليه رفعت الجلسة وفي جلسة يوم  حضر وكيل المدعي بالوكالة رقم  كما حضرت المدعى عليها أصالة وقررت الدائرة رفع الجلسة للمداولة الأسباب لما كان المدعي وكالة يطلب إلزام المدعى عليه برد مبلغ وقدره  مئة واثنا عشر ألف وثمان مئة وثمانية عشر ريالاً وذلك لأن المدعى عليها استلمت مبلغاً وقدره  مئتان واثنان وعشرون ألف ريال وهي كامل قيمة العقد دون إتمام المشروع والمستحق الفعلي لما نفذ على أرض الواقع بزعم المدعي هو  مئة وعشرة ألف ريالاً فقط وبما أن المدعى عليها أجابت بعدم صحة ما يدعيه المدعي كما أرفقت مخالصة نهائية موقعة من المدعي وباطلاع الدائرة على ما قدمه الطرفان وحيث قدمت المدعى عليها المخالصة النهائية بقيمة  مؤرخة في      مرفقاً معها سند القبض بقيمة  أربعة وثلاثين ألفاً وخمسمائة ريال ممهوراً بختم المدعى عليها وأجابت عنها المدعية بأن تلك المخالصة تم استلام قيمتها نقداً من قبل المدير التنفيذي السابق إلا أنها لم تورد لحسابات الشركة فإن هذا إقرار بصحة هذه المخالصة المبرمة مع المدعى عليها إذ أنَّه من المقرر قضاءً مسؤولية التابع عن أعمال متبوعه متى ما تهيأ للمتعامل حسن النية صلاحية تصرفات التابع عن متبوعه وانسحاب آثارها إليه تطبيقاً لقاعدة الغنم بالغرم لاسيما وأن المستخلص النهائي المقدم من المدعية في الدعوى مؤرخ في  والمخالصة مؤرخة بعده مما تنتهي معه الدائرة إلى رفض الدعوىمنطوق الحكم حكمت الدائرة برفض الدعوى المقامة من شركة بيت الجزيرة للتجارة والمقاولات سجل تجاري رقم  ضد تغريد بنت محمد صفير جحفلي هوية وطنية رقم وبالله التوفيقرئيس الدائرةعمر بن مبارك الدوسري'"
      ]
     },
     "execution_count": 55,
     "metadata": {},
     "output_type": "execute_result"
    }
   ],
   "source": [
    "df_train['judgment_text'][0]"
   ]
  },
  {
   "cell_type": "markdown",
   "id": "fd2e81f5",
   "metadata": {},
   "source": [
    "# TF-IDF"
   ]
  },
  {
   "cell_type": "code",
   "execution_count": 56,
   "id": "dc936343",
   "metadata": {},
   "outputs": [],
   "source": [
    "cv_tfidf = TfidfVectorizer()\n",
    "x = cv_tfidf.fit_transform(df_train['judgment_text']).toarray()"
   ]
  },
  {
   "cell_type": "code",
   "execution_count": 57,
   "id": "0b770839",
   "metadata": {},
   "outputs": [
    {
     "data": {
      "text/plain": [
       "array([[0., 0., 0., ..., 0., 0., 0.],\n",
       "       [0., 0., 0., ..., 0., 0., 0.],\n",
       "       [0., 0., 0., ..., 0., 0., 0.],\n",
       "       ...,\n",
       "       [0., 0., 0., ..., 0., 0., 0.],\n",
       "       [0., 0., 0., ..., 0., 0., 0.],\n",
       "       [0., 0., 0., ..., 0., 0., 0.]])"
      ]
     },
     "execution_count": 57,
     "metadata": {},
     "output_type": "execute_result"
    }
   ],
   "source": [
    "x"
   ]
  },
  {
   "cell_type": "code",
   "execution_count": 58,
   "id": "967689cb",
   "metadata": {
    "scrolled": false
   },
   "outputs": [
    {
     "data": {
      "text/html": [
       "<div>\n",
       "<style scoped>\n",
       "    .dataframe tbody tr th:only-of-type {\n",
       "        vertical-align: middle;\n",
       "    }\n",
       "\n",
       "    .dataframe tbody tr th {\n",
       "        vertical-align: top;\n",
       "    }\n",
       "\n",
       "    .dataframe thead th {\n",
       "        text-align: right;\n",
       "    }\n",
       "</style>\n",
       "<table border=\"1\" class=\"dataframe\">\n",
       "  <thead>\n",
       "    <tr style=\"text-align: right;\">\n",
       "      <th></th>\n",
       "      <th>aed</th>\n",
       "      <th>ikk</th>\n",
       "      <th>ilg</th>\n",
       "      <th>ip</th>\n",
       "      <th>kabbani</th>\n",
       "      <th>microsoft</th>\n",
       "      <th>ncb</th>\n",
       "      <th>ritco</th>\n",
       "      <th>rtpcr</th>\n",
       "      <th>teams</th>\n",
       "      <th>...</th>\n",
       "      <th>يوليو</th>\n",
       "      <th>يوم</th>\n",
       "      <th>يوما</th>\n",
       "      <th>يومرئيس</th>\n",
       "      <th>يومي</th>\n",
       "      <th>يوميا</th>\n",
       "      <th>يومين</th>\n",
       "      <th>يونيو</th>\n",
       "      <th>يوهمني</th>\n",
       "      <th>يي</th>\n",
       "    </tr>\n",
       "  </thead>\n",
       "  <tbody>\n",
       "    <tr>\n",
       "      <th>0</th>\n",
       "      <td>0.0</td>\n",
       "      <td>0.0</td>\n",
       "      <td>0.0</td>\n",
       "      <td>0.0</td>\n",
       "      <td>0.0</td>\n",
       "      <td>0.0</td>\n",
       "      <td>0.0</td>\n",
       "      <td>0.0</td>\n",
       "      <td>0.0</td>\n",
       "      <td>0.0</td>\n",
       "      <td>...</td>\n",
       "      <td>0.0</td>\n",
       "      <td>0.000000</td>\n",
       "      <td>0.00000</td>\n",
       "      <td>0.0</td>\n",
       "      <td>0.0</td>\n",
       "      <td>0.0</td>\n",
       "      <td>0.000000</td>\n",
       "      <td>0.0</td>\n",
       "      <td>0.0</td>\n",
       "      <td>0.0</td>\n",
       "    </tr>\n",
       "    <tr>\n",
       "      <th>1</th>\n",
       "      <td>0.0</td>\n",
       "      <td>0.0</td>\n",
       "      <td>0.0</td>\n",
       "      <td>0.0</td>\n",
       "      <td>0.0</td>\n",
       "      <td>0.0</td>\n",
       "      <td>0.0</td>\n",
       "      <td>0.0</td>\n",
       "      <td>0.0</td>\n",
       "      <td>0.0</td>\n",
       "      <td>...</td>\n",
       "      <td>0.0</td>\n",
       "      <td>0.000000</td>\n",
       "      <td>0.00000</td>\n",
       "      <td>0.0</td>\n",
       "      <td>0.0</td>\n",
       "      <td>0.0</td>\n",
       "      <td>0.000000</td>\n",
       "      <td>0.0</td>\n",
       "      <td>0.0</td>\n",
       "      <td>0.0</td>\n",
       "    </tr>\n",
       "    <tr>\n",
       "      <th>2</th>\n",
       "      <td>0.0</td>\n",
       "      <td>0.0</td>\n",
       "      <td>0.0</td>\n",
       "      <td>0.0</td>\n",
       "      <td>0.0</td>\n",
       "      <td>0.0</td>\n",
       "      <td>0.0</td>\n",
       "      <td>0.0</td>\n",
       "      <td>0.0</td>\n",
       "      <td>0.0</td>\n",
       "      <td>...</td>\n",
       "      <td>0.0</td>\n",
       "      <td>0.022034</td>\n",
       "      <td>0.00000</td>\n",
       "      <td>0.0</td>\n",
       "      <td>0.0</td>\n",
       "      <td>0.0</td>\n",
       "      <td>0.000000</td>\n",
       "      <td>0.0</td>\n",
       "      <td>0.0</td>\n",
       "      <td>0.0</td>\n",
       "    </tr>\n",
       "    <tr>\n",
       "      <th>3</th>\n",
       "      <td>0.0</td>\n",
       "      <td>0.0</td>\n",
       "      <td>0.0</td>\n",
       "      <td>0.0</td>\n",
       "      <td>0.0</td>\n",
       "      <td>0.0</td>\n",
       "      <td>0.0</td>\n",
       "      <td>0.0</td>\n",
       "      <td>0.0</td>\n",
       "      <td>0.0</td>\n",
       "      <td>...</td>\n",
       "      <td>0.0</td>\n",
       "      <td>0.000000</td>\n",
       "      <td>0.02085</td>\n",
       "      <td>0.0</td>\n",
       "      <td>0.0</td>\n",
       "      <td>0.0</td>\n",
       "      <td>0.000000</td>\n",
       "      <td>0.0</td>\n",
       "      <td>0.0</td>\n",
       "      <td>0.0</td>\n",
       "    </tr>\n",
       "    <tr>\n",
       "      <th>4</th>\n",
       "      <td>0.0</td>\n",
       "      <td>0.0</td>\n",
       "      <td>0.0</td>\n",
       "      <td>0.0</td>\n",
       "      <td>0.0</td>\n",
       "      <td>0.0</td>\n",
       "      <td>0.0</td>\n",
       "      <td>0.0</td>\n",
       "      <td>0.0</td>\n",
       "      <td>0.0</td>\n",
       "      <td>...</td>\n",
       "      <td>0.0</td>\n",
       "      <td>0.000000</td>\n",
       "      <td>0.00000</td>\n",
       "      <td>0.0</td>\n",
       "      <td>0.0</td>\n",
       "      <td>0.0</td>\n",
       "      <td>0.000000</td>\n",
       "      <td>0.0</td>\n",
       "      <td>0.0</td>\n",
       "      <td>0.0</td>\n",
       "    </tr>\n",
       "    <tr>\n",
       "      <th>...</th>\n",
       "      <td>...</td>\n",
       "      <td>...</td>\n",
       "      <td>...</td>\n",
       "      <td>...</td>\n",
       "      <td>...</td>\n",
       "      <td>...</td>\n",
       "      <td>...</td>\n",
       "      <td>...</td>\n",
       "      <td>...</td>\n",
       "      <td>...</td>\n",
       "      <td>...</td>\n",
       "      <td>...</td>\n",
       "      <td>...</td>\n",
       "      <td>...</td>\n",
       "      <td>...</td>\n",
       "      <td>...</td>\n",
       "      <td>...</td>\n",
       "      <td>...</td>\n",
       "      <td>...</td>\n",
       "      <td>...</td>\n",
       "      <td>...</td>\n",
       "    </tr>\n",
       "    <tr>\n",
       "      <th>103</th>\n",
       "      <td>0.0</td>\n",
       "      <td>0.0</td>\n",
       "      <td>0.0</td>\n",
       "      <td>0.0</td>\n",
       "      <td>0.0</td>\n",
       "      <td>0.0</td>\n",
       "      <td>0.0</td>\n",
       "      <td>0.0</td>\n",
       "      <td>0.0</td>\n",
       "      <td>0.0</td>\n",
       "      <td>...</td>\n",
       "      <td>0.0</td>\n",
       "      <td>0.000000</td>\n",
       "      <td>0.00000</td>\n",
       "      <td>0.0</td>\n",
       "      <td>0.0</td>\n",
       "      <td>0.0</td>\n",
       "      <td>0.000000</td>\n",
       "      <td>0.0</td>\n",
       "      <td>0.0</td>\n",
       "      <td>0.0</td>\n",
       "    </tr>\n",
       "    <tr>\n",
       "      <th>104</th>\n",
       "      <td>0.0</td>\n",
       "      <td>0.0</td>\n",
       "      <td>0.0</td>\n",
       "      <td>0.0</td>\n",
       "      <td>0.0</td>\n",
       "      <td>0.0</td>\n",
       "      <td>0.0</td>\n",
       "      <td>0.0</td>\n",
       "      <td>0.0</td>\n",
       "      <td>0.0</td>\n",
       "      <td>...</td>\n",
       "      <td>0.0</td>\n",
       "      <td>0.000000</td>\n",
       "      <td>0.00000</td>\n",
       "      <td>0.0</td>\n",
       "      <td>0.0</td>\n",
       "      <td>0.0</td>\n",
       "      <td>0.000000</td>\n",
       "      <td>0.0</td>\n",
       "      <td>0.0</td>\n",
       "      <td>0.0</td>\n",
       "    </tr>\n",
       "    <tr>\n",
       "      <th>105</th>\n",
       "      <td>0.0</td>\n",
       "      <td>0.0</td>\n",
       "      <td>0.0</td>\n",
       "      <td>0.0</td>\n",
       "      <td>0.0</td>\n",
       "      <td>0.0</td>\n",
       "      <td>0.0</td>\n",
       "      <td>0.0</td>\n",
       "      <td>0.0</td>\n",
       "      <td>0.0</td>\n",
       "      <td>...</td>\n",
       "      <td>0.0</td>\n",
       "      <td>0.000000</td>\n",
       "      <td>0.00000</td>\n",
       "      <td>0.0</td>\n",
       "      <td>0.0</td>\n",
       "      <td>0.0</td>\n",
       "      <td>0.000000</td>\n",
       "      <td>0.0</td>\n",
       "      <td>0.0</td>\n",
       "      <td>0.0</td>\n",
       "    </tr>\n",
       "    <tr>\n",
       "      <th>106</th>\n",
       "      <td>0.0</td>\n",
       "      <td>0.0</td>\n",
       "      <td>0.0</td>\n",
       "      <td>0.0</td>\n",
       "      <td>0.0</td>\n",
       "      <td>0.0</td>\n",
       "      <td>0.0</td>\n",
       "      <td>0.0</td>\n",
       "      <td>0.0</td>\n",
       "      <td>0.0</td>\n",
       "      <td>...</td>\n",
       "      <td>0.0</td>\n",
       "      <td>0.000000</td>\n",
       "      <td>0.00000</td>\n",
       "      <td>0.0</td>\n",
       "      <td>0.0</td>\n",
       "      <td>0.0</td>\n",
       "      <td>0.000000</td>\n",
       "      <td>0.0</td>\n",
       "      <td>0.0</td>\n",
       "      <td>0.0</td>\n",
       "    </tr>\n",
       "    <tr>\n",
       "      <th>107</th>\n",
       "      <td>0.0</td>\n",
       "      <td>0.0</td>\n",
       "      <td>0.0</td>\n",
       "      <td>0.0</td>\n",
       "      <td>0.0</td>\n",
       "      <td>0.0</td>\n",
       "      <td>0.0</td>\n",
       "      <td>0.0</td>\n",
       "      <td>0.0</td>\n",
       "      <td>0.0</td>\n",
       "      <td>...</td>\n",
       "      <td>0.0</td>\n",
       "      <td>0.042230</td>\n",
       "      <td>0.00000</td>\n",
       "      <td>0.0</td>\n",
       "      <td>0.0</td>\n",
       "      <td>0.0</td>\n",
       "      <td>0.012649</td>\n",
       "      <td>0.0</td>\n",
       "      <td>0.0</td>\n",
       "      <td>0.0</td>\n",
       "    </tr>\n",
       "  </tbody>\n",
       "</table>\n",
       "<p>108 rows × 13518 columns</p>\n",
       "</div>"
      ],
      "text/plain": [
       "     aed  ikk  ilg   ip  kabbani  microsoft  ncb  ritco  rtpcr  teams  ...  \\\n",
       "0    0.0  0.0  0.0  0.0      0.0        0.0  0.0    0.0    0.0    0.0  ...   \n",
       "1    0.0  0.0  0.0  0.0      0.0        0.0  0.0    0.0    0.0    0.0  ...   \n",
       "2    0.0  0.0  0.0  0.0      0.0        0.0  0.0    0.0    0.0    0.0  ...   \n",
       "3    0.0  0.0  0.0  0.0      0.0        0.0  0.0    0.0    0.0    0.0  ...   \n",
       "4    0.0  0.0  0.0  0.0      0.0        0.0  0.0    0.0    0.0    0.0  ...   \n",
       "..   ...  ...  ...  ...      ...        ...  ...    ...    ...    ...  ...   \n",
       "103  0.0  0.0  0.0  0.0      0.0        0.0  0.0    0.0    0.0    0.0  ...   \n",
       "104  0.0  0.0  0.0  0.0      0.0        0.0  0.0    0.0    0.0    0.0  ...   \n",
       "105  0.0  0.0  0.0  0.0      0.0        0.0  0.0    0.0    0.0    0.0  ...   \n",
       "106  0.0  0.0  0.0  0.0      0.0        0.0  0.0    0.0    0.0    0.0  ...   \n",
       "107  0.0  0.0  0.0  0.0      0.0        0.0  0.0    0.0    0.0    0.0  ...   \n",
       "\n",
       "     يوليو       يوم     يوما  يومرئيس  يومي  يوميا     يومين  يونيو  يوهمني  \\\n",
       "0      0.0  0.000000  0.00000      0.0   0.0    0.0  0.000000    0.0     0.0   \n",
       "1      0.0  0.000000  0.00000      0.0   0.0    0.0  0.000000    0.0     0.0   \n",
       "2      0.0  0.022034  0.00000      0.0   0.0    0.0  0.000000    0.0     0.0   \n",
       "3      0.0  0.000000  0.02085      0.0   0.0    0.0  0.000000    0.0     0.0   \n",
       "4      0.0  0.000000  0.00000      0.0   0.0    0.0  0.000000    0.0     0.0   \n",
       "..     ...       ...      ...      ...   ...    ...       ...    ...     ...   \n",
       "103    0.0  0.000000  0.00000      0.0   0.0    0.0  0.000000    0.0     0.0   \n",
       "104    0.0  0.000000  0.00000      0.0   0.0    0.0  0.000000    0.0     0.0   \n",
       "105    0.0  0.000000  0.00000      0.0   0.0    0.0  0.000000    0.0     0.0   \n",
       "106    0.0  0.000000  0.00000      0.0   0.0    0.0  0.000000    0.0     0.0   \n",
       "107    0.0  0.042230  0.00000      0.0   0.0    0.0  0.012649    0.0     0.0   \n",
       "\n",
       "      يي  \n",
       "0    0.0  \n",
       "1    0.0  \n",
       "2    0.0  \n",
       "3    0.0  \n",
       "4    0.0  \n",
       "..   ...  \n",
       "103  0.0  \n",
       "104  0.0  \n",
       "105  0.0  \n",
       "106  0.0  \n",
       "107  0.0  \n",
       "\n",
       "[108 rows x 13518 columns]"
      ]
     },
     "execution_count": 58,
     "metadata": {},
     "output_type": "execute_result"
    }
   ],
   "source": [
    "dt_tfidf = pd.DataFrame(x,columns=cv_tfidf.get_feature_names())\n",
    "dt_tfidf"
   ]
  },
  {
   "cell_type": "code",
   "execution_count": null,
   "id": "cd849764",
   "metadata": {},
   "outputs": [],
   "source": []
  },
  {
   "cell_type": "code",
   "execution_count": null,
   "id": "6c67a449",
   "metadata": {},
   "outputs": [],
   "source": []
  }
 ],
 "metadata": {
  "kernelspec": {
   "display_name": "Python 3",
   "language": "python",
   "name": "python3"
  },
  "language_info": {
   "codemirror_mode": {
    "name": "ipython",
    "version": 3
   },
   "file_extension": ".py",
   "mimetype": "text/x-python",
   "name": "python",
   "nbconvert_exporter": "python",
   "pygments_lexer": "ipython3",
   "version": "3.8.8"
  }
 },
 "nbformat": 4,
 "nbformat_minor": 5
}
