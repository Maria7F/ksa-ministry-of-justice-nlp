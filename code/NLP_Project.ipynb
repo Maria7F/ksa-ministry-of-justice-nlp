{
 "cells": [
  {
   "cell_type": "code",
   "execution_count": 26,
   "id": "10fcc44c",
   "metadata": {},
   "outputs": [],
   "source": [
    "import pandas as pd\n",
    "import numpy as np\n",
    "import sklearn\n",
    "import seaborn as sns\n",
    "import matplotlib.pyplot as plt\n",
    "from sklearn.model_selection import train_test_split\n",
    "%matplotlib inline\n",
    "import warnings\n",
    "warnings.filterwarnings('ignore')"
   ]
  },
  {
   "cell_type": "code",
   "execution_count": 2,
   "id": "ee4c745a",
   "metadata": {},
   "outputs": [
    {
     "data": {
      "text/html": [
       "<div>\n",
       "<style scoped>\n",
       "    .dataframe tbody tr th:only-of-type {\n",
       "        vertical-align: middle;\n",
       "    }\n",
       "\n",
       "    .dataframe tbody tr th {\n",
       "        vertical-align: top;\n",
       "    }\n",
       "\n",
       "    .dataframe thead th {\n",
       "        text-align: right;\n",
       "    }\n",
       "</style>\n",
       "<table border=\"1\" class=\"dataframe\">\n",
       "  <thead>\n",
       "    <tr style=\"text-align: right;\">\n",
       "      <th></th>\n",
       "      <th>web-scraper-order</th>\n",
       "      <th>web-scraper-start-url</th>\n",
       "      <th>links</th>\n",
       "      <th>links-href</th>\n",
       "      <th>court</th>\n",
       "      <th>case_number</th>\n",
       "      <th>case_date</th>\n",
       "      <th>appellate_court</th>\n",
       "      <th>appellate_id</th>\n",
       "      <th>appellate_date</th>\n",
       "      <th>region</th>\n",
       "      <th>city</th>\n",
       "      <th>judgment_text</th>\n",
       "      <th>appeal</th>\n",
       "      <th>pages</th>\n",
       "      <th>pages-href</th>\n",
       "    </tr>\n",
       "  </thead>\n",
       "  <tbody>\n",
       "    <tr>\n",
       "      <th>0</th>\n",
       "      <td>1640298117-87</td>\n",
       "      <td>https://sjp.moj.gov.sa/Filter?isFilterButtonCl...</td>\n",
       "      <td>القضية رقم  ٤٦٤٦ لعام ١٤٤٢ هـ</td>\n",
       "      <td>https://sjp.moj.gov.sa/Filter/AhkamDetails/38991</td>\n",
       "      <td>المحكمة: المحكمة التجارية</td>\n",
       "      <td>رقم القضية - القرار: ٤٦٤٦</td>\n",
       "      <td>تاريخها: ٩/١/١٤٤٣</td>\n",
       "      <td>محكمة الاستئناف: المحكمة التجارية</td>\n",
       "      <td>رقم القرار: ٧٨٥</td>\n",
       "      <td>تاريخه: ٧/٣/١٤٤٣</td>\n",
       "      <td>المدينة: منطقة الرياض</td>\n",
       "      <td>المدينه: الرياض</td>\n",
       "      <td>الحمد لله والصلاة والسلام على رسول ﷲ أما بعد:\\...</td>\n",
       "      <td>الحمد لله والصلاة والسلام على رسول ﷲ أما بعد:\\...</td>\n",
       "      <td>2</td>\n",
       "      <td>https://sjp.moj.gov.sa/Filter/FilterDataPager?...</td>\n",
       "    </tr>\n",
       "    <tr>\n",
       "      <th>1</th>\n",
       "      <td>1640297824-62</td>\n",
       "      <td>https://sjp.moj.gov.sa/Filter?isFilterButtonCl...</td>\n",
       "      <td>القضية رقم  ٦٩٥٨ لعام ١٤٤٢ هـ</td>\n",
       "      <td>https://sjp.moj.gov.sa/Filter/AhkamDetails/38903</td>\n",
       "      <td>المحكمة: المحكمة التجارية</td>\n",
       "      <td>رقم القضية - القرار: ٦٩٥٨</td>\n",
       "      <td>تاريخها: ٢٥/١٢/١٤٤٢</td>\n",
       "      <td>محكمة الاستئناف: المحكمة التجارية</td>\n",
       "      <td>رقم القرار: ٥٤٦</td>\n",
       "      <td>تاريخه: ٦/٣/١٤٤٣</td>\n",
       "      <td>المدينة: منطقة الرياض</td>\n",
       "      <td>المدينه: الرياض</td>\n",
       "      <td>الحمد لله والصلاة والسلام على رسول ﷲ أما بعد:\\...</td>\n",
       "      <td>الحمد لله والصلاة والسلام على رسول ﷲ أما بعد:\\...</td>\n",
       "      <td>5</td>\n",
       "      <td>https://sjp.moj.gov.sa/Filter/FilterDataPager?...</td>\n",
       "    </tr>\n",
       "    <tr>\n",
       "      <th>2</th>\n",
       "      <td>1640298107-86</td>\n",
       "      <td>https://sjp.moj.gov.sa/Filter?isFilterButtonCl...</td>\n",
       "      <td>القضية رقم  ٦٦٠٧ لعام ١٤٤٢ هـ</td>\n",
       "      <td>https://sjp.moj.gov.sa/Filter/AhkamDetails/38992</td>\n",
       "      <td>المحكمة: المحكمة التجارية</td>\n",
       "      <td>رقم القضية - القرار: ٦٦٠٧</td>\n",
       "      <td>تاريخها: ٩/١/١٤٤٣</td>\n",
       "      <td>محكمة الاستئناف: المحكمة التجارية</td>\n",
       "      <td>رقم القرار: ٧٩٠</td>\n",
       "      <td>تاريخه: ٧/٣/١٤٤٣</td>\n",
       "      <td>المدينة: منطقة الرياض</td>\n",
       "      <td>المدينه: الرياض</td>\n",
       "      <td>الحمد لله والصلاة والسلام على رسول ﷲ أما بعد:\\...</td>\n",
       "      <td>الحمد لله والصلاة والسلام على رسول ﷲ أما بعد:\\...</td>\n",
       "      <td>2</td>\n",
       "      <td>https://sjp.moj.gov.sa/Filter/FilterDataPager?...</td>\n",
       "    </tr>\n",
       "    <tr>\n",
       "      <th>3</th>\n",
       "      <td>1640297908-69</td>\n",
       "      <td>https://sjp.moj.gov.sa/Filter?isFilterButtonCl...</td>\n",
       "      <td>القضية رقم  ٤٣٣١ لعام ١٤٤٢ هـ</td>\n",
       "      <td>https://sjp.moj.gov.sa/Filter/AhkamDetails/39268</td>\n",
       "      <td>المحكمة: المحكمة التجارية</td>\n",
       "      <td>رقم القضية - القرار: ٤٣٣١</td>\n",
       "      <td>تاريخها: ١٨/١١/١٤٤٢</td>\n",
       "      <td>محكمة الاستئناف: المحكمة التجارية</td>\n",
       "      <td>رقم القرار: ٣٧</td>\n",
       "      <td>تاريخه: ٧/٣/١٤٤٣</td>\n",
       "      <td>المدينة: منطقة الرياض</td>\n",
       "      <td>المدينه: الرياض</td>\n",
       "      <td>الحمد لله والصلاة والسلام على رسول ﷲ أما بعد:\\...</td>\n",
       "      <td>الحمد لله والصلاة والسلام على رسول ﷲ أما بعد:\\...</td>\n",
       "      <td>4</td>\n",
       "      <td>https://sjp.moj.gov.sa/Filter/FilterDataPager?...</td>\n",
       "    </tr>\n",
       "    <tr>\n",
       "      <th>4</th>\n",
       "      <td>1640297731-53</td>\n",
       "      <td>https://sjp.moj.gov.sa/Filter?isFilterButtonCl...</td>\n",
       "      <td>القضية رقم  ٩٣٩٩ لعام ١٤٤١ هـ</td>\n",
       "      <td>https://sjp.moj.gov.sa/Filter/AhkamDetails/38987</td>\n",
       "      <td>المحكمة: المحكمة التجارية</td>\n",
       "      <td>رقم القضية - القرار: ٩٣٩٩</td>\n",
       "      <td>تاريخها: ١٥/١٠/١٤٤٢</td>\n",
       "      <td>محكمة الاستئناف: المحكمة التجارية</td>\n",
       "      <td>رقم القرار: ٥٣٤٣</td>\n",
       "      <td>تاريخه: ٦/٣/١٤٤٣</td>\n",
       "      <td>المدينة: منطقة الرياض</td>\n",
       "      <td>المدينه: الرياض</td>\n",
       "      <td>الحمد لله والصلاة والسلام على رسول ﷲ أما بعد:\\...</td>\n",
       "      <td>الحمد لله والصلاة والسلام على رسول ﷲ أما بعد:\\...</td>\n",
       "      <td>5</td>\n",
       "      <td>https://sjp.moj.gov.sa/Filter/FilterDataPager?...</td>\n",
       "    </tr>\n",
       "    <tr>\n",
       "      <th>...</th>\n",
       "      <td>...</td>\n",
       "      <td>...</td>\n",
       "      <td>...</td>\n",
       "      <td>...</td>\n",
       "      <td>...</td>\n",
       "      <td>...</td>\n",
       "      <td>...</td>\n",
       "      <td>...</td>\n",
       "      <td>...</td>\n",
       "      <td>...</td>\n",
       "      <td>...</td>\n",
       "      <td>...</td>\n",
       "      <td>...</td>\n",
       "      <td>...</td>\n",
       "      <td>...</td>\n",
       "      <td>...</td>\n",
       "    </tr>\n",
       "    <tr>\n",
       "      <th>97</th>\n",
       "      <td>1640297594-42</td>\n",
       "      <td>https://sjp.moj.gov.sa/Filter?isFilterButtonCl...</td>\n",
       "      <td>القضية رقم  ٦٩٥٨ لعام ١٤٤٢ هـ</td>\n",
       "      <td>https://sjp.moj.gov.sa/Filter/AhkamDetails/39148</td>\n",
       "      <td>المحكمة: المحكمة التجارية</td>\n",
       "      <td>رقم القضية - القرار: ٦٩٥٨</td>\n",
       "      <td>تاريخها: ٢٥/١٢/١٤٤٢</td>\n",
       "      <td>محكمة الاستئناف: المحكمة التجارية</td>\n",
       "      <td>رقم القرار: ٥٤٦</td>\n",
       "      <td>تاريخه: ٦/٣/١٤٤٣</td>\n",
       "      <td>المدينة: منطقة الرياض</td>\n",
       "      <td>المدينه: الرياض</td>\n",
       "      <td>الحمد لله والصلاة والسلام على رسول ﷲ أما بعد:\\...</td>\n",
       "      <td>الحمد لله والصلاة والسلام على رسول ﷲ أما بعد:\\...</td>\n",
       "      <td>7</td>\n",
       "      <td>https://sjp.moj.gov.sa/Filter/FilterDataPager?...</td>\n",
       "    </tr>\n",
       "    <tr>\n",
       "      <th>98</th>\n",
       "      <td>1640297971-74</td>\n",
       "      <td>https://sjp.moj.gov.sa/Filter?isFilterButtonCl...</td>\n",
       "      <td>القضية رقم  ٤٦٤٦ لعام ١٤٤٢ هـ</td>\n",
       "      <td>https://sjp.moj.gov.sa/Filter/AhkamDetails/39236</td>\n",
       "      <td>المحكمة: المحكمة التجارية</td>\n",
       "      <td>رقم القضية - القرار: ٤٦٤٦</td>\n",
       "      <td>تاريخها: ٩/١/١٤٤٣</td>\n",
       "      <td>محكمة الاستئناف: المحكمة التجارية</td>\n",
       "      <td>رقم القرار: ٧٨٥</td>\n",
       "      <td>تاريخه: ٧/٣/١٤٤٣</td>\n",
       "      <td>المدينة: منطقة الرياض</td>\n",
       "      <td>المدينه: الرياض</td>\n",
       "      <td>الحمد لله والصلاة والسلام على رسول ﷲ أما بعد:\\...</td>\n",
       "      <td>الحمد لله والصلاة والسلام على رسول ﷲ أما بعد:\\...</td>\n",
       "      <td>3</td>\n",
       "      <td>https://sjp.moj.gov.sa/Filter/FilterDataPager?...</td>\n",
       "    </tr>\n",
       "    <tr>\n",
       "      <th>99</th>\n",
       "      <td>1640298190-94</td>\n",
       "      <td>https://sjp.moj.gov.sa/Filter?isFilterButtonCl...</td>\n",
       "      <td>قرار الدائرة الخامسة بالمحكمة العليا رقم ٤٣١٥٠...</td>\n",
       "      <td>https://sjp.moj.gov.sa/Filter/AhkamDetails/39732</td>\n",
       "      <td>المحكمة: المحكمة العليا -  الهيئة الدائمة</td>\n",
       "      <td>رقم القضية - القرار: ٤٣١٥٠١</td>\n",
       "      <td>تاريخها: ٨/٣/١٤٤٣</td>\n",
       "      <td>NaN</td>\n",
       "      <td>NaN</td>\n",
       "      <td>NaN</td>\n",
       "      <td>NaN</td>\n",
       "      <td>المدينه: الرياض</td>\n",
       "      <td>الحمد لله وحده والصلاة والسلام على نبينا محمد ...</td>\n",
       "      <td>NaN</td>\n",
       "      <td>NaN</td>\n",
       "      <td>NaN</td>\n",
       "    </tr>\n",
       "    <tr>\n",
       "      <th>100</th>\n",
       "      <td>1640298231-98</td>\n",
       "      <td>https://sjp.moj.gov.sa/Filter?isFilterButtonCl...</td>\n",
       "      <td>قرار الدائرة الخامسة بالمحكمة العليا رقم ٤٣١٢٥...</td>\n",
       "      <td>https://sjp.moj.gov.sa/Filter/AhkamDetails/39752</td>\n",
       "      <td>المحكمة: المحكمة العليا -  الهيئة الدائمة</td>\n",
       "      <td>رقم القضية - القرار: ٤٣١٢٥٥</td>\n",
       "      <td>تاريخها: ٢٦/٢/١٤٤٣</td>\n",
       "      <td>NaN</td>\n",
       "      <td>NaN</td>\n",
       "      <td>NaN</td>\n",
       "      <td>NaN</td>\n",
       "      <td>المدينه: الرياض</td>\n",
       "      <td>الحمد لله وحده والصلاة والسلام على نبينا محمد ...</td>\n",
       "      <td>NaN</td>\n",
       "      <td>NaN</td>\n",
       "      <td>NaN</td>\n",
       "    </tr>\n",
       "    <tr>\n",
       "      <th>101</th>\n",
       "      <td>1640297468-31</td>\n",
       "      <td>https://sjp.moj.gov.sa/Filter?isFilterButtonCl...</td>\n",
       "      <td>القضية رقم  ٨٦٤٥ لعام ١٤٤٢ هـ</td>\n",
       "      <td>https://sjp.moj.gov.sa/Filter/AhkamDetails/39241</td>\n",
       "      <td>المحكمة: المحكمة التجارية</td>\n",
       "      <td>رقم القضية - القرار: ٨٦٤٥</td>\n",
       "      <td>تاريخها: ١٨/١٢/١٤٤٢</td>\n",
       "      <td>محكمة الاستئناف: المحكمة التجارية</td>\n",
       "      <td>رقم القرار: ٤٣٧</td>\n",
       "      <td>تاريخه: ٦/٣/١٤٤٣</td>\n",
       "      <td>المدينة: منطقة الرياض</td>\n",
       "      <td>المدينه: الرياض</td>\n",
       "      <td>الحمد لله والصلاة والسلام على رسول ﷲ أما بعد:\\...</td>\n",
       "      <td>الحمد لله والصلاة والسلام على رسول ﷲ أما بعد:\\...</td>\n",
       "      <td>8</td>\n",
       "      <td>https://sjp.moj.gov.sa/Filter/FilterDataPager?...</td>\n",
       "    </tr>\n",
       "  </tbody>\n",
       "</table>\n",
       "<p>102 rows × 16 columns</p>\n",
       "</div>"
      ],
      "text/plain": [
       "    web-scraper-order                              web-scraper-start-url  \\\n",
       "0       1640298117-87  https://sjp.moj.gov.sa/Filter?isFilterButtonCl...   \n",
       "1       1640297824-62  https://sjp.moj.gov.sa/Filter?isFilterButtonCl...   \n",
       "2       1640298107-86  https://sjp.moj.gov.sa/Filter?isFilterButtonCl...   \n",
       "3       1640297908-69  https://sjp.moj.gov.sa/Filter?isFilterButtonCl...   \n",
       "4       1640297731-53  https://sjp.moj.gov.sa/Filter?isFilterButtonCl...   \n",
       "..                ...                                                ...   \n",
       "97      1640297594-42  https://sjp.moj.gov.sa/Filter?isFilterButtonCl...   \n",
       "98      1640297971-74  https://sjp.moj.gov.sa/Filter?isFilterButtonCl...   \n",
       "99      1640298190-94  https://sjp.moj.gov.sa/Filter?isFilterButtonCl...   \n",
       "100     1640298231-98  https://sjp.moj.gov.sa/Filter?isFilterButtonCl...   \n",
       "101     1640297468-31  https://sjp.moj.gov.sa/Filter?isFilterButtonCl...   \n",
       "\n",
       "                                                 links  \\\n",
       "0                        القضية رقم  ٤٦٤٦ لعام ١٤٤٢ هـ   \n",
       "1                        القضية رقم  ٦٩٥٨ لعام ١٤٤٢ هـ   \n",
       "2                        القضية رقم  ٦٦٠٧ لعام ١٤٤٢ هـ   \n",
       "3                        القضية رقم  ٤٣٣١ لعام ١٤٤٢ هـ   \n",
       "4                        القضية رقم  ٩٣٩٩ لعام ١٤٤١ هـ   \n",
       "..                                                 ...   \n",
       "97                       القضية رقم  ٦٩٥٨ لعام ١٤٤٢ هـ   \n",
       "98                       القضية رقم  ٤٦٤٦ لعام ١٤٤٢ هـ   \n",
       "99   قرار الدائرة الخامسة بالمحكمة العليا رقم ٤٣١٥٠...   \n",
       "100  قرار الدائرة الخامسة بالمحكمة العليا رقم ٤٣١٢٥...   \n",
       "101                      القضية رقم  ٨٦٤٥ لعام ١٤٤٢ هـ   \n",
       "\n",
       "                                           links-href  \\\n",
       "0    https://sjp.moj.gov.sa/Filter/AhkamDetails/38991   \n",
       "1    https://sjp.moj.gov.sa/Filter/AhkamDetails/38903   \n",
       "2    https://sjp.moj.gov.sa/Filter/AhkamDetails/38992   \n",
       "3    https://sjp.moj.gov.sa/Filter/AhkamDetails/39268   \n",
       "4    https://sjp.moj.gov.sa/Filter/AhkamDetails/38987   \n",
       "..                                                ...   \n",
       "97   https://sjp.moj.gov.sa/Filter/AhkamDetails/39148   \n",
       "98   https://sjp.moj.gov.sa/Filter/AhkamDetails/39236   \n",
       "99   https://sjp.moj.gov.sa/Filter/AhkamDetails/39732   \n",
       "100  https://sjp.moj.gov.sa/Filter/AhkamDetails/39752   \n",
       "101  https://sjp.moj.gov.sa/Filter/AhkamDetails/39241   \n",
       "\n",
       "                                         court                  case_number  \\\n",
       "0                    المحكمة: المحكمة التجارية    رقم القضية - القرار: ٤٦٤٦   \n",
       "1                    المحكمة: المحكمة التجارية    رقم القضية - القرار: ٦٩٥٨   \n",
       "2                    المحكمة: المحكمة التجارية    رقم القضية - القرار: ٦٦٠٧   \n",
       "3                    المحكمة: المحكمة التجارية    رقم القضية - القرار: ٤٣٣١   \n",
       "4                    المحكمة: المحكمة التجارية    رقم القضية - القرار: ٩٣٩٩   \n",
       "..                                         ...                          ...   \n",
       "97                   المحكمة: المحكمة التجارية    رقم القضية - القرار: ٦٩٥٨   \n",
       "98                   المحكمة: المحكمة التجارية    رقم القضية - القرار: ٤٦٤٦   \n",
       "99   المحكمة: المحكمة العليا -  الهيئة الدائمة  رقم القضية - القرار: ٤٣١٥٠١   \n",
       "100  المحكمة: المحكمة العليا -  الهيئة الدائمة  رقم القضية - القرار: ٤٣١٢٥٥   \n",
       "101                  المحكمة: المحكمة التجارية    رقم القضية - القرار: ٨٦٤٥   \n",
       "\n",
       "               case_date                    appellate_court      appellate_id  \\\n",
       "0      تاريخها: ٩/١/١٤٤٣  محكمة الاستئناف: المحكمة التجارية   رقم القرار: ٧٨٥   \n",
       "1    تاريخها: ٢٥/١٢/١٤٤٢  محكمة الاستئناف: المحكمة التجارية   رقم القرار: ٥٤٦   \n",
       "2      تاريخها: ٩/١/١٤٤٣  محكمة الاستئناف: المحكمة التجارية   رقم القرار: ٧٩٠   \n",
       "3    تاريخها: ١٨/١١/١٤٤٢  محكمة الاستئناف: المحكمة التجارية    رقم القرار: ٣٧   \n",
       "4    تاريخها: ١٥/١٠/١٤٤٢  محكمة الاستئناف: المحكمة التجارية  رقم القرار: ٥٣٤٣   \n",
       "..                   ...                                ...               ...   \n",
       "97   تاريخها: ٢٥/١٢/١٤٤٢  محكمة الاستئناف: المحكمة التجارية   رقم القرار: ٥٤٦   \n",
       "98     تاريخها: ٩/١/١٤٤٣  محكمة الاستئناف: المحكمة التجارية   رقم القرار: ٧٨٥   \n",
       "99     تاريخها: ٨/٣/١٤٤٣                                NaN               NaN   \n",
       "100   تاريخها: ٢٦/٢/١٤٤٣                                NaN               NaN   \n",
       "101  تاريخها: ١٨/١٢/١٤٤٢  محكمة الاستئناف: المحكمة التجارية   رقم القرار: ٤٣٧   \n",
       "\n",
       "       appellate_date                 region             city  \\\n",
       "0    تاريخه: ٧/٣/١٤٤٣  المدينة: منطقة الرياض  المدينه: الرياض   \n",
       "1    تاريخه: ٦/٣/١٤٤٣  المدينة: منطقة الرياض  المدينه: الرياض   \n",
       "2    تاريخه: ٧/٣/١٤٤٣  المدينة: منطقة الرياض  المدينه: الرياض   \n",
       "3    تاريخه: ٧/٣/١٤٤٣  المدينة: منطقة الرياض  المدينه: الرياض   \n",
       "4    تاريخه: ٦/٣/١٤٤٣  المدينة: منطقة الرياض  المدينه: الرياض   \n",
       "..                ...                    ...              ...   \n",
       "97   تاريخه: ٦/٣/١٤٤٣  المدينة: منطقة الرياض  المدينه: الرياض   \n",
       "98   تاريخه: ٧/٣/١٤٤٣  المدينة: منطقة الرياض  المدينه: الرياض   \n",
       "99                NaN                    NaN  المدينه: الرياض   \n",
       "100               NaN                    NaN  المدينه: الرياض   \n",
       "101  تاريخه: ٦/٣/١٤٤٣  المدينة: منطقة الرياض  المدينه: الرياض   \n",
       "\n",
       "                                         judgment_text  \\\n",
       "0    الحمد لله والصلاة والسلام على رسول ﷲ أما بعد:\\...   \n",
       "1    الحمد لله والصلاة والسلام على رسول ﷲ أما بعد:\\...   \n",
       "2    الحمد لله والصلاة والسلام على رسول ﷲ أما بعد:\\...   \n",
       "3    الحمد لله والصلاة والسلام على رسول ﷲ أما بعد:\\...   \n",
       "4    الحمد لله والصلاة والسلام على رسول ﷲ أما بعد:\\...   \n",
       "..                                                 ...   \n",
       "97   الحمد لله والصلاة والسلام على رسول ﷲ أما بعد:\\...   \n",
       "98   الحمد لله والصلاة والسلام على رسول ﷲ أما بعد:\\...   \n",
       "99   الحمد لله وحده والصلاة والسلام على نبينا محمد ...   \n",
       "100  الحمد لله وحده والصلاة والسلام على نبينا محمد ...   \n",
       "101  الحمد لله والصلاة والسلام على رسول ﷲ أما بعد:\\...   \n",
       "\n",
       "                                                appeal pages  \\\n",
       "0    الحمد لله والصلاة والسلام على رسول ﷲ أما بعد:\\...     2   \n",
       "1    الحمد لله والصلاة والسلام على رسول ﷲ أما بعد:\\...     5   \n",
       "2    الحمد لله والصلاة والسلام على رسول ﷲ أما بعد:\\...     2   \n",
       "3    الحمد لله والصلاة والسلام على رسول ﷲ أما بعد:\\...     4   \n",
       "4    الحمد لله والصلاة والسلام على رسول ﷲ أما بعد:\\...     5   \n",
       "..                                                 ...   ...   \n",
       "97   الحمد لله والصلاة والسلام على رسول ﷲ أما بعد:\\...     7   \n",
       "98   الحمد لله والصلاة والسلام على رسول ﷲ أما بعد:\\...     3   \n",
       "99                                                 NaN   NaN   \n",
       "100                                                NaN   NaN   \n",
       "101  الحمد لله والصلاة والسلام على رسول ﷲ أما بعد:\\...     8   \n",
       "\n",
       "                                            pages-href  \n",
       "0    https://sjp.moj.gov.sa/Filter/FilterDataPager?...  \n",
       "1    https://sjp.moj.gov.sa/Filter/FilterDataPager?...  \n",
       "2    https://sjp.moj.gov.sa/Filter/FilterDataPager?...  \n",
       "3    https://sjp.moj.gov.sa/Filter/FilterDataPager?...  \n",
       "4    https://sjp.moj.gov.sa/Filter/FilterDataPager?...  \n",
       "..                                                 ...  \n",
       "97   https://sjp.moj.gov.sa/Filter/FilterDataPager?...  \n",
       "98   https://sjp.moj.gov.sa/Filter/FilterDataPager?...  \n",
       "99                                                 NaN  \n",
       "100                                                NaN  \n",
       "101  https://sjp.moj.gov.sa/Filter/FilterDataPager?...  \n",
       "\n",
       "[102 rows x 16 columns]"
      ]
     },
     "execution_count": 2,
     "metadata": {},
     "output_type": "execute_result"
    }
   ],
   "source": [
    "df=pd.read_csv('/Users/reema/Downloads/links.csv')\n",
    "df\n"
   ]
  },
  {
   "cell_type": "code",
   "execution_count": 29,
   "id": "c91dc23b",
   "metadata": {},
   "outputs": [
    {
     "name": "stdout",
     "output_type": "stream",
     "text": [
      "<class 'pandas.core.frame.DataFrame'>\n",
      "RangeIndex: 102 entries, 0 to 101\n",
      "Data columns (total 16 columns):\n",
      " #   Column                 Non-Null Count  Dtype \n",
      "---  ------                 --------------  ----- \n",
      " 0   web-scraper-order      102 non-null    object\n",
      " 1   web-scraper-start-url  102 non-null    object\n",
      " 2   links                  102 non-null    object\n",
      " 3   links-href             102 non-null    object\n",
      " 4   court                  102 non-null    object\n",
      " 5   case_number            102 non-null    object\n",
      " 6   case_date              102 non-null    object\n",
      " 7   appellate_court        89 non-null     object\n",
      " 8   appellate_id           89 non-null     object\n",
      " 9   appellate_date         89 non-null     object\n",
      " 10  region                 89 non-null     object\n",
      " 11  city                   102 non-null    object\n",
      " 12  judgment_text          102 non-null    object\n",
      " 13  appeal                 89 non-null     object\n",
      " 14  pages                  92 non-null     object\n",
      " 15  pages-href             92 non-null     object\n",
      "dtypes: object(16)\n",
      "memory usage: 12.9+ KB\n"
     ]
    }
   ],
   "source": [
    "df.info()"
   ]
  },
  {
   "cell_type": "code",
   "execution_count": 4,
   "id": "096fd329",
   "metadata": {},
   "outputs": [
    {
     "data": {
      "text/plain": [
       "0"
      ]
     },
     "execution_count": 4,
     "metadata": {},
     "output_type": "execute_result"
    }
   ],
   "source": [
    "df.duplicated().sum()"
   ]
  },
  {
   "cell_type": "code",
   "execution_count": 43,
   "id": "43058024",
   "metadata": {},
   "outputs": [],
   "source": [
    "df_Train, df_test = train_test_split(df, test_size=0.2, random_state= 30)\n",
    "\n",
    "df_train, df_val = train_test_split(df_Train, test_size=0.2, random_state= 30)"
   ]
  },
  {
   "cell_type": "code",
   "execution_count": 44,
   "id": "a4c698f2",
   "metadata": {},
   "outputs": [
    {
     "name": "stdout",
     "output_type": "stream",
     "text": [
      "Shape of train: (64, 16)\n",
      "Shape of validation: (17, 16)\n",
      "Shape of test: (21, 16)\n"
     ]
    }
   ],
   "source": [
    "print(f'Shape of train:', df_train.shape)\n",
    "print(f'Shape of validation:', df_val.shape)\n",
    "print(f'Shape of test:', df_test.shape)"
   ]
  },
  {
   "cell_type": "code",
   "execution_count": 45,
   "id": "f2b73d65",
   "metadata": {},
   "outputs": [
    {
     "data": {
      "text/plain": [
       "web-scraper-order        0\n",
       "web-scraper-start-url    0\n",
       "links                    0\n",
       "links-href               0\n",
       "court                    0\n",
       "case_number              0\n",
       "case_date                0\n",
       "appellate_court          6\n",
       "appellate_id             6\n",
       "appellate_date           6\n",
       "region                   6\n",
       "city                     0\n",
       "judgment_text            0\n",
       "appeal                   6\n",
       "pages                    7\n",
       "pages-href               7\n",
       "dtype: int64"
      ]
     },
     "execution_count": 45,
     "metadata": {},
     "output_type": "execute_result"
    }
   ],
   "source": [
    "df_train.isnull().sum()"
   ]
  },
  {
   "cell_type": "code",
   "execution_count": 46,
   "id": "cdeaab7b",
   "metadata": {},
   "outputs": [
    {
     "data": {
      "text/plain": [
       "web-scraper-order        0\n",
       "web-scraper-start-url    0\n",
       "links                    0\n",
       "links-href               0\n",
       "court                    0\n",
       "case_number              0\n",
       "case_date                0\n",
       "appellate_court          4\n",
       "appellate_id             4\n",
       "appellate_date           4\n",
       "region                   4\n",
       "city                     0\n",
       "judgment_text            0\n",
       "appeal                   4\n",
       "pages                    3\n",
       "pages-href               3\n",
       "dtype: int64"
      ]
     },
     "execution_count": 46,
     "metadata": {},
     "output_type": "execute_result"
    }
   ],
   "source": [
    "df_val.isnull().sum()"
   ]
  },
  {
   "cell_type": "code",
   "execution_count": 47,
   "id": "4b9751bf",
   "metadata": {},
   "outputs": [
    {
     "data": {
      "text/plain": [
       "(محكمة الاستئناف: المحكمة التجارية    57\n",
       " محكمة الاستئناف: محكمة الاستئناف      1\n",
       " Name: appellate_court, dtype: int64,)"
      ]
     },
     "execution_count": 47,
     "metadata": {},
     "output_type": "execute_result"
    }
   ],
   "source": [
    "df_train.appellate_court.value_counts(),"
   ]
  },
  {
   "cell_type": "code",
   "execution_count": 14,
   "id": "fc65e1ec",
   "metadata": {},
   "outputs": [
    {
     "data": {
      "text/plain": [
       "(محكمة الاستئناف: المحكمة التجارية    13\n",
       " Name: appellate_court, dtype: int64,)"
      ]
     },
     "execution_count": 14,
     "metadata": {},
     "output_type": "execute_result"
    }
   ],
   "source": [
    "df_val.appellate_court.value_counts(),"
   ]
  },
  {
   "cell_type": "code",
   "execution_count": 22,
   "id": "46d9fc94",
   "metadata": {},
   "outputs": [],
   "source": [
    "df_train['appellate_court'].fillna(df_train['appellate_court'].mode()[0], inplace = True)"
   ]
  },
  {
   "cell_type": "code",
   "execution_count": 21,
   "id": "ab54d999",
   "metadata": {},
   "outputs": [],
   "source": [
    "df_val['appellate_court'].fillna(df_val['appellate_court'].mode()[0], inplace = True)"
   ]
  },
  {
   "cell_type": "code",
   "execution_count": 53,
   "id": "0cf0860e",
   "metadata": {},
   "outputs": [
    {
     "data": {
      "text/plain": [
       "٧٥٧     2\n",
       "١٩٦٩    2\n",
       "٥٣٤٣    2\n",
       "٥٤٩١    2\n",
       "٦٥٤     2\n",
       "٥٤٠٤    2\n",
       "٥٥٨١    2\n",
       "٧٩٠     2\n",
       "٧٩٥     2\n",
       "٥٣٨١    2\n",
       "٢١٢٨    2\n",
       "٦٣٩     2\n",
       "٤٤٣٦    2\n",
       "٩٦      2\n",
       "٥١٧     2\n",
       "٥٤٦     2\n",
       "٤٤٢١    1\n",
       "٧٨٥     1\n",
       "٦٣٧     1\n",
       "٨٤      1\n",
       "٧٦      1\n",
       "٢٢٢٩    1\n",
       "٥٢٠٥    1\n",
       "٣١٠٢    1\n",
       "٧٠٤     1\n",
       "٦٨٦     1\n",
       "٤٣٧     1\n",
       "٦٢٢     1\n",
       "٥٥٢٨    1\n",
       "٥٨٢     1\n",
       "٦٤٦     1\n",
       "٧٠٩     1\n",
       "٣٤٧     1\n",
       "٢٤٧     1\n",
       "٣٢٤٧    1\n",
       "٣٤٥٤    1\n",
       "٣٥٩     1\n",
       "٤٥٦٧    1\n",
       "٦٢٣     1\n",
       "٥٦٣٦    1\n",
       "١٦٨٧    1\n",
       "٥٤٢     1\n",
       "Name: appellate_id, dtype: int64"
      ]
     },
     "execution_count": 53,
     "metadata": {},
     "output_type": "execute_result"
    }
   ],
   "source": [
    "df_train.appellate_id.value_counts()"
   ]
  },
  {
   "cell_type": "code",
   "execution_count": 56,
   "id": "5ee2ead5",
   "metadata": {},
   "outputs": [
    {
     "data": {
      "text/plain": [
       "٣٧      1\n",
       "٦٢٣     1\n",
       "٢٤٥     1\n",
       "٥٤٢     1\n",
       "٦٤٦     1\n",
       "٦٨٦     1\n",
       "٢٩٨٥    1\n",
       "٢٦٣٠    1\n",
       "٣٢٣     1\n",
       "٥٨٢     1\n",
       "٥٢٠٥    1\n",
       "٦٣٧     1\n",
       "٣٥٩     1\n",
       "Name: appellate_id, dtype: int64"
      ]
     },
     "execution_count": 56,
     "metadata": {},
     "output_type": "execute_result"
    }
   ],
   "source": [
    "df_val.appellate_id.value_counts()"
   ]
  },
  {
   "cell_type": "code",
   "execution_count": 49,
   "id": "84171b03",
   "metadata": {},
   "outputs": [],
   "source": [
    "df_train.dropna(subset=['appellate_id'], inplace=True);"
   ]
  },
  {
   "cell_type": "code",
   "execution_count": 50,
   "id": "2f9b9097",
   "metadata": {},
   "outputs": [],
   "source": [
    "df_val.dropna(subset=['appellate_id'], inplace=True);"
   ]
  },
  {
   "cell_type": "code",
   "execution_count": null,
   "id": "89015dba",
   "metadata": {},
   "outputs": [],
   "source": [
    "#df_train['appellate_id'] = df_train['appellate_id'].astype(int)\n",
    "#df['result'] = df['result'].str.replace(r'\\D', '')"
   ]
  },
  {
   "cell_type": "code",
   "execution_count": 54,
   "id": "813f310e",
   "metadata": {},
   "outputs": [],
   "source": [
    "df_train['appellate_id'] = df_train['appellate_id'].str.replace('رقم القرار','')"
   ]
  },
  {
   "cell_type": "code",
   "execution_count": 55,
   "id": "f968dcc3",
   "metadata": {},
   "outputs": [],
   "source": [
    "df_val['appellate_id'] = df_val['appellate_id'].str.replace('رقم القرار','')"
   ]
  },
  {
   "cell_type": "code",
   "execution_count": null,
   "id": "ba7c6e18",
   "metadata": {},
   "outputs": [],
   "source": [
    "\n",
    "df_train['appellate_court'] = df_train['appellate_court'].str.replace('رقم القرار','')"
   ]
  }
 ],
 "metadata": {
  "kernelspec": {
   "display_name": "Python 3",
   "language": "python",
   "name": "python3"
  },
  "language_info": {
   "codemirror_mode": {
    "name": "ipython",
    "version": 3
   },
   "file_extension": ".py",
   "mimetype": "text/x-python",
   "name": "python",
   "nbconvert_exporter": "python",
   "pygments_lexer": "ipython3",
   "version": "3.8.8"
  }
 },
 "nbformat": 4,
 "nbformat_minor": 5
}
