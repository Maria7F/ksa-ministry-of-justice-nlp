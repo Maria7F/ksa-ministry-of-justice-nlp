{
 "cells": [
  {
   "cell_type": "code",
   "execution_count": 93,
   "id": "507b8b7c",
   "metadata": {},
   "outputs": [],
   "source": [
    "import pandas as pd\n",
    "import numpy as np\n",
    "\n",
    "import sklearn\n",
    "import seaborn as sns\n",
    "import matplotlib.pyplot as plt\n",
    "from sklearn.model_selection import train_test_split\n",
    "import string\n",
    "\n",
    "from tashaphyne.stemming import ArabicLightStemmer\n",
    "import arabicstopwords.arabicstopwords as stp\n",
    "\n",
    "import re\n",
    "\n",
    "import nltk\n",
    "from nltk.corpus import stopwords\n",
    "import wordcloud\n",
    "from nltk.tokenize import word_tokenize\n",
    "from nltk.stem.isri import ISRIStemmer\n",
    "from sklearn.feature_extraction.text import TfidfVectorizer\n",
    "\n",
    "from sklearn.cluster import DBSCAN, SpectralClustering, MeanShift\n",
    "from sklearn.preprocessing import StandardScaler\n",
    "\n",
    "%matplotlib inline\n",
    "import warnings\n",
    "warnings.filterwarnings('ignore')"
   ]
  },
  {
   "cell_type": "code",
   "execution_count": 2,
   "id": "63857119",
   "metadata": {},
   "outputs": [],
   "source": [
    "df=pd.read_csv('new.csv')\n",
    "df2=pd.read_csv('try.csv')"
   ]
  },
  {
   "cell_type": "code",
   "execution_count": 77,
   "id": "f7d5f6a3",
   "metadata": {},
   "outputs": [],
   "source": [
    "pd.set_option('display.max_columns', 30)"
   ]
  },
  {
   "cell_type": "code",
   "execution_count": 3,
   "id": "6e02c65f",
   "metadata": {},
   "outputs": [],
   "source": [
    "r = [df, df2]\n",
    "df = pd.concat(r)\n",
    "df.drop_duplicates(inplace=True)"
   ]
  },
  {
   "cell_type": "code",
   "execution_count": 4,
   "id": "0ee1fcab",
   "metadata": {},
   "outputs": [
    {
     "name": "stdout",
     "output_type": "stream",
     "text": [
      "<class 'pandas.core.frame.DataFrame'>\n",
      "Int64Index: 277 entries, 0 to 63\n",
      "Data columns (total 13 columns):\n",
      " #   Column         Non-Null Count  Dtype \n",
      "---  ------         --------------  ----- \n",
      " 0   links          277 non-null    object\n",
      " 1   court          277 non-null    object\n",
      " 2   court_id       277 non-null    object\n",
      " 3   court_date     277 non-null    object\n",
      " 4   appeal_court   221 non-null    object\n",
      " 5   appeal_id      221 non-null    object\n",
      " 6   appeal_date    169 non-null    object\n",
      " 7   region         169 non-null    object\n",
      " 8   city           213 non-null    object\n",
      " 9   judgment_text  277 non-null    object\n",
      " 10  appeal_text    169 non-null    object\n",
      " 11  appeal_data    52 non-null     object\n",
      " 12  appleal_text   52 non-null     object\n",
      "dtypes: object(13)\n",
      "memory usage: 30.3+ KB\n"
     ]
    }
   ],
   "source": [
    "df.info()"
   ]
  },
  {
   "cell_type": "code",
   "execution_count": 5,
   "id": "5baf6a0d",
   "metadata": {},
   "outputs": [
    {
     "data": {
      "text/plain": [
       "0"
      ]
     },
     "execution_count": 5,
     "metadata": {},
     "output_type": "execute_result"
    }
   ],
   "source": [
    "df.duplicated().sum()"
   ]
  },
  {
   "cell_type": "code",
   "execution_count": 6,
   "id": "8d2c80d1",
   "metadata": {},
   "outputs": [],
   "source": [
    "df_Train, df_test = train_test_split(df, test_size=0.2, random_state= 30)\n",
    "\n",
    "df_train, df_val = train_test_split(df_Train, test_size=0.2, random_state= 30)"
   ]
  },
  {
   "cell_type": "code",
   "execution_count": 7,
   "id": "3acb7e76",
   "metadata": {},
   "outputs": [
    {
     "name": "stdout",
     "output_type": "stream",
     "text": [
      "Shape of train: (176, 13)\n",
      "Shape of validation: (45, 13)\n",
      "Shape of test: (56, 13)\n"
     ]
    }
   ],
   "source": [
    "print(f'Shape of train:', df_train.shape)\n",
    "print(f'Shape of validation:', df_val.shape)\n",
    "print(f'Shape of test:', df_test.shape)"
   ]
  },
  {
   "cell_type": "code",
   "execution_count": 8,
   "id": "00355b0c",
   "metadata": {},
   "outputs": [
    {
     "data": {
      "text/plain": [
       "links              0\n",
       "court              0\n",
       "court_id           0\n",
       "court_date         0\n",
       "appeal_court      38\n",
       "appeal_id         38\n",
       "appeal_date       71\n",
       "region            71\n",
       "city              43\n",
       "judgment_text      0\n",
       "appeal_text       71\n",
       "appeal_data      143\n",
       "appleal_text     143\n",
       "dtype: int64"
      ]
     },
     "execution_count": 8,
     "metadata": {},
     "output_type": "execute_result"
    }
   ],
   "source": [
    "df_train.isnull().sum()"
   ]
  },
  {
   "cell_type": "code",
   "execution_count": 9,
   "id": "ca171106",
   "metadata": {},
   "outputs": [
    {
     "data": {
      "text/plain": [
       "links             0\n",
       "court             0\n",
       "court_id          0\n",
       "court_date        0\n",
       "appeal_court      8\n",
       "appeal_id         8\n",
       "appeal_date      17\n",
       "region           17\n",
       "city              9\n",
       "judgment_text     0\n",
       "appeal_text      17\n",
       "appeal_data      36\n",
       "appleal_text     36\n",
       "dtype: int64"
      ]
     },
     "execution_count": 9,
     "metadata": {},
     "output_type": "execute_result"
    }
   ],
   "source": [
    "df_val.isnull().sum()"
   ]
  },
  {
   "cell_type": "code",
   "execution_count": 10,
   "id": "ba79af38",
   "metadata": {},
   "outputs": [
    {
     "data": {
      "text/plain": [
       "(محكمة الاستئناف: المحكمة التجارية    130\n",
       " محكمة الاستئناف: محكمة الاستئناف       8\n",
       " Name: appeal_court, dtype: int64,)"
      ]
     },
     "execution_count": 10,
     "metadata": {},
     "output_type": "execute_result"
    }
   ],
   "source": [
    "df_train.appeal_court.value_counts(),"
   ]
  },
  {
   "cell_type": "code",
   "execution_count": 11,
   "id": "18d003d7",
   "metadata": {},
   "outputs": [
    {
     "data": {
      "text/plain": [
       "(محكمة الاستئناف: المحكمة التجارية    36\n",
       " محكمة الاستئناف: محكمة الاستئناف      1\n",
       " Name: appeal_court, dtype: int64,)"
      ]
     },
     "execution_count": 11,
     "metadata": {},
     "output_type": "execute_result"
    }
   ],
   "source": [
    "df_val.appeal_court.value_counts(),"
   ]
  },
  {
   "cell_type": "code",
   "execution_count": 12,
   "id": "ed7bf4fa",
   "metadata": {},
   "outputs": [],
   "source": [
    "df_train['appeal_court'].fillna(df_train['appeal_court'].mode()[0], inplace = True)"
   ]
  },
  {
   "cell_type": "code",
   "execution_count": 13,
   "id": "bc6f5f2c",
   "metadata": {},
   "outputs": [],
   "source": [
    "df_val['appeal_court'].fillna(df_val['appeal_court'].mode()[0], inplace = True)"
   ]
  },
  {
   "cell_type": "code",
   "execution_count": 14,
   "id": "578cd4ca",
   "metadata": {},
   "outputs": [
    {
     "data": {
      "text/plain": [
       "رقم القرار: ٥٥٢٨    2\n",
       "رقم القرار: ٥٩١     2\n",
       "رقم القرار: ٧٩٠     2\n",
       "رقم القرار: ٧٠٤     2\n",
       "رقم القرار: ٧٠٩     2\n",
       "                   ..\n",
       "رقم القرار: ١٢٦     1\n",
       "رقم القرار: ٥٥٢٥    1\n",
       "رقم القرار: ٩٦      1\n",
       "رقم القرار: ٣٤٥٤    1\n",
       "رقم القرار: ٥١٧     1\n",
       "Name: appeal_id, Length: 117, dtype: int64"
      ]
     },
     "execution_count": 14,
     "metadata": {},
     "output_type": "execute_result"
    }
   ],
   "source": [
    "df_train.appeal_id.value_counts()"
   ]
  },
  {
   "cell_type": "code",
   "execution_count": 15,
   "id": "5387b9aa",
   "metadata": {},
   "outputs": [
    {
     "data": {
      "text/plain": [
       "رقم القرار: ٢٢٢٩    2\n",
       "رقم القرار: ٣٤٧     2\n",
       "رقم القرار: ٥٣٨١    1\n",
       "رقم القرار: ٥٢٥٥    1\n",
       "رقم القرار: ٥٢٩٠    1\n",
       "رقم القرار: ٥٤٢     1\n",
       "رقم القرار: ٢٤٥     1\n",
       "رقم القرار: ٩٣      1\n",
       "رقم القرار: ٣٩      1\n",
       "رقم القرار: ١٦٥٤    1\n",
       "رقم القرار: ٢٧      1\n",
       "رقم القرار: ٥٦٩١    1\n",
       "رقم القرار: ٣٥٩     1\n",
       "رقم القرار: ١٢٢     1\n",
       "رقم القرار: ٥٤٩٢    1\n",
       "رقم القرار: ٦٠٥     1\n",
       "رقم القرار: ٣٧٩     1\n",
       "رقم القرار: ٢٤٧     1\n",
       "رقم القرار: ٥٠٥٠    1\n",
       "رقم القرار: ٢١١٠    1\n",
       "رقم القرار: ١٩٩٧    1\n",
       "رقم القرار: ٥٥٧٠    1\n",
       "رقم القرار: ٥٤٠٤    1\n",
       "رقم القرار: ٦٤٦     1\n",
       "رقم القرار: ٢٠٠٧    1\n",
       "رقم القرار: ٥٤٩١    1\n",
       "رقم القرار: ٦٨٨     1\n",
       "رقم القرار: ١٠٦     1\n",
       "رقم القرار: ١٩٨٤    1\n",
       "رقم القرار: ٦٣٩     1\n",
       "رقم القرار: ٢٤٣٠    1\n",
       "رقم القرار: ٧٨٥     1\n",
       "رقم القرار: ٨٤      1\n",
       "رقم القرار: ٣٢٤٢    1\n",
       "رقم القرار: ٥١٧     1\n",
       "Name: appeal_id, dtype: int64"
      ]
     },
     "execution_count": 15,
     "metadata": {},
     "output_type": "execute_result"
    }
   ],
   "source": [
    "df_val.appeal_id.value_counts()"
   ]
  },
  {
   "cell_type": "code",
   "execution_count": 16,
   "id": "2a47cbeb",
   "metadata": {},
   "outputs": [],
   "source": [
    "df_train.dropna(subset=['appeal_id'], inplace=True);"
   ]
  },
  {
   "cell_type": "code",
   "execution_count": 17,
   "id": "c9249851",
   "metadata": {},
   "outputs": [],
   "source": [
    "df_val.dropna(subset=['appeal_id'], inplace=True);"
   ]
  },
  {
   "cell_type": "code",
   "execution_count": 18,
   "id": "cdb83ebc",
   "metadata": {},
   "outputs": [],
   "source": [
    "df_train['appeal_date'] = df_train['appeal_date'].str.replace('تاريخه:','')"
   ]
  },
  {
   "cell_type": "code",
   "execution_count": 19,
   "id": "021e60a5",
   "metadata": {},
   "outputs": [],
   "source": [
    "df_val['appeal_date'] = df_val['appeal_date'].str.replace('تاريخه:','')"
   ]
  },
  {
   "cell_type": "code",
   "execution_count": 20,
   "id": "1976537c",
   "metadata": {},
   "outputs": [],
   "source": [
    "df_train['appeal_id'] = df_train['appeal_id'].str.replace('رقم القرار:','')"
   ]
  },
  {
   "cell_type": "code",
   "execution_count": 21,
   "id": "5634c8f8",
   "metadata": {},
   "outputs": [],
   "source": [
    "df_val['appeal_id'] = df_val['appeal_id'].str.replace('رقم القرار:','')"
   ]
  },
  {
   "cell_type": "code",
   "execution_count": 22,
   "id": "46a80b65",
   "metadata": {},
   "outputs": [],
   "source": [
    "df_val['appeal_date'] = df_val['appeal_id'].str.replace('رقم القرار:','')"
   ]
  },
  {
   "cell_type": "code",
   "execution_count": 23,
   "id": "a37165c7",
   "metadata": {},
   "outputs": [],
   "source": [
    "df_train['court'] = df_train['court'].str.replace('المحكمة:','')"
   ]
  },
  {
   "cell_type": "code",
   "execution_count": 24,
   "id": "7479a7b3",
   "metadata": {},
   "outputs": [],
   "source": [
    "df_train['court_id'] = df_train['court_id'].str.replace('رقم القضية - القرار:','')"
   ]
  },
  {
   "cell_type": "code",
   "execution_count": 25,
   "id": "aaf96bb8",
   "metadata": {},
   "outputs": [],
   "source": [
    "df_val['court_id'] = df_val['court_id'].str.replace('رقم القضية - القرار:','')"
   ]
  },
  {
   "cell_type": "code",
   "execution_count": 26,
   "id": "e624991a",
   "metadata": {},
   "outputs": [],
   "source": [
    "df_train['court_date'] = df_train['court_date'].str.replace('تاريخها: ','')"
   ]
  },
  {
   "cell_type": "code",
   "execution_count": 27,
   "id": "12864a9f",
   "metadata": {},
   "outputs": [],
   "source": [
    "df_val['court_date'] = df_val['court_date'].str.replace('تاريخها: ','')"
   ]
  },
  {
   "cell_type": "code",
   "execution_count": 28,
   "id": "78e301dd",
   "metadata": {},
   "outputs": [],
   "source": [
    "df_train['appeal_court'] = df_train['appeal_court'].str.replace('محكمة الاستئناف: ','')"
   ]
  },
  {
   "cell_type": "code",
   "execution_count": 29,
   "id": "142e4f66",
   "metadata": {},
   "outputs": [],
   "source": [
    "df_val['appeal_court'] = df_val['appeal_court'].str.replace('محكمة الاستئناف: ','')"
   ]
  },
  {
   "cell_type": "code",
   "execution_count": 30,
   "id": "50dc177a",
   "metadata": {},
   "outputs": [],
   "source": [
    "df_train['region'] = df_train['region'].str.replace('المدينة: ','')"
   ]
  },
  {
   "cell_type": "code",
   "execution_count": 31,
   "id": "6f93074e",
   "metadata": {},
   "outputs": [],
   "source": [
    "df_val['region'] = df_val['region'].str.replace('المدينة: ','')"
   ]
  },
  {
   "cell_type": "code",
   "execution_count": 32,
   "id": "fa03cbfa",
   "metadata": {},
   "outputs": [],
   "source": [
    "df_train['city'] = df_train['city'].str.replace('المدينه: ','')"
   ]
  },
  {
   "cell_type": "code",
   "execution_count": 33,
   "id": "95596234",
   "metadata": {},
   "outputs": [],
   "source": [
    "df_val['city'] = df_val['city'].str.replace('المدينه: ','')"
   ]
  },
  {
   "cell_type": "code",
   "execution_count": 34,
   "id": "6a49857d",
   "metadata": {},
   "outputs": [
    {
     "data": {
      "text/plain": [
       "الرياض             85\n",
       "المدينة المنورة     8\n",
       "الدمام              7\n",
       "بريدة               5\n",
       "Name: city, dtype: int64"
      ]
     },
     "execution_count": 34,
     "metadata": {},
     "output_type": "execute_result"
    }
   ],
   "source": [
    "df_train.city.value_counts()"
   ]
  },
  {
   "cell_type": "code",
   "execution_count": 35,
   "id": "9d3cc782",
   "metadata": {},
   "outputs": [],
   "source": [
    "arabic_punctuations = '''`÷×؛<>_()*&^%][ـ،/:\"؟.,'{}~¦+|!”…“–ـ'''\n",
    "english_punctuations = string.punctuation\n",
    "punctuations_list = arabic_punctuations + english_punctuations\n",
    "df_train.judgment_text = df_train.judgment_text.apply(lambda x: x.translate(str.maketrans('', '', punctuations_list)))\n",
    "# df_train.appeal_text = df_train.appeal_text.apply(lambda x: x.translate(str.maketrans('', '', punctuations_list)))"
   ]
  },
  {
   "cell_type": "code",
   "execution_count": 53,
   "id": "e1dd94d0",
   "metadata": {},
   "outputs": [],
   "source": [
    "df_train.judgment_text = df_train.judgment_text.apply(lambda x: x.translate(str.maketrans('', '', punctuations_list)))\n",
    "df_val.judgment_text = df_val.judgment_text.apply(lambda x: x.translate(str.maketrans('', '', punctuations_list)))\n",
    "# df_val.appeal_text = df_val.appeal_text.apply(lambda x: x.translate(str.maketrans('', '', punctuations_list)))"
   ]
  },
  {
   "cell_type": "code",
   "execution_count": 37,
   "id": "a8e452fb",
   "metadata": {},
   "outputs": [
    {
     "data": {
      "text/html": [
       "<div>\n",
       "<style scoped>\n",
       "    .dataframe tbody tr th:only-of-type {\n",
       "        vertical-align: middle;\n",
       "    }\n",
       "\n",
       "    .dataframe tbody tr th {\n",
       "        vertical-align: top;\n",
       "    }\n",
       "\n",
       "    .dataframe thead th {\n",
       "        text-align: right;\n",
       "    }\n",
       "</style>\n",
       "<table border=\"1\" class=\"dataframe\">\n",
       "  <thead>\n",
       "    <tr style=\"text-align: right;\">\n",
       "      <th></th>\n",
       "      <th>links</th>\n",
       "      <th>court</th>\n",
       "      <th>court_id</th>\n",
       "      <th>court_date</th>\n",
       "      <th>appeal_court</th>\n",
       "      <th>appeal_id</th>\n",
       "      <th>appeal_date</th>\n",
       "      <th>region</th>\n",
       "      <th>city</th>\n",
       "      <th>judgment_text</th>\n",
       "      <th>appeal_text</th>\n",
       "      <th>appeal_data</th>\n",
       "      <th>appleal_text</th>\n",
       "    </tr>\n",
       "  </thead>\n",
       "  <tbody>\n",
       "    <tr>\n",
       "      <th>119</th>\n",
       "      <td>القضية رقم ٢٢٩ لعام ١٤٤١ هـ</td>\n",
       "      <td>المحكمة التجارية</td>\n",
       "      <td>٢٢٩</td>\n",
       "      <td>١٤/١/١٤٤٢</td>\n",
       "      <td>المحكمة التجارية</td>\n",
       "      <td>٩٦٧</td>\n",
       "      <td>٩/٢/١٤٤٣</td>\n",
       "      <td>منطقة الرياض</td>\n",
       "      <td>الرياض</td>\n",
       "      <td>الحمد لله والصلاة والسلام على رسول ﷲ أما بعد\\n...</td>\n",
       "      <td>الحمد لله والصلاة والسلام على رسول ﷲ أما بعد:\\...</td>\n",
       "      <td>NaN</td>\n",
       "      <td>NaN</td>\n",
       "    </tr>\n",
       "    <tr>\n",
       "      <th>124</th>\n",
       "      <td>القضية رقم  ٦٠٩٨ لعام ١٤٤١ هـ</td>\n",
       "      <td>المحكمة التجارية</td>\n",
       "      <td>٦٠٩٨</td>\n",
       "      <td>١٣/١٠/١٤٤٢</td>\n",
       "      <td>المحكمة التجارية</td>\n",
       "      <td>٢٠٣</td>\n",
       "      <td>٨/٢/١٤٤٣</td>\n",
       "      <td>منطقة الرياض</td>\n",
       "      <td>الرياض</td>\n",
       "      <td>الحمد لله والصلاة والسلام على رسول ﷲ أما بعد\\n...</td>\n",
       "      <td>الحمد لله والصلاة والسلام على رسول ﷲ أما بعد:\\...</td>\n",
       "      <td>NaN</td>\n",
       "      <td>NaN</td>\n",
       "    </tr>\n",
       "    <tr>\n",
       "      <th>81</th>\n",
       "      <td>القضية رقم ٤٠٣١ لعام ١٤٤٢ هـ</td>\n",
       "      <td>المحكمة التجارية</td>\n",
       "      <td>٤٠٣١</td>\n",
       "      <td>٢٠/١٠/١٤٤٢</td>\n",
       "      <td>المحكمة التجارية</td>\n",
       "      <td>٥٤٦٧</td>\n",
       "      <td>١٢/٢/١٤٤٣</td>\n",
       "      <td>منطقة الرياض</td>\n",
       "      <td>الرياض</td>\n",
       "      <td>الحمد لله والصلاة والسلام على رسول ﷲ أما بعد\\n...</td>\n",
       "      <td>الحمد لله والصلاة والسلام على رسول ﷲ أما بعد:\\...</td>\n",
       "      <td>NaN</td>\n",
       "      <td>NaN</td>\n",
       "    </tr>\n",
       "    <tr>\n",
       "      <th>62</th>\n",
       "      <td>القضية رقم  ١٧٧٤ لعام ١٤٤٢ هـ</td>\n",
       "      <td>المحكمة التجارية</td>\n",
       "      <td>١٧٧٤</td>\n",
       "      <td>٢٢/٨/١٤٤٢</td>\n",
       "      <td>المحكمة التجارية</td>\n",
       "      <td>٤٥٦٧</td>\n",
       "      <td>٥/٣/١٤٤٣</td>\n",
       "      <td>منطقة الرياض</td>\n",
       "      <td>الرياض</td>\n",
       "      <td>الحمد لله والصلاة والسلام على رسول ﷲ أما بعد\\n...</td>\n",
       "      <td>الحمد لله والصلاة والسلام على رسول ﷲ أما بعد:\\...</td>\n",
       "      <td>NaN</td>\n",
       "      <td>NaN</td>\n",
       "    </tr>\n",
       "    <tr>\n",
       "      <th>121</th>\n",
       "      <td>القضية رقم  ٧٣٠٩ لعام ١٤٤٢ هـ</td>\n",
       "      <td>المحكمة التجارية</td>\n",
       "      <td>٧٣٠٩</td>\n",
       "      <td>٢٣/١٢/١٤٤٢</td>\n",
       "      <td>المحكمة التجارية</td>\n",
       "      <td>٣٨٩</td>\n",
       "      <td>٨/٢/١٤٤٣</td>\n",
       "      <td>منطقة الرياض</td>\n",
       "      <td>الرياض</td>\n",
       "      <td>الحمد لله والصلاة والسلام على رسول ﷲ أما بعد\\n...</td>\n",
       "      <td>الحمد لله والصلاة والسلام على رسول ﷲ أما بعد:\\...</td>\n",
       "      <td>NaN</td>\n",
       "      <td>NaN</td>\n",
       "    </tr>\n",
       "    <tr>\n",
       "      <th>...</th>\n",
       "      <td>...</td>\n",
       "      <td>...</td>\n",
       "      <td>...</td>\n",
       "      <td>...</td>\n",
       "      <td>...</td>\n",
       "      <td>...</td>\n",
       "      <td>...</td>\n",
       "      <td>...</td>\n",
       "      <td>...</td>\n",
       "      <td>...</td>\n",
       "      <td>...</td>\n",
       "      <td>...</td>\n",
       "      <td>...</td>\n",
       "    </tr>\n",
       "    <tr>\n",
       "      <th>210</th>\n",
       "      <td>القضية رقم  ١١١٠ لعام ١٤٤٢ هـ</td>\n",
       "      <td>المحكمة التجارية</td>\n",
       "      <td>١١١٠</td>\n",
       "      <td>١٤/٩/١٤٤٢</td>\n",
       "      <td>المحكمة التجارية</td>\n",
       "      <td>٥١٥٩</td>\n",
       "      <td>٨/٢/١٤٤٣</td>\n",
       "      <td>منطقة الرياض</td>\n",
       "      <td>الرياض</td>\n",
       "      <td>الحمد لله والصلاة والسلام على رسول ﷲ أما بعد\\n...</td>\n",
       "      <td>الحمد لله والصلاة والسلام على رسول ﷲ أما بعد:\\...</td>\n",
       "      <td>NaN</td>\n",
       "      <td>NaN</td>\n",
       "    </tr>\n",
       "    <tr>\n",
       "      <th>46</th>\n",
       "      <td>القضية رقم  ٣١٤٥ لعام ١٤٤١ هـ</td>\n",
       "      <td>المحكمة التجارية</td>\n",
       "      <td>٣١٤٥</td>\n",
       "      <td>٧/٧/١٤٤١</td>\n",
       "      <td>المحكمة التجارية</td>\n",
       "      <td>٢٦٣٠</td>\n",
       "      <td>NaN</td>\n",
       "      <td>NaN</td>\n",
       "      <td>NaN</td>\n",
       "      <td>الحمد لله والصلاة والسلام على رسول ﷲ أما بعد\\n...</td>\n",
       "      <td>NaN</td>\n",
       "      <td>تاريخه: ٥/٣/١٤٤٣</td>\n",
       "      <td>الحمد لله والصلاة والسلام على رسول ﷲ أما بعد:\\...</td>\n",
       "    </tr>\n",
       "    <tr>\n",
       "      <th>102</th>\n",
       "      <td>القضية رقم  ٢٠٧٧ لعام ١٤٤٢ هـ</td>\n",
       "      <td>المحكمة التجارية</td>\n",
       "      <td>٢٠٧٧</td>\n",
       "      <td>١٦/٨/١٤٤٢</td>\n",
       "      <td>المحكمة التجارية</td>\n",
       "      <td>٤٧١٦</td>\n",
       "      <td>٨/٢/١٤٤٣</td>\n",
       "      <td>منطقة الرياض</td>\n",
       "      <td>الرياض</td>\n",
       "      <td>الحمد لله والصلاة والسلام على رسول ﷲ أما بعد\\n...</td>\n",
       "      <td>الحمد لله والصلاة والسلام على رسول ﷲ أما بعد:\\...</td>\n",
       "      <td>NaN</td>\n",
       "      <td>NaN</td>\n",
       "    </tr>\n",
       "    <tr>\n",
       "      <th>43</th>\n",
       "      <td>القضية رقم  ٣٣٢ لعام ١٤٤٢ هـ</td>\n",
       "      <td>المحكمة العامة</td>\n",
       "      <td>٣٣٢</td>\n",
       "      <td>٢٦/١٠/١٤٤٢</td>\n",
       "      <td>المحكمة التجارية</td>\n",
       "      <td>٥٥٢٨</td>\n",
       "      <td>٢٤/١٠/١٤٤٣</td>\n",
       "      <td>منطقة الرياض</td>\n",
       "      <td>بريدة</td>\n",
       "      <td>الحمد لله والصلاة والسلام على رسول ﷲ أما بعد\\n...</td>\n",
       "      <td>الحمد لله والصلاة والسلام على رسول ﷲ أما بعد:\\...</td>\n",
       "      <td>NaN</td>\n",
       "      <td>NaN</td>\n",
       "    </tr>\n",
       "    <tr>\n",
       "      <th>3</th>\n",
       "      <td>القضية رقم  ٤٣٣١ لعام ١٤٤٢ هـ</td>\n",
       "      <td>المحكمة التجارية</td>\n",
       "      <td>٤٣٣١</td>\n",
       "      <td>١٨/١١/١٤٤٢</td>\n",
       "      <td>المحكمة التجارية</td>\n",
       "      <td>٣٧</td>\n",
       "      <td>٧/٣/١٤٤٣</td>\n",
       "      <td>منطقة الرياض</td>\n",
       "      <td>الرياض</td>\n",
       "      <td>الحمد لله والصلاة والسلام على رسول ﷲ أما بعد\\n...</td>\n",
       "      <td>الحمد لله والصلاة والسلام على رسول ﷲ أما بعد:\\...</td>\n",
       "      <td>NaN</td>\n",
       "      <td>NaN</td>\n",
       "    </tr>\n",
       "  </tbody>\n",
       "</table>\n",
       "<p>138 rows × 13 columns</p>\n",
       "</div>"
      ],
      "text/plain": [
       "                             links              court court_id  court_date  \\\n",
       "119    القضية رقم ٢٢٩ لعام ١٤٤١ هـ   المحكمة التجارية      ٢٢٩   ١٤/١/١٤٤٢   \n",
       "124  القضية رقم  ٦٠٩٨ لعام ١٤٤١ هـ   المحكمة التجارية     ٦٠٩٨  ١٣/١٠/١٤٤٢   \n",
       "81    القضية رقم ٤٠٣١ لعام ١٤٤٢ هـ   المحكمة التجارية     ٤٠٣١  ٢٠/١٠/١٤٤٢   \n",
       "62   القضية رقم  ١٧٧٤ لعام ١٤٤٢ هـ   المحكمة التجارية     ١٧٧٤   ٢٢/٨/١٤٤٢   \n",
       "121  القضية رقم  ٧٣٠٩ لعام ١٤٤٢ هـ   المحكمة التجارية     ٧٣٠٩  ٢٣/١٢/١٤٤٢   \n",
       "..                             ...                ...      ...         ...   \n",
       "210  القضية رقم  ١١١٠ لعام ١٤٤٢ هـ   المحكمة التجارية     ١١١٠   ١٤/٩/١٤٤٢   \n",
       "46   القضية رقم  ٣١٤٥ لعام ١٤٤١ هـ   المحكمة التجارية     ٣١٤٥    ٧/٧/١٤٤١   \n",
       "102  القضية رقم  ٢٠٧٧ لعام ١٤٤٢ هـ   المحكمة التجارية     ٢٠٧٧   ١٦/٨/١٤٤٢   \n",
       "43    القضية رقم  ٣٣٢ لعام ١٤٤٢ هـ     المحكمة العامة      ٣٣٢  ٢٦/١٠/١٤٤٢   \n",
       "3    القضية رقم  ٤٣٣١ لعام ١٤٤٢ هـ   المحكمة التجارية     ٤٣٣١  ١٨/١١/١٤٤٢   \n",
       "\n",
       "         appeal_court appeal_id  appeal_date        region    city  \\\n",
       "119  المحكمة التجارية       ٩٦٧     ٩/٢/١٤٤٣  منطقة الرياض  الرياض   \n",
       "124  المحكمة التجارية       ٢٠٣     ٨/٢/١٤٤٣  منطقة الرياض  الرياض   \n",
       "81   المحكمة التجارية      ٥٤٦٧    ١٢/٢/١٤٤٣  منطقة الرياض  الرياض   \n",
       "62   المحكمة التجارية      ٤٥٦٧     ٥/٣/١٤٤٣  منطقة الرياض  الرياض   \n",
       "121  المحكمة التجارية       ٣٨٩     ٨/٢/١٤٤٣  منطقة الرياض  الرياض   \n",
       "..                ...       ...          ...           ...     ...   \n",
       "210  المحكمة التجارية      ٥١٥٩     ٨/٢/١٤٤٣  منطقة الرياض  الرياض   \n",
       "46   المحكمة التجارية      ٢٦٣٠          NaN           NaN     NaN   \n",
       "102  المحكمة التجارية      ٤٧١٦     ٨/٢/١٤٤٣  منطقة الرياض  الرياض   \n",
       "43   المحكمة التجارية      ٥٥٢٨   ٢٤/١٠/١٤٤٣  منطقة الرياض   بريدة   \n",
       "3    المحكمة التجارية        ٣٧     ٧/٣/١٤٤٣  منطقة الرياض  الرياض   \n",
       "\n",
       "                                         judgment_text  \\\n",
       "119  الحمد لله والصلاة والسلام على رسول ﷲ أما بعد\\n...   \n",
       "124  الحمد لله والصلاة والسلام على رسول ﷲ أما بعد\\n...   \n",
       "81   الحمد لله والصلاة والسلام على رسول ﷲ أما بعد\\n...   \n",
       "62   الحمد لله والصلاة والسلام على رسول ﷲ أما بعد\\n...   \n",
       "121  الحمد لله والصلاة والسلام على رسول ﷲ أما بعد\\n...   \n",
       "..                                                 ...   \n",
       "210  الحمد لله والصلاة والسلام على رسول ﷲ أما بعد\\n...   \n",
       "46   الحمد لله والصلاة والسلام على رسول ﷲ أما بعد\\n...   \n",
       "102  الحمد لله والصلاة والسلام على رسول ﷲ أما بعد\\n...   \n",
       "43   الحمد لله والصلاة والسلام على رسول ﷲ أما بعد\\n...   \n",
       "3    الحمد لله والصلاة والسلام على رسول ﷲ أما بعد\\n...   \n",
       "\n",
       "                                           appeal_text       appeal_data  \\\n",
       "119  الحمد لله والصلاة والسلام على رسول ﷲ أما بعد:\\...               NaN   \n",
       "124  الحمد لله والصلاة والسلام على رسول ﷲ أما بعد:\\...               NaN   \n",
       "81   الحمد لله والصلاة والسلام على رسول ﷲ أما بعد:\\...               NaN   \n",
       "62   الحمد لله والصلاة والسلام على رسول ﷲ أما بعد:\\...               NaN   \n",
       "121  الحمد لله والصلاة والسلام على رسول ﷲ أما بعد:\\...               NaN   \n",
       "..                                                 ...               ...   \n",
       "210  الحمد لله والصلاة والسلام على رسول ﷲ أما بعد:\\...               NaN   \n",
       "46                                                 NaN  تاريخه: ٥/٣/١٤٤٣   \n",
       "102  الحمد لله والصلاة والسلام على رسول ﷲ أما بعد:\\...               NaN   \n",
       "43   الحمد لله والصلاة والسلام على رسول ﷲ أما بعد:\\...               NaN   \n",
       "3    الحمد لله والصلاة والسلام على رسول ﷲ أما بعد:\\...               NaN   \n",
       "\n",
       "                                          appleal_text  \n",
       "119                                                NaN  \n",
       "124                                                NaN  \n",
       "81                                                 NaN  \n",
       "62                                                 NaN  \n",
       "121                                                NaN  \n",
       "..                                                 ...  \n",
       "210                                                NaN  \n",
       "46   الحمد لله والصلاة والسلام على رسول ﷲ أما بعد:\\...  \n",
       "102                                                NaN  \n",
       "43                                                 NaN  \n",
       "3                                                  NaN  \n",
       "\n",
       "[138 rows x 13 columns]"
      ]
     },
     "execution_count": 37,
     "metadata": {},
     "output_type": "execute_result"
    }
   ],
   "source": [
    "df_train"
   ]
  },
  {
   "cell_type": "markdown",
   "id": "79c585e4",
   "metadata": {},
   "source": [
    "# Preprocessing"
   ]
  },
  {
   "cell_type": "markdown",
   "id": "ed694065",
   "metadata": {},
   "source": [
    "### Remove stopwords"
   ]
  },
  {
   "cell_type": "code",
   "execution_count": 38,
   "id": "b58f88a8",
   "metadata": {},
   "outputs": [],
   "source": [
    "df_train['judgment_text'] = df_train['judgment_text'].apply(lambda x: ' '.join([word for word in x.split() if word not in stp.stopwords_list()]))\n",
    "# df_train['appeal_text'] = df_train['appeal_text'].apply(lambda y: ' '.join([word for word in y.split() if word not in stp.stopwords_list()]))\n"
   ]
  },
  {
   "cell_type": "markdown",
   "id": "7f6b6bae",
   "metadata": {},
   "source": [
    "### Remove digits"
   ]
  },
  {
   "cell_type": "code",
   "execution_count": 39,
   "id": "2091176f",
   "metadata": {},
   "outputs": [],
   "source": [
    "df_train['judgment_text'] = df_train['judgment_text'].apply(lambda x: re.sub('\\w*\\d\\w*', '', x))\n",
    "# df_train['appeal_text'] = df_train['appeal_text'].apply(lambda x: re.sub('\\w*\\d\\w*', '', x))"
   ]
  },
  {
   "cell_type": "code",
   "execution_count": 40,
   "id": "c03cd318",
   "metadata": {},
   "outputs": [],
   "source": [
    "df_train['judgment_text'] = df_train['judgment_text'].str.replace('\\n','')"
   ]
  },
  {
   "cell_type": "code",
   "execution_count": 63,
   "id": "e213e497",
   "metadata": {},
   "outputs": [
    {
     "data": {
      "text/plain": [
       "'منجز'"
      ]
     },
     "execution_count": 63,
     "metadata": {},
     "output_type": "execute_result"
    }
   ],
   "source": [
    "ArListem = ArabicLightStemmer()\n",
    "ArListem.light_stem('منجزين')"
   ]
  },
  {
   "cell_type": "code",
   "execution_count": 42,
   "id": "51094ac7",
   "metadata": {},
   "outputs": [
    {
     "data": {
      "text/plain": [
       "'منجز'"
      ]
     },
     "execution_count": 42,
     "metadata": {},
     "output_type": "execute_result"
    }
   ],
   "source": [
    "ISRIStemmer().suf32(\"منجزين\")"
   ]
  },
  {
   "cell_type": "code",
   "execution_count": 94,
   "id": "1e2e5120",
   "metadata": {},
   "outputs": [],
   "source": [
    "df_train['judgment_text'] = df_train['judgment_text'].apply(lambda x: ArListem.light_stem(x))\n",
    "df_train['judgment_text'] = df_train['judgment_text'].apply(lambda x: ISRIStemmer().suf32(x))\n"
   ]
  },
  {
   "cell_type": "code",
   "execution_count": 95,
   "id": "08361a91",
   "metadata": {
    "scrolled": false
   },
   "outputs": [
    {
     "data": {
      "text/plain": [
       "'الحمد لله والصلاة والسلام رسول ﷲ الدائرة التجارية الثانية والعشرون وبناء القضية رقم  لعام  المقامة عبدﷲ ابراهيم المحمود سجل تجاري ضد تغريد بنت محمد صفير هوية وطنية القاضي عمر مبارك الدوسري رئيسا الوقائع تتلخص وقائع الدعوى وبالقدر اللازم لإصدار الحكم وردت المحكمة التجارية لائحة دعوى مقدمة المدعي وكالة ضد المدعى والمثبتة بياناتها ملف القضية جاء لائحة الدعوى اتفق موكلي الجهة المدعى بتأريخ   لتنفيذ أعمال الموقع الخارجي لمشروع القوات البحرية الملكية السعودية الجبيل وتمثل  أعمال المشروع والمتمثلة أعمال السفلتة وغرف التفتيش وعددها  غرفة ومدة العقد  خمسة عشر يوما تنجز الجهة المدعى  الأعمال وعدد  غرف تفتيش عدد  غرفة واستلموا كامل المبلغ وقدره  مئتان واثنان وعشرون الف ريال إتمام المشروع والمستحق الفعلي  مئة وعشرة ألف ريالا أطلب يلزم الجهة المدعى مؤسسة قمة الصحراء للمقاولات العامة بدفع لموكلتي مبلغ وقدره  مئة واثنا عشر ألف ريالا قيدت الأوراق قضية بالرقم المشار بعالية أحيلت الدائرة فباشرت نظرها النحو الموضح بمحاضر الضبط جلسة يوم  حضر وكيل المدعي بوكالة رقم  ذكر المدعي دعواه مقامة شركة بيت الجزيرة وباطلاع الدائرة صحيفة الدعوى المقدمة تبين صحة قررت الدائرة تصحيح اسم المدعي ليكون موافق تم صحيفة الدعوى وبسماع المدعى للائحة الدعوى طلبت أجلا يكون طرف مهلة سبعة أيام لحين موعد الجلسة القادمة تاريخ  قدم وكيل المدعى مذكرة جاء ادعى المدعي دعواه ننجز  الأعمال مستندا التقرير الهندسي المؤرخ    صحيح الصحيح تقدم المدعي مرفقات صحيفة دعواها مستخلص أعمال نهائي والمؤرخة    تاريخ التقرير الهندسي القوات البحرية خمسة أشهر والموقع المدير التنفيذي ومهندس المشروع المدعية استلمت بناء مستخلص اعمال النهائي مبلغ  بموجب سند قبض صادر وبختمها ومؤرخ    وصدور اتفاقية مخالصة التاريخ تقدم اطلب رد الدعوى أرفق المدعى  قبض  مخالصة  نهائي تاريخ  قدم وكيل المدعي مذكرة رد جاء نصه إجابة رد المدعى مؤسسة قمة الصحراء العودة الاستشاري بشأن تاريخ التقرير وجد خطأ تاريخ التقرير السابق لاستشاري الموقع والمعين قاعدة الملك عبدالعزيز بالقوات البحرية بالمنطقة الشرقية    الصحيح   الموافق   المتوافق توقيع اعتماد ضابط المشروع وتم تعديل التقرير للتاريخ الصحيح ومرفق صورة مرفق  ردهم المستخلص اعمال نهائي والمؤرخة    تاريخ التقرير الهندسي القوات البحرية خمسة أشهر والموقع المدير التنفيذي ومهندس المشروع فالإجابة تقرير الاستشاري جاء المستخلص أعمال النهائي يكشف غش وخداع الجهة المدعى وعدم اكمالها تم التعاقد لتنفيذه نطعن المستخلص النهائي الغير صحيح تم تنفيذه أرض الموقع أفيد فضيلة ناظر القضية تم التواصل المدعى بتاريخ    رفع تقرير الاستشاري ومرفق خطاب قبلنا وتم استلامه المدعي يكن استجابة حضور للاجتماع استشاري ومهندس الموقع التقرير  وللعلم مهندس الموقع والمدير التنفيذي السابقين يعملون الشركة  وأما ردهم المدعية استلمت بناء مستخلص اعمال النهائي مبلغ  بموجب سند قبض صادر وبختمها ومؤرخ    وصدور اتفاقية مخالصة التاريخ فالإجابة تم تسليم المبلغ نقدا للمدير التنفيذي السابق للشركة يورد لحسابات الشركة نعرف المبلغ شيء أطلب إلزام الجهة المدعى بتسليم موكلتي مبلغا وقدره  مئة واثنا عشر ألف وثمان مئة وثمانية عشر ريالا أرفق وكيل المدعي  طلب اجتماع  استشاري المشروع جلسة بتاريخ  افتتحت الجلسة حضر وكيل المدعي حضر وكيل المدعى ورد للدائرة رد المدعى المتضمن الصحيح تقدم المدعي مرفقات صحيفة دعواها مستخلص أعمال نهائي والمؤرخة    تاريخ التقرير الهندسي القوات البحرية خمسة أشهر والموقع المدير التنفيذي ومهندس المشروع المدعية استلمت بناء مستخلص اعمال النهائي مبلغ  ريال ورد المدعي والمتضمن بالعودة استشاري المشروع بشأن تأريخ التقرير أفاد بوجود خطأ التأريخ السابق الصحيح    الموافق    ومتوافق توقيع اعتماد ضابط المشروع  تأريخ المستخلص النهائي سابق للتقرير الهندسي لاستشاري المشروع يكشف غش وخداع المدعى تنفيذ واكمال تم التعاقد لتنفيذه  المدعى استلمت مبلغ  ريال بناء المستخلص النهائي استلمت المبلغ نقدا المدير التنفيذي السابق للشركة يتم توريد المبلغ لحسابات الشركة وقرر وكيل المدعي ووكيل المدعى انهما يكتفيان قدما رفعت الجلسة جلسة يوم  حضر وكيل المدعي بالوكالة رقم  حضرت المدعى أصالة وقررت الدائرة رفع الجلسة للمداولة الأسباب المدعي وكالة يطلب إلزام المدعى برد مبلغ وقدره  مئة واثنا عشر ألف وثمان مئة وثمانية عشر ريالا المدعى استلمت مبلغا وقدره  مئتان واثنان وعشرون ألف ريال كامل قيمة العقد إتمام المشروع والمستحق الفعلي نفذ أرض الواقع بزعم المدعي  مئة وعشرة ألف ريالا المدعى أجابت بعدم صحة يدعيه المدعي أرفقت مخالصة نهائية موقعة المدعي وباطلاع الدائرة قدمه الطرفان قدمت المدعى المخالصة النهائية بقيمة  مؤرخة    مرفقا سند القبض بقيمة  أربعة وثلاثين ألفا وخمسمائة ريال ممهورا بختم المدعى وأجابت المدعية المخالصة تم استلام قيمتها نقدا المدير التنفيذي السابق تورد لحسابات الشركة إقرار بصحة المخالصة المبرمة المدعى أنه المقرر قضاء مسؤولية التابع أعمال متبوعه تهيأ للمتعامل حسن النية صلاحية تصرفات التابع متبوعه وانسحاب آثارها تطبيقا لقاعدة الغنم بالغرم المستخلص النهائي المقدم المدعية الدعوى مؤرخ  والمخالصة مؤرخة تنتهي الدائرة رفض الدعوى منطوق الحكم حكمت الدائرة برفض الدعوى المقامة شركة بيت الجزيرة للتجارة والمقاولات سجل تجاري رقم ضد تغريد بنت محمد صفير جحفلي هوية وطنية رقم وبالله التوفيق رئيس الدائرة عمر مبارك الدوسري'"
      ]
     },
     "execution_count": 95,
     "metadata": {},
     "output_type": "execute_result"
    }
   ],
   "source": [
    "df_train['judgment_text'][0]"
   ]
  },
  {
   "cell_type": "markdown",
   "id": "a609e6ee",
   "metadata": {},
   "source": [
    "# remove english words"
   ]
  },
  {
   "cell_type": "code",
   "execution_count": 96,
   "id": "f17c9aac",
   "metadata": {},
   "outputs": [],
   "source": [
    "df_train.judgment_text = df_train.judgment_text.apply(lambda x: re.sub('([@A-Za-z0-9_]+)|[^\\w\\s]|#|http\\S+', '', x) )"
   ]
  },
  {
   "cell_type": "markdown",
   "id": "47f75588",
   "metadata": {},
   "source": [
    "# TF-IDF"
   ]
  },
  {
   "cell_type": "code",
   "execution_count": 97,
   "id": "eadac1f4",
   "metadata": {},
   "outputs": [],
   "source": [
    "cv_tfidf = TfidfVectorizer(min_df=2, max_df=20)\n",
    "x = cv_tfidf.fit_transform(df_train['judgment_text']).toarray()"
   ]
  },
  {
   "cell_type": "code",
   "execution_count": 98,
   "id": "355bf8c6",
   "metadata": {},
   "outputs": [
    {
     "data": {
      "text/plain": [
       "array([[0.        , 0.        , 0.1496733 , ..., 0.        , 0.        ,\n",
       "        0.        ],\n",
       "       [0.        , 0.        , 0.        , ..., 0.        , 0.        ,\n",
       "        0.        ],\n",
       "       [0.        , 0.        , 0.        , ..., 0.        , 0.        ,\n",
       "        0.        ],\n",
       "       ...,\n",
       "       [0.        , 0.        , 0.        , ..., 0.        , 0.09210477,\n",
       "        0.        ],\n",
       "       [0.        , 0.        , 0.        , ..., 0.        , 0.        ,\n",
       "        0.        ],\n",
       "       [0.        , 0.        , 0.        , ..., 0.        , 0.        ,\n",
       "        0.        ]])"
      ]
     },
     "execution_count": 98,
     "metadata": {},
     "output_type": "execute_result"
    }
   ],
   "source": [
    "x"
   ]
  },
  {
   "cell_type": "code",
   "execution_count": 101,
   "id": "631e51c3",
   "metadata": {
    "scrolled": false
   },
   "outputs": [
    {
     "data": {
      "text/html": [
       "<div>\n",
       "<style scoped>\n",
       "    .dataframe tbody tr th:only-of-type {\n",
       "        vertical-align: middle;\n",
       "    }\n",
       "\n",
       "    .dataframe tbody tr th {\n",
       "        vertical-align: top;\n",
       "    }\n",
       "\n",
       "    .dataframe thead th {\n",
       "        text-align: right;\n",
       "    }\n",
       "</style>\n",
       "<table border=\"1\" class=\"dataframe\">\n",
       "  <thead>\n",
       "    <tr style=\"text-align: right;\">\n",
       "      <th></th>\n",
       "      <th>آب</th>\n",
       "      <th>آجل</th>\n",
       "      <th>آخرين</th>\n",
       "      <th>آل</th>\n",
       "      <th>آلاف</th>\n",
       "      <th>آلة</th>\n",
       "      <th>آلت</th>\n",
       "      <th>آلي</th>\n",
       "      <th>آلية</th>\n",
       "      <th>آمنوا</th>\n",
       "      <th>آنفا</th>\n",
       "      <th>آنفة</th>\n",
       "      <th>أبدا</th>\n",
       "      <th>أبرزها</th>\n",
       "      <th>أبرم</th>\n",
       "      <th>...</th>\n",
       "      <th>يهدف</th>\n",
       "      <th>يوازي</th>\n",
       "      <th>يوافق</th>\n",
       "      <th>يوجب</th>\n",
       "      <th>يوجه</th>\n",
       "      <th>يود</th>\n",
       "      <th>يودان</th>\n",
       "      <th>يودع</th>\n",
       "      <th>يورد</th>\n",
       "      <th>يوسف</th>\n",
       "      <th>يوضح</th>\n",
       "      <th>يوفر</th>\n",
       "      <th>يوميا</th>\n",
       "      <th>يومين</th>\n",
       "      <th>يونيو</th>\n",
       "    </tr>\n",
       "  </thead>\n",
       "  <tbody>\n",
       "    <tr>\n",
       "      <th>0</th>\n",
       "      <td>0.0</td>\n",
       "      <td>0.0</td>\n",
       "      <td>0.149673</td>\n",
       "      <td>0.000000</td>\n",
       "      <td>0.0</td>\n",
       "      <td>0.0</td>\n",
       "      <td>0.0</td>\n",
       "      <td>0.0</td>\n",
       "      <td>0.000000</td>\n",
       "      <td>0.000000</td>\n",
       "      <td>0.0</td>\n",
       "      <td>0.0</td>\n",
       "      <td>0.000000</td>\n",
       "      <td>0.0</td>\n",
       "      <td>0.000000</td>\n",
       "      <td>...</td>\n",
       "      <td>0.047109</td>\n",
       "      <td>0.0</td>\n",
       "      <td>0.000000</td>\n",
       "      <td>0.0</td>\n",
       "      <td>0.0</td>\n",
       "      <td>0.0</td>\n",
       "      <td>0.0</td>\n",
       "      <td>0.0</td>\n",
       "      <td>0.0</td>\n",
       "      <td>0.000000</td>\n",
       "      <td>0.0</td>\n",
       "      <td>0.0</td>\n",
       "      <td>0.0</td>\n",
       "      <td>0.000000</td>\n",
       "      <td>0.000000</td>\n",
       "    </tr>\n",
       "    <tr>\n",
       "      <th>1</th>\n",
       "      <td>0.0</td>\n",
       "      <td>0.0</td>\n",
       "      <td>0.000000</td>\n",
       "      <td>0.000000</td>\n",
       "      <td>0.0</td>\n",
       "      <td>0.0</td>\n",
       "      <td>0.0</td>\n",
       "      <td>0.0</td>\n",
       "      <td>0.000000</td>\n",
       "      <td>0.028424</td>\n",
       "      <td>0.0</td>\n",
       "      <td>0.0</td>\n",
       "      <td>0.000000</td>\n",
       "      <td>0.0</td>\n",
       "      <td>0.000000</td>\n",
       "      <td>...</td>\n",
       "      <td>0.000000</td>\n",
       "      <td>0.0</td>\n",
       "      <td>0.000000</td>\n",
       "      <td>0.0</td>\n",
       "      <td>0.0</td>\n",
       "      <td>0.0</td>\n",
       "      <td>0.0</td>\n",
       "      <td>0.0</td>\n",
       "      <td>0.0</td>\n",
       "      <td>0.000000</td>\n",
       "      <td>0.0</td>\n",
       "      <td>0.0</td>\n",
       "      <td>0.0</td>\n",
       "      <td>0.000000</td>\n",
       "      <td>0.000000</td>\n",
       "    </tr>\n",
       "    <tr>\n",
       "      <th>2</th>\n",
       "      <td>0.0</td>\n",
       "      <td>0.0</td>\n",
       "      <td>0.000000</td>\n",
       "      <td>0.045895</td>\n",
       "      <td>0.0</td>\n",
       "      <td>0.0</td>\n",
       "      <td>0.0</td>\n",
       "      <td>0.0</td>\n",
       "      <td>0.065208</td>\n",
       "      <td>0.000000</td>\n",
       "      <td>0.0</td>\n",
       "      <td>0.0</td>\n",
       "      <td>0.032604</td>\n",
       "      <td>0.0</td>\n",
       "      <td>0.000000</td>\n",
       "      <td>...</td>\n",
       "      <td>0.000000</td>\n",
       "      <td>0.0</td>\n",
       "      <td>0.000000</td>\n",
       "      <td>0.0</td>\n",
       "      <td>0.0</td>\n",
       "      <td>0.0</td>\n",
       "      <td>0.0</td>\n",
       "      <td>0.0</td>\n",
       "      <td>0.0</td>\n",
       "      <td>0.000000</td>\n",
       "      <td>0.0</td>\n",
       "      <td>0.0</td>\n",
       "      <td>0.0</td>\n",
       "      <td>0.000000</td>\n",
       "      <td>0.000000</td>\n",
       "    </tr>\n",
       "    <tr>\n",
       "      <th>3</th>\n",
       "      <td>0.0</td>\n",
       "      <td>0.0</td>\n",
       "      <td>0.000000</td>\n",
       "      <td>0.000000</td>\n",
       "      <td>0.0</td>\n",
       "      <td>0.0</td>\n",
       "      <td>0.0</td>\n",
       "      <td>0.0</td>\n",
       "      <td>0.000000</td>\n",
       "      <td>0.000000</td>\n",
       "      <td>0.0</td>\n",
       "      <td>0.0</td>\n",
       "      <td>0.000000</td>\n",
       "      <td>0.0</td>\n",
       "      <td>0.000000</td>\n",
       "      <td>...</td>\n",
       "      <td>0.000000</td>\n",
       "      <td>0.0</td>\n",
       "      <td>0.000000</td>\n",
       "      <td>0.0</td>\n",
       "      <td>0.0</td>\n",
       "      <td>0.0</td>\n",
       "      <td>0.0</td>\n",
       "      <td>0.0</td>\n",
       "      <td>0.0</td>\n",
       "      <td>0.000000</td>\n",
       "      <td>0.0</td>\n",
       "      <td>0.0</td>\n",
       "      <td>0.0</td>\n",
       "      <td>0.000000</td>\n",
       "      <td>0.000000</td>\n",
       "    </tr>\n",
       "    <tr>\n",
       "      <th>4</th>\n",
       "      <td>0.0</td>\n",
       "      <td>0.0</td>\n",
       "      <td>0.000000</td>\n",
       "      <td>0.000000</td>\n",
       "      <td>0.0</td>\n",
       "      <td>0.0</td>\n",
       "      <td>0.0</td>\n",
       "      <td>0.0</td>\n",
       "      <td>0.000000</td>\n",
       "      <td>0.000000</td>\n",
       "      <td>0.0</td>\n",
       "      <td>0.0</td>\n",
       "      <td>0.000000</td>\n",
       "      <td>0.0</td>\n",
       "      <td>0.000000</td>\n",
       "      <td>...</td>\n",
       "      <td>0.000000</td>\n",
       "      <td>0.0</td>\n",
       "      <td>0.000000</td>\n",
       "      <td>0.0</td>\n",
       "      <td>0.0</td>\n",
       "      <td>0.0</td>\n",
       "      <td>0.0</td>\n",
       "      <td>0.0</td>\n",
       "      <td>0.0</td>\n",
       "      <td>0.000000</td>\n",
       "      <td>0.0</td>\n",
       "      <td>0.0</td>\n",
       "      <td>0.0</td>\n",
       "      <td>0.000000</td>\n",
       "      <td>0.082733</td>\n",
       "    </tr>\n",
       "    <tr>\n",
       "      <th>...</th>\n",
       "      <td>...</td>\n",
       "      <td>...</td>\n",
       "      <td>...</td>\n",
       "      <td>...</td>\n",
       "      <td>...</td>\n",
       "      <td>...</td>\n",
       "      <td>...</td>\n",
       "      <td>...</td>\n",
       "      <td>...</td>\n",
       "      <td>...</td>\n",
       "      <td>...</td>\n",
       "      <td>...</td>\n",
       "      <td>...</td>\n",
       "      <td>...</td>\n",
       "      <td>...</td>\n",
       "      <td>...</td>\n",
       "      <td>...</td>\n",
       "      <td>...</td>\n",
       "      <td>...</td>\n",
       "      <td>...</td>\n",
       "      <td>...</td>\n",
       "      <td>...</td>\n",
       "      <td>...</td>\n",
       "      <td>...</td>\n",
       "      <td>...</td>\n",
       "      <td>...</td>\n",
       "      <td>...</td>\n",
       "      <td>...</td>\n",
       "      <td>...</td>\n",
       "      <td>...</td>\n",
       "      <td>...</td>\n",
       "    </tr>\n",
       "    <tr>\n",
       "      <th>133</th>\n",
       "      <td>0.0</td>\n",
       "      <td>0.0</td>\n",
       "      <td>0.000000</td>\n",
       "      <td>0.000000</td>\n",
       "      <td>0.0</td>\n",
       "      <td>0.0</td>\n",
       "      <td>0.0</td>\n",
       "      <td>0.0</td>\n",
       "      <td>0.000000</td>\n",
       "      <td>0.000000</td>\n",
       "      <td>0.0</td>\n",
       "      <td>0.0</td>\n",
       "      <td>0.000000</td>\n",
       "      <td>0.0</td>\n",
       "      <td>0.000000</td>\n",
       "      <td>...</td>\n",
       "      <td>0.000000</td>\n",
       "      <td>0.0</td>\n",
       "      <td>0.000000</td>\n",
       "      <td>0.0</td>\n",
       "      <td>0.0</td>\n",
       "      <td>0.0</td>\n",
       "      <td>0.0</td>\n",
       "      <td>0.0</td>\n",
       "      <td>0.0</td>\n",
       "      <td>0.000000</td>\n",
       "      <td>0.0</td>\n",
       "      <td>0.0</td>\n",
       "      <td>0.0</td>\n",
       "      <td>0.000000</td>\n",
       "      <td>0.000000</td>\n",
       "    </tr>\n",
       "    <tr>\n",
       "      <th>134</th>\n",
       "      <td>0.0</td>\n",
       "      <td>0.0</td>\n",
       "      <td>0.000000</td>\n",
       "      <td>0.000000</td>\n",
       "      <td>0.0</td>\n",
       "      <td>0.0</td>\n",
       "      <td>0.0</td>\n",
       "      <td>0.0</td>\n",
       "      <td>0.000000</td>\n",
       "      <td>0.000000</td>\n",
       "      <td>0.0</td>\n",
       "      <td>0.0</td>\n",
       "      <td>0.000000</td>\n",
       "      <td>0.0</td>\n",
       "      <td>0.000000</td>\n",
       "      <td>...</td>\n",
       "      <td>0.000000</td>\n",
       "      <td>0.0</td>\n",
       "      <td>0.000000</td>\n",
       "      <td>0.0</td>\n",
       "      <td>0.0</td>\n",
       "      <td>0.0</td>\n",
       "      <td>0.0</td>\n",
       "      <td>0.0</td>\n",
       "      <td>0.0</td>\n",
       "      <td>0.000000</td>\n",
       "      <td>0.0</td>\n",
       "      <td>0.0</td>\n",
       "      <td>0.0</td>\n",
       "      <td>0.000000</td>\n",
       "      <td>0.000000</td>\n",
       "    </tr>\n",
       "    <tr>\n",
       "      <th>135</th>\n",
       "      <td>0.0</td>\n",
       "      <td>0.0</td>\n",
       "      <td>0.000000</td>\n",
       "      <td>0.000000</td>\n",
       "      <td>0.0</td>\n",
       "      <td>0.0</td>\n",
       "      <td>0.0</td>\n",
       "      <td>0.0</td>\n",
       "      <td>0.000000</td>\n",
       "      <td>0.042470</td>\n",
       "      <td>0.0</td>\n",
       "      <td>0.0</td>\n",
       "      <td>0.000000</td>\n",
       "      <td>0.0</td>\n",
       "      <td>0.041048</td>\n",
       "      <td>...</td>\n",
       "      <td>0.032413</td>\n",
       "      <td>0.0</td>\n",
       "      <td>0.044111</td>\n",
       "      <td>0.0</td>\n",
       "      <td>0.0</td>\n",
       "      <td>0.0</td>\n",
       "      <td>0.0</td>\n",
       "      <td>0.0</td>\n",
       "      <td>0.0</td>\n",
       "      <td>0.067335</td>\n",
       "      <td>0.0</td>\n",
       "      <td>0.0</td>\n",
       "      <td>0.0</td>\n",
       "      <td>0.092105</td>\n",
       "      <td>0.000000</td>\n",
       "    </tr>\n",
       "    <tr>\n",
       "      <th>136</th>\n",
       "      <td>0.0</td>\n",
       "      <td>0.0</td>\n",
       "      <td>0.000000</td>\n",
       "      <td>0.000000</td>\n",
       "      <td>0.0</td>\n",
       "      <td>0.0</td>\n",
       "      <td>0.0</td>\n",
       "      <td>0.0</td>\n",
       "      <td>0.000000</td>\n",
       "      <td>0.000000</td>\n",
       "      <td>0.0</td>\n",
       "      <td>0.0</td>\n",
       "      <td>0.000000</td>\n",
       "      <td>0.0</td>\n",
       "      <td>0.000000</td>\n",
       "      <td>...</td>\n",
       "      <td>0.000000</td>\n",
       "      <td>0.0</td>\n",
       "      <td>0.000000</td>\n",
       "      <td>0.0</td>\n",
       "      <td>0.0</td>\n",
       "      <td>0.0</td>\n",
       "      <td>0.0</td>\n",
       "      <td>0.0</td>\n",
       "      <td>0.0</td>\n",
       "      <td>0.000000</td>\n",
       "      <td>0.0</td>\n",
       "      <td>0.0</td>\n",
       "      <td>0.0</td>\n",
       "      <td>0.000000</td>\n",
       "      <td>0.000000</td>\n",
       "    </tr>\n",
       "    <tr>\n",
       "      <th>137</th>\n",
       "      <td>0.0</td>\n",
       "      <td>0.0</td>\n",
       "      <td>0.000000</td>\n",
       "      <td>0.000000</td>\n",
       "      <td>0.0</td>\n",
       "      <td>0.0</td>\n",
       "      <td>0.0</td>\n",
       "      <td>0.0</td>\n",
       "      <td>0.000000</td>\n",
       "      <td>0.000000</td>\n",
       "      <td>0.0</td>\n",
       "      <td>0.0</td>\n",
       "      <td>0.000000</td>\n",
       "      <td>0.0</td>\n",
       "      <td>0.000000</td>\n",
       "      <td>...</td>\n",
       "      <td>0.000000</td>\n",
       "      <td>0.0</td>\n",
       "      <td>0.000000</td>\n",
       "      <td>0.0</td>\n",
       "      <td>0.0</td>\n",
       "      <td>0.0</td>\n",
       "      <td>0.0</td>\n",
       "      <td>0.0</td>\n",
       "      <td>0.0</td>\n",
       "      <td>0.063409</td>\n",
       "      <td>0.0</td>\n",
       "      <td>0.0</td>\n",
       "      <td>0.0</td>\n",
       "      <td>0.000000</td>\n",
       "      <td>0.000000</td>\n",
       "    </tr>\n",
       "  </tbody>\n",
       "</table>\n",
       "<p>138 rows × 6071 columns</p>\n",
       "</div>"
      ],
      "text/plain": [
       "      آب  آجل     آخرين        آل  آلاف  آلة  آلت  آلي      آلية     آمنوا  \\\n",
       "0    0.0  0.0  0.149673  0.000000   0.0  0.0  0.0  0.0  0.000000  0.000000   \n",
       "1    0.0  0.0  0.000000  0.000000   0.0  0.0  0.0  0.0  0.000000  0.028424   \n",
       "2    0.0  0.0  0.000000  0.045895   0.0  0.0  0.0  0.0  0.065208  0.000000   \n",
       "3    0.0  0.0  0.000000  0.000000   0.0  0.0  0.0  0.0  0.000000  0.000000   \n",
       "4    0.0  0.0  0.000000  0.000000   0.0  0.0  0.0  0.0  0.000000  0.000000   \n",
       "..   ...  ...       ...       ...   ...  ...  ...  ...       ...       ...   \n",
       "133  0.0  0.0  0.000000  0.000000   0.0  0.0  0.0  0.0  0.000000  0.000000   \n",
       "134  0.0  0.0  0.000000  0.000000   0.0  0.0  0.0  0.0  0.000000  0.000000   \n",
       "135  0.0  0.0  0.000000  0.000000   0.0  0.0  0.0  0.0  0.000000  0.042470   \n",
       "136  0.0  0.0  0.000000  0.000000   0.0  0.0  0.0  0.0  0.000000  0.000000   \n",
       "137  0.0  0.0  0.000000  0.000000   0.0  0.0  0.0  0.0  0.000000  0.000000   \n",
       "\n",
       "     آنفا  آنفة      أبدا  أبرزها      أبرم  ...      يهدف  يوازي     يوافق  \\\n",
       "0     0.0   0.0  0.000000     0.0  0.000000  ...  0.047109    0.0  0.000000   \n",
       "1     0.0   0.0  0.000000     0.0  0.000000  ...  0.000000    0.0  0.000000   \n",
       "2     0.0   0.0  0.032604     0.0  0.000000  ...  0.000000    0.0  0.000000   \n",
       "3     0.0   0.0  0.000000     0.0  0.000000  ...  0.000000    0.0  0.000000   \n",
       "4     0.0   0.0  0.000000     0.0  0.000000  ...  0.000000    0.0  0.000000   \n",
       "..    ...   ...       ...     ...       ...  ...       ...    ...       ...   \n",
       "133   0.0   0.0  0.000000     0.0  0.000000  ...  0.000000    0.0  0.000000   \n",
       "134   0.0   0.0  0.000000     0.0  0.000000  ...  0.000000    0.0  0.000000   \n",
       "135   0.0   0.0  0.000000     0.0  0.041048  ...  0.032413    0.0  0.044111   \n",
       "136   0.0   0.0  0.000000     0.0  0.000000  ...  0.000000    0.0  0.000000   \n",
       "137   0.0   0.0  0.000000     0.0  0.000000  ...  0.000000    0.0  0.000000   \n",
       "\n",
       "     يوجب  يوجه  يود  يودان  يودع  يورد      يوسف  يوضح  يوفر  يوميا  \\\n",
       "0     0.0   0.0  0.0    0.0   0.0   0.0  0.000000   0.0   0.0    0.0   \n",
       "1     0.0   0.0  0.0    0.0   0.0   0.0  0.000000   0.0   0.0    0.0   \n",
       "2     0.0   0.0  0.0    0.0   0.0   0.0  0.000000   0.0   0.0    0.0   \n",
       "3     0.0   0.0  0.0    0.0   0.0   0.0  0.000000   0.0   0.0    0.0   \n",
       "4     0.0   0.0  0.0    0.0   0.0   0.0  0.000000   0.0   0.0    0.0   \n",
       "..    ...   ...  ...    ...   ...   ...       ...   ...   ...    ...   \n",
       "133   0.0   0.0  0.0    0.0   0.0   0.0  0.000000   0.0   0.0    0.0   \n",
       "134   0.0   0.0  0.0    0.0   0.0   0.0  0.000000   0.0   0.0    0.0   \n",
       "135   0.0   0.0  0.0    0.0   0.0   0.0  0.067335   0.0   0.0    0.0   \n",
       "136   0.0   0.0  0.0    0.0   0.0   0.0  0.000000   0.0   0.0    0.0   \n",
       "137   0.0   0.0  0.0    0.0   0.0   0.0  0.063409   0.0   0.0    0.0   \n",
       "\n",
       "        يومين     يونيو  \n",
       "0    0.000000  0.000000  \n",
       "1    0.000000  0.000000  \n",
       "2    0.000000  0.000000  \n",
       "3    0.000000  0.000000  \n",
       "4    0.000000  0.082733  \n",
       "..        ...       ...  \n",
       "133  0.000000  0.000000  \n",
       "134  0.000000  0.000000  \n",
       "135  0.092105  0.000000  \n",
       "136  0.000000  0.000000  \n",
       "137  0.000000  0.000000  \n",
       "\n",
       "[138 rows x 6071 columns]"
      ]
     },
     "execution_count": 101,
     "metadata": {},
     "output_type": "execute_result"
    }
   ],
   "source": [
    "dt_tfidf = pd.DataFrame(x,columns=cv_tfidf.get_feature_names())\n",
    "dt_tfidf\n"
   ]
  },
  {
   "cell_type": "code",
   "execution_count": null,
   "id": "6210c95a",
   "metadata": {},
   "outputs": [],
   "source": []
  },
  {
   "cell_type": "code",
   "execution_count": null,
   "id": "0db897eb",
   "metadata": {},
   "outputs": [],
   "source": []
  },
  {
   "cell_type": "code",
   "execution_count": null,
   "id": "fc489fce",
   "metadata": {},
   "outputs": [],
   "source": []
  },
  {
   "cell_type": "code",
   "execution_count": null,
   "id": "4d209c85",
   "metadata": {},
   "outputs": [],
   "source": []
  },
  {
   "cell_type": "code",
   "execution_count": null,
   "id": "a186eea8",
   "metadata": {},
   "outputs": [],
   "source": []
  },
  {
   "cell_type": "code",
   "execution_count": null,
   "id": "b4e67338",
   "metadata": {},
   "outputs": [],
   "source": [
    "df.to_csv('new.csv',index=False)"
   ]
  }
 ],
 "metadata": {
  "kernelspec": {
   "display_name": "Python 3",
   "language": "python",
   "name": "python3"
  },
  "language_info": {
   "codemirror_mode": {
    "name": "ipython",
    "version": 3
   },
   "file_extension": ".py",
   "mimetype": "text/x-python",
   "name": "python",
   "nbconvert_exporter": "python",
   "pygments_lexer": "ipython3",
   "version": "3.8.8"
  }
 },
 "nbformat": 4,
 "nbformat_minor": 5
}
